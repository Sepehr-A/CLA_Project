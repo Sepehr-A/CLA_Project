{
 "cells": [
  {
   "cell_type": "markdown",
   "source": [
    "# Import Libs"
   ],
   "metadata": {
    "collapsed": false
   },
   "id": "b9792a0cf056c82d"
  },
  {
   "cell_type": "code",
   "outputs": [],
   "source": [
    "import random\n",
    "import pandas as pd\n",
    "import numpy as np\n"
   ],
   "metadata": {
    "collapsed": true,
    "ExecuteTime": {
     "end_time": "2024-01-11T21:09:23.162775200Z",
     "start_time": "2024-01-11T21:09:23.132619Z"
    }
   },
   "id": "initial_id",
   "execution_count": 4
  },
  {
   "cell_type": "markdown",
   "source": [
    "# 0. Preparation (Setting the Random State)"
   ],
   "metadata": {
    "collapsed": false
   },
   "id": "16d2427905f5d223"
  },
  {
   "cell_type": "code",
   "outputs": [],
   "source": [
    "rs = min(289456, 274211)\n",
    "np.random.seed(rs)"
   ],
   "metadata": {
    "collapsed": false,
    "ExecuteTime": {
     "end_time": "2024-01-11T21:09:25.272759600Z",
     "start_time": "2024-01-11T21:09:25.246750100Z"
    }
   },
   "id": "722f34f4fa3dd6a7",
   "execution_count": 5
  },
  {
   "cell_type": "markdown",
   "source": [
    "# Exercise 1 (Loading and Preparing the Data)"
   ],
   "metadata": {
    "collapsed": false
   },
   "id": "87c247187f587b20"
  },
  {
   "cell_type": "code",
   "outputs": [
    {
     "name": "stdout",
     "output_type": "stream",
     "text": [
      "Column to be dropped:  MntFruits\n"
     ]
    }
   ],
   "source": [
    "# 1.1 Load the CSV file into a pandas DataFrame\n",
    "df_tot = pd.read_csv('cla4lsp_customers.csv', sep='\\t')\n",
    "\n",
    "# 1.2 Create a sub-DF workdf with 2/3 of the original dataframe's rows (randomly sampled)\n",
    "workdf = df_tot.sample(frac=2 / 3, random_state=rs)\n",
    "# 1.3 hard-code labels and feature\n",
    "labels = ['NumDealsPurchases', 'AcceptedCmp1', 'AcceptedCmp2', 'AcceptedCmp3', 'AcceptedCmp4',\n",
    "          'AcceptedCmp5', 'Recency', 'Complain', 'Recency']\n",
    "features = ['Education', 'Marital_Status', 'Year_Birth', 'Income', 'Kidhome', 'Teenhome', 'Dt_Customer', 'MntWines',\n",
    "            'MntFruits', 'MntMeatProducts', 'MntFishProducts', 'MntSweetProducts', 'MntGoldProds', 'NumWebPurchases',\n",
    "            'NumCatalogPurchases', 'NumStorePurchases', 'NumWebVisitsMonth']\n",
    "\n",
    "# 1.4 Remove one feature column randomly from spending or purchasing habits\n",
    "spending_columns = ['MntWines', 'MntFruits', 'MntMeatProducts', 'MntFishProducts',\n",
    "                    'MntSweetProducts', 'MntGoldProds', 'NumWebPurchases',\n",
    "                    'NumCatalogPurchases', 'NumStorePurchases']\n",
    "column_to_remove = np.random.choice(spending_columns)\n",
    "print(\"Column to be dropped: \", column_to_remove)\n",
    "features.remove(column_to_remove)\n",
    "workdf.drop([column_to_remove],axis=1,inplace=True)"
   ],
   "metadata": {
    "collapsed": false,
    "ExecuteTime": {
     "end_time": "2024-01-11T22:37:52.995150600Z",
     "start_time": "2024-01-11T22:37:52.898123200Z"
    }
   },
   "id": "7393a0b648502a90",
   "execution_count": 66
  },
  {
   "cell_type": "code",
   "outputs": [
    {
     "data": {
      "text/plain": "ID                      0\nYear_Birth              0\nEducation               0\nMarital_Status          0\nIncome                 17\nKidhome                 0\nTeenhome                0\nDt_Customer             0\nRecency                 0\nMntWines                0\nMntMeatProducts         0\nMntFishProducts         0\nMntSweetProducts        0\nMntGoldProds            0\nNumDealsPurchases       0\nNumWebPurchases         0\nNumCatalogPurchases     0\nNumStorePurchases       0\nNumWebVisitsMonth       0\nAcceptedCmp3            0\nAcceptedCmp4            0\nAcceptedCmp5            0\nAcceptedCmp1            0\nAcceptedCmp2            0\nComplain                0\nZ_CostContact           0\nZ_Revenue               0\nResponse                0\ndtype: int64"
     },
     "execution_count": 67,
     "metadata": {},
     "output_type": "execute_result"
    }
   ],
   "source": [
    "workdf.isnull().sum()"
   ],
   "metadata": {
    "collapsed": false,
    "ExecuteTime": {
     "end_time": "2024-01-11T22:38:04.187156100Z",
     "start_time": "2024-01-11T22:38:04.118159900Z"
    }
   },
   "id": "82e8e98b44ea7622",
   "execution_count": 67
  },
  {
   "cell_type": "markdown",
   "source": [
    "Since we have missing values in the income column we drop the missing values"
   ],
   "metadata": {
    "collapsed": false
   },
   "id": "defb8c949c7b3b6e"
  },
  {
   "cell_type": "code",
   "outputs": [
    {
     "data": {
      "text/plain": "ID                     0\nYear_Birth             0\nEducation              0\nMarital_Status         0\nIncome                 0\nKidhome                0\nTeenhome               0\nDt_Customer            0\nRecency                0\nMntWines               0\nMntMeatProducts        0\nMntFishProducts        0\nMntSweetProducts       0\nMntGoldProds           0\nNumDealsPurchases      0\nNumWebPurchases        0\nNumCatalogPurchases    0\nNumStorePurchases      0\nNumWebVisitsMonth      0\nAcceptedCmp3           0\nAcceptedCmp4           0\nAcceptedCmp5           0\nAcceptedCmp1           0\nAcceptedCmp2           0\nComplain               0\nZ_CostContact          0\nZ_Revenue              0\nResponse               0\ndtype: int64"
     },
     "execution_count": 68,
     "metadata": {},
     "output_type": "execute_result"
    }
   ],
   "source": [
    "# 1.5 Clean the dataset from missing values in the feature columns\n",
    "workdf.dropna(inplace=True)\n",
    "workdf.isnull().sum()\n"
   ],
   "metadata": {
    "collapsed": false,
    "ExecuteTime": {
     "end_time": "2024-01-11T22:38:14.441161600Z",
     "start_time": "2024-01-11T22:38:14.396160700Z"
    }
   },
   "id": "c829e75c17af4d30",
   "execution_count": 68
  },
  {
   "cell_type": "markdown",
   "source": [
    "# Exercise 2 (Encoding of Categorical Data)"
   ],
   "metadata": {
    "collapsed": false
   },
   "id": "224056b794bda41"
  },
  {
   "cell_type": "code",
   "outputs": [
    {
     "name": "stdout",
     "output_type": "stream",
     "text": [
      "<class 'pandas.core.frame.DataFrame'>\n",
      "Index: 1476 entries, 335 to 1224\n",
      "Data columns (total 16 columns):\n",
      " #   Column             Non-Null Count  Dtype  \n",
      "---  ------             --------------  -----  \n",
      " 0   Education          1476 non-null   object \n",
      " 1   Marital_Status     1476 non-null   object \n",
      " 2   Year_Birth         1476 non-null   int64  \n",
      " 3   Income             1476 non-null   float64\n",
      " 4   Kidhome            1476 non-null   int64  \n",
      " 5   Teenhome           1476 non-null   int64  \n",
      " 6   Dt_Customer        1476 non-null   object \n",
      " 7   MntWines           1476 non-null   int64  \n",
      " 8   MntFruits          1476 non-null   int64  \n",
      " 9   MntMeatProducts    1476 non-null   int64  \n",
      " 10  MntFishProducts    1476 non-null   int64  \n",
      " 11  MntSweetProducts   1476 non-null   int64  \n",
      " 12  MntGoldProds       1476 non-null   int64  \n",
      " 13  NumWebPurchases    1476 non-null   int64  \n",
      " 14  NumStorePurchases  1476 non-null   int64  \n",
      " 15  NumWebVisitsMonth  1476 non-null   int64  \n",
      "dtypes: float64(1), int64(12), object(3)\n",
      "memory usage: 196.0+ KB\n"
     ]
    }
   ],
   "source": [
    "features.info()"
   ],
   "metadata": {
    "collapsed": false,
    "ExecuteTime": {
     "end_time": "2024-01-11T22:30:51.585560500Z",
     "start_time": "2024-01-11T22:30:51.541563Z"
    }
   },
   "id": "a98d7c315007841b",
   "execution_count": 64
  },
  {
   "cell_type": "code",
   "outputs": [
    {
     "name": "stdout",
     "output_type": "stream",
     "text": [
      "<class 'pandas.core.frame.DataFrame'>\n",
      "Index: 1493 entries, 335 to 1224\n",
      "Data columns (total 29 columns):\n",
      " #   Column               Non-Null Count  Dtype  \n",
      "---  ------               --------------  -----  \n",
      " 0   ID                   1493 non-null   int64  \n",
      " 1   Year_Birth           1493 non-null   int64  \n",
      " 2   Education            1493 non-null   object \n",
      " 3   Marital_Status       1493 non-null   object \n",
      " 4   Income               1476 non-null   float64\n",
      " 5   Kidhome              1493 non-null   int64  \n",
      " 6   Teenhome             1493 non-null   int64  \n",
      " 7   Dt_Customer          1493 non-null   object \n",
      " 8   Recency              1493 non-null   int64  \n",
      " 9   MntWines             1493 non-null   int64  \n",
      " 10  MntFruits            1493 non-null   int64  \n",
      " 11  MntMeatProducts      1493 non-null   int64  \n",
      " 12  MntFishProducts      1493 non-null   int64  \n",
      " 13  MntSweetProducts     1493 non-null   int64  \n",
      " 14  MntGoldProds         1493 non-null   int64  \n",
      " 15  NumDealsPurchases    1493 non-null   int64  \n",
      " 16  NumWebPurchases      1493 non-null   int64  \n",
      " 17  NumCatalogPurchases  1493 non-null   int64  \n",
      " 18  NumStorePurchases    1493 non-null   int64  \n",
      " 19  NumWebVisitsMonth    1493 non-null   int64  \n",
      " 20  AcceptedCmp3         1493 non-null   int64  \n",
      " 21  AcceptedCmp4         1493 non-null   int64  \n",
      " 22  AcceptedCmp5         1493 non-null   int64  \n",
      " 23  AcceptedCmp1         1493 non-null   int64  \n",
      " 24  AcceptedCmp2         1493 non-null   int64  \n",
      " 25  Complain             1493 non-null   int64  \n",
      " 26  Z_CostContact        1493 non-null   int64  \n",
      " 27  Z_Revenue            1493 non-null   int64  \n",
      " 28  Response             1493 non-null   int64  \n",
      "dtypes: float64(1), int64(25), object(3)\n",
      "memory usage: 349.9+ KB\n"
     ]
    }
   ],
   "source": [
    "workdf.info()"
   ],
   "metadata": {
    "collapsed": false,
    "ExecuteTime": {
     "end_time": "2024-01-11T22:31:55.572235800Z",
     "start_time": "2024-01-11T22:31:55.416236300Z"
    }
   },
   "id": "c32c4b8790b968c4",
   "execution_count": 65
  },
  {
   "cell_type": "code",
   "outputs": [],
   "source": [],
   "metadata": {
    "collapsed": false
   },
   "id": "f228a551e058517b"
  }
 ],
 "metadata": {
  "kernelspec": {
   "display_name": "Python 3",
   "language": "python",
   "name": "python3"
  },
  "language_info": {
   "codemirror_mode": {
    "name": "ipython",
    "version": 2
   },
   "file_extension": ".py",
   "mimetype": "text/x-python",
   "name": "python",
   "nbconvert_exporter": "python",
   "pygments_lexer": "ipython2",
   "version": "2.7.6"
  }
 },
 "nbformat": 4,
 "nbformat_minor": 5
}
