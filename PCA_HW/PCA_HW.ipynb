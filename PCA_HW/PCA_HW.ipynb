{
 "cells": [
  {
   "cell_type": "markdown",
   "metadata": {},
   "source": [
    "# Importing Libraries"
   ]
  },
  {
   "cell_type": "code",
   "execution_count": 7,
   "metadata": {
    "is_executing": true
   },
   "outputs": [],
   "source": [
    "import numpy as np\n",
    "import pandas as pd\n",
    "import random"
   ]
  },
  {
   "cell_type": "markdown",
   "metadata": {},
   "source": [
    "# 3.3.2 The Homework Exercises"
   ]
  },
  {
   "cell_type": "markdown",
   "metadata": {},
   "source": [
    "## 1. Preparation (Setting the Random State)\n"
   ]
  },
  {
   "cell_type": "code",
   "execution_count": 3,
   "metadata": {},
   "outputs": [],
   "source": [
    "np.random.seed(289456)"
   ]
  },
  {
   "cell_type": "markdown",
   "metadata": {},
   "source": [
    "## 2. Exercise 1 (Loading and Preparing the Data)"
   ]
  },
  {
   "cell_type": "code",
   "execution_count": 12,
   "metadata": {},
   "outputs": [],
   "source": [
    "# Load the CSV file into a DataFrame\n",
    "df_tot = pd.read_csv('cla4lsp_bikez_curated.csv')\n",
    "\n",
    "# The Shape of the dataframe\n",
    "print(f\"Shape of the dataset: {df_tot.shape}\")\n",
    "\n",
    "# Select a random integer between 0, 1, and 2\n",
    "r = random.randint(0, 2)\n",
    "\n",
    "# Create a sub-DataFrame (workdf) containing data corresponding to years with a remainder of r when divided by three\n",
    "workdf = df_tot[df_tot['Year'] % 3 == r]\n",
    "\n",
    "# Define the labels and features columns\n",
    "labels = ['Brand', 'Model', 'Year', 'Category', 'Rating']\n",
    "features = [col for col in workdf.columns if col not in labels]\n",
    "\n",
    "# Select two random columns from the features\n",
    "columns_to_remove = random.sample(features, 2)\n",
    "\n",
    "# Remove the selected columns from workdf\n",
    "workdf = workdf.drop(columns=columns_to_remove)\n",
    "\n",
    "\n"
   ]
  },
  {
   "cell_type": "code",
   "execution_count": 10,
   "metadata": {},
   "outputs": [
    {
     "data": {
      "text/plain": [
       "Index(['Brand', 'Model', 'Year', 'Category', 'Rating', 'Displacement (ccm)',\n",
       "       'Power (hp)', 'Torque (Nm)', 'Engine cylinder', 'Engine stroke',\n",
       "       'Gearbox', 'Bore (mm)', 'Stroke (mm)', 'Fuel capacity (lts)',\n",
       "       'Fuel control', 'Cooling system', 'Transmission type',\n",
       "       'Dry weight (kg)', 'Wheelbase (mm)', 'Seat height (mm)', 'Fuel system',\n",
       "       'Front brakes', 'Rear brakes', 'Front tire', 'Rear tire',\n",
       "       'Front suspension', 'Rear suspension'],\n",
       "      dtype='object')"
      ]
     },
     "execution_count": 10,
     "metadata": {},
     "output_type": "execute_result"
    }
   ],
   "source": [
    "df_tot.columns"
   ]
  },
  {
   "cell_type": "code",
   "execution_count": 23,
   "metadata": {},
   "outputs": [
    {
     "name": "stdout",
     "output_type": "stream",
     "text": [
      "Brand                  0\n",
      "Model                  0\n",
      "Year                   0\n",
      "Category               0\n",
      "Rating                 0\n",
      "Displacement (ccm)     0\n",
      "Power (hp)             0\n",
      "Torque (Nm)            0\n",
      "Engine cylinder        0\n",
      "Engine stroke          0\n",
      "Gearbox                0\n",
      "Bore (mm)              0\n",
      "Fuel capacity (lts)    0\n",
      "Fuel control           0\n",
      "Cooling system         0\n",
      "Transmission type      0\n",
      "Dry weight (kg)        0\n",
      "Wheelbase (mm)         0\n",
      "Seat height (mm)       0\n",
      "Fuel system            0\n",
      "Front brakes           0\n",
      "Front tire             0\n",
      "Rear tire              0\n",
      "Front suspension       0\n",
      "Rear suspension        0\n",
      "dtype: int64\n",
      "---------------------------\n",
      "Brand                   61\n",
      "Model                  979\n",
      "Year                    18\n",
      "Category                15\n",
      "Rating                  23\n",
      "Displacement (ccm)     287\n",
      "Power (hp)             339\n",
      "Torque (Nm)            297\n",
      "Engine cylinder         11\n",
      "Engine stroke            3\n",
      "Gearbox                  7\n",
      "Bore (mm)              114\n",
      "Fuel capacity (lts)    144\n",
      "Fuel control            10\n",
      "Cooling system           4\n",
      "Transmission type        4\n",
      "Dry weight (kg)        334\n",
      "Wheelbase (mm)         238\n",
      "Seat height (mm)       150\n",
      "Fuel system              7\n",
      "Front brakes            39\n",
      "Front tire              10\n",
      "Rear tire                6\n",
      "Front suspension         6\n",
      "Rear suspension          9\n",
      "dtype: int64\n"
     ]
    }
   ],
   "source": [
    "missing_values_count = workdf.isnull().sum()\n",
    "print(missing_values_count)\n",
    "print(\"---------------------------\")\n",
    "distinct_values_count = workdf.nunique()\n",
    "print(distinct_values_count)\n"
   ]
  },
  {
   "cell_type": "code",
   "execution_count": 22,
   "metadata": {},
   "outputs": [],
   "source": [
    "# Fill missing values in categorical columns with a designated category (e.g., \"Unknown\")\n",
    "categorical_columns = workdf.select_dtypes(include=['object']).columns\n",
    "workdf[categorical_columns] = workdf[categorical_columns].fillna(\"Unknown\")\n",
    "\n",
    "# Drop rows with missing values in numeric columns\n",
    "numeric_columns = workdf.select_dtypes(include=['int64', 'float64']).columns\n",
    "workdf = workdf.dropna(subset=numeric_columns)\n"
   ]
  },
  {
   "cell_type": "code",
   "execution_count": 14,
   "metadata": {},
   "outputs": [
    {
     "data": {
      "text/plain": [
       "Index(['Brand', 'Model', 'Category', 'Engine cylinder', 'Engine stroke',\n",
       "       'Gearbox', 'Fuel control', 'Cooling system', 'Transmission type',\n",
       "       'Fuel system', 'Front brakes', 'Front tire', 'Rear tire',\n",
       "       'Front suspension', 'Rear suspension'],\n",
       "      dtype='object')"
      ]
     },
     "execution_count": 14,
     "metadata": {},
     "output_type": "execute_result"
    }
   ],
   "source": [
    "categorical_columns\n"
   ]
  },
  {
   "cell_type": "code",
   "execution_count": 17,
   "metadata": {},
   "outputs": [
    {
     "name": "stdout",
     "output_type": "stream",
     "text": [
      "Brand                 450\n",
      "Model                9156\n",
      "Category               18\n",
      "Engine cylinder        22\n",
      "Engine stroke          10\n",
      "Gearbox                14\n",
      "Fuel control           15\n",
      "Cooling system          4\n",
      "Transmission type       4\n",
      "Fuel system             8\n",
      "Front brakes           80\n",
      "Front tire             10\n",
      "Rear tire               6\n",
      "Front suspension        7\n",
      "Rear suspension        11\n",
      "dtype: int64\n"
     ]
    }
   ],
   "source": [
    "distinct_values_count = workdf[categorical_columns].nunique()\n",
    "print(distinct_values_count)"
   ]
  },
  {
   "cell_type": "markdown",
   "metadata": {},
   "source": [
    "# Exercise 2 (Encoding of Categorical Data)"
   ]
  },
  {
   "cell_type": "code",
   "execution_count": 24,
   "metadata": {},
   "outputs": [
    {
     "data": {
      "text/html": [
       "<div>\n",
       "<style scoped>\n",
       "    .dataframe tbody tr th:only-of-type {\n",
       "        vertical-align: middle;\n",
       "    }\n",
       "\n",
       "    .dataframe tbody tr th {\n",
       "        vertical-align: top;\n",
       "    }\n",
       "\n",
       "    .dataframe thead th {\n",
       "        text-align: right;\n",
       "    }\n",
       "</style>\n",
       "<table border=\"1\" class=\"dataframe\">\n",
       "  <thead>\n",
       "    <tr style=\"text-align: right;\">\n",
       "      <th></th>\n",
       "      <th>Brand</th>\n",
       "      <th>Model</th>\n",
       "      <th>Year</th>\n",
       "      <th>Category</th>\n",
       "      <th>Rating</th>\n",
       "      <th>Displacement (ccm)</th>\n",
       "      <th>Power (hp)</th>\n",
       "      <th>Torque (Nm)</th>\n",
       "      <th>Engine cylinder</th>\n",
       "      <th>Engine stroke</th>\n",
       "      <th>...</th>\n",
       "      <th>Transmission type</th>\n",
       "      <th>Dry weight (kg)</th>\n",
       "      <th>Wheelbase (mm)</th>\n",
       "      <th>Seat height (mm)</th>\n",
       "      <th>Fuel system</th>\n",
       "      <th>Front brakes</th>\n",
       "      <th>Front tire</th>\n",
       "      <th>Rear tire</th>\n",
       "      <th>Front suspension</th>\n",
       "      <th>Rear suspension</th>\n",
       "    </tr>\n",
       "  </thead>\n",
       "  <tbody>\n",
       "    <tr>\n",
       "      <th>47</th>\n",
       "      <td>adiva</td>\n",
       "      <td>ad3 400</td>\n",
       "      <td>2018</td>\n",
       "      <td>Scooter</td>\n",
       "      <td>3.3</td>\n",
       "      <td>399.0</td>\n",
       "      <td>36.7</td>\n",
       "      <td>38.1</td>\n",
       "      <td>Single cylinder</td>\n",
       "      <td>four-stroke</td>\n",
       "      <td>...</td>\n",
       "      <td>Not Given/Unknown</td>\n",
       "      <td>257.0</td>\n",
       "      <td>1560.0</td>\n",
       "      <td>770.0</td>\n",
       "      <td>injection</td>\n",
       "      <td>single disc</td>\n",
       "      <td>other</td>\n",
       "      <td>other</td>\n",
       "      <td>other</td>\n",
       "      <td>other</td>\n",
       "    </tr>\n",
       "    <tr>\n",
       "      <th>184</th>\n",
       "      <td>aeon</td>\n",
       "      <td>cobra 220</td>\n",
       "      <td>2009</td>\n",
       "      <td>ATV</td>\n",
       "      <td>3.1</td>\n",
       "      <td>196.0</td>\n",
       "      <td>12.1</td>\n",
       "      <td>13.6</td>\n",
       "      <td>Single cylinder</td>\n",
       "      <td>four-stroke</td>\n",
       "      <td>...</td>\n",
       "      <td>Chain</td>\n",
       "      <td>193.0</td>\n",
       "      <td>1155.0</td>\n",
       "      <td>790.0</td>\n",
       "      <td>carburettor. other</td>\n",
       "      <td>double disc</td>\n",
       "      <td>other</td>\n",
       "      <td>other</td>\n",
       "      <td>other</td>\n",
       "      <td>other</td>\n",
       "    </tr>\n",
       "    <tr>\n",
       "      <th>187</th>\n",
       "      <td>aeon</td>\n",
       "      <td>cobra 320</td>\n",
       "      <td>2009</td>\n",
       "      <td>ATV</td>\n",
       "      <td>2.7</td>\n",
       "      <td>272.3</td>\n",
       "      <td>19.4</td>\n",
       "      <td>19.0</td>\n",
       "      <td>Single cylinder</td>\n",
       "      <td>four-stroke</td>\n",
       "      <td>...</td>\n",
       "      <td>Chain</td>\n",
       "      <td>211.0</td>\n",
       "      <td>1300.0</td>\n",
       "      <td>790.0</td>\n",
       "      <td>carburettor. other</td>\n",
       "      <td>double disc</td>\n",
       "      <td>other</td>\n",
       "      <td>other</td>\n",
       "      <td>other</td>\n",
       "      <td>other</td>\n",
       "    </tr>\n",
       "    <tr>\n",
       "      <th>189</th>\n",
       "      <td>aeon</td>\n",
       "      <td>cobra 400</td>\n",
       "      <td>2012</td>\n",
       "      <td>ATV</td>\n",
       "      <td>3.4</td>\n",
       "      <td>346.0</td>\n",
       "      <td>20.1</td>\n",
       "      <td>30.0</td>\n",
       "      <td>Single cylinder</td>\n",
       "      <td>four-stroke</td>\n",
       "      <td>...</td>\n",
       "      <td>Not Given/Unknown</td>\n",
       "      <td>207.0</td>\n",
       "      <td>1300.0</td>\n",
       "      <td>790.0</td>\n",
       "      <td>carburettor. other</td>\n",
       "      <td>double disc</td>\n",
       "      <td>other</td>\n",
       "      <td>other</td>\n",
       "      <td>other</td>\n",
       "      <td>other</td>\n",
       "    </tr>\n",
       "    <tr>\n",
       "      <th>193</th>\n",
       "      <td>aeon</td>\n",
       "      <td>cobra 50</td>\n",
       "      <td>2009</td>\n",
       "      <td>ATV</td>\n",
       "      <td>3.5</td>\n",
       "      <td>49.0</td>\n",
       "      <td>3.6</td>\n",
       "      <td>4.5</td>\n",
       "      <td>Single cylinder</td>\n",
       "      <td>two-stroke</td>\n",
       "      <td>...</td>\n",
       "      <td>Shaft drive</td>\n",
       "      <td>130.0</td>\n",
       "      <td>1050.0</td>\n",
       "      <td>800.0</td>\n",
       "      <td>carburettor. other</td>\n",
       "      <td>expanding brake (drum brake)</td>\n",
       "      <td>other</td>\n",
       "      <td>other</td>\n",
       "      <td>other</td>\n",
       "      <td>other</td>\n",
       "    </tr>\n",
       "  </tbody>\n",
       "</table>\n",
       "<p>5 rows × 25 columns</p>\n",
       "</div>"
      ],
      "text/plain": [
       "     Brand      Model  Year Category  Rating  Displacement (ccm)  Power (hp)  \\\n",
       "47   adiva    ad3 400  2018  Scooter     3.3               399.0        36.7   \n",
       "184   aeon  cobra 220  2009      ATV     3.1               196.0        12.1   \n",
       "187   aeon  cobra 320  2009      ATV     2.7               272.3        19.4   \n",
       "189   aeon  cobra 400  2012      ATV     3.4               346.0        20.1   \n",
       "193   aeon   cobra 50  2009      ATV     3.5                49.0         3.6   \n",
       "\n",
       "     Torque (Nm)  Engine cylinder Engine stroke  ...  Transmission type  \\\n",
       "47          38.1  Single cylinder   four-stroke  ...  Not Given/Unknown   \n",
       "184         13.6  Single cylinder   four-stroke  ...              Chain   \n",
       "187         19.0  Single cylinder   four-stroke  ...              Chain   \n",
       "189         30.0  Single cylinder   four-stroke  ...  Not Given/Unknown   \n",
       "193          4.5  Single cylinder    two-stroke  ...        Shaft drive   \n",
       "\n",
       "     Dry weight (kg)  Wheelbase (mm) Seat height (mm)         Fuel system  \\\n",
       "47             257.0          1560.0            770.0           injection   \n",
       "184            193.0          1155.0            790.0  carburettor. other   \n",
       "187            211.0          1300.0            790.0  carburettor. other   \n",
       "189            207.0          1300.0            790.0  carburettor. other   \n",
       "193            130.0          1050.0            800.0  carburettor. other   \n",
       "\n",
       "                     Front brakes  Front tire  Rear tire  Front suspension  \\\n",
       "47                    single disc       other      other             other   \n",
       "184                   double disc       other      other             other   \n",
       "187                   double disc       other      other             other   \n",
       "189                   double disc       other      other             other   \n",
       "193  expanding brake (drum brake)       other      other             other   \n",
       "\n",
       "    Rear suspension  \n",
       "47            other  \n",
       "184           other  \n",
       "187           other  \n",
       "189           other  \n",
       "193           other  \n",
       "\n",
       "[5 rows x 25 columns]"
      ]
     },
     "execution_count": 24,
     "metadata": {},
     "output_type": "execute_result"
    }
   ],
   "source": [
    "workdf.head()\n"
   ]
  }
 ],
 "metadata": {
  "kernelspec": {
   "display_name": "Python 3 (ipykernel)",
   "language": "python",
   "name": "python3"
  },
  "language_info": {
   "codemirror_mode": {
    "name": "ipython",
    "version": 3
   },
   "file_extension": ".py",
   "mimetype": "text/x-python",
   "name": "python",
   "nbconvert_exporter": "python",
   "pygments_lexer": "ipython3",
   "version": "3.9.6"
  }
 },
 "nbformat": 4,
 "nbformat_minor": 1
}
