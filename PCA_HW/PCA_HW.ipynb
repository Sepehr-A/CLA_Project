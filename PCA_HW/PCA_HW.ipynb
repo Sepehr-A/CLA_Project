{
 "cells": [
  {
   "cell_type": "markdown",
   "metadata": {},
   "source": [
    "# PCA Homework"
   ]
  },
  {
   "cell_type": "markdown",
   "metadata": {},
   "source": [
    "## 1. Preparation and Libraries\n"
   ]
  },
  {
   "cell_type": "code",
   "execution_count": 53,
   "metadata": {
    "ExecuteTime": {
     "end_time": "2023-07-26T16:15:06.140074900Z",
     "start_time": "2023-07-26T16:15:03.719550Z"
    }
   },
   "outputs": [],
   "source": [
    "import numpy as np\n",
    "import pandas as pd\n",
    "import random\n",
    "import matplotlib.pyplot as plt\n",
    "import seaborn as sns\n",
    "from sklearn.impute import KNNImputer\n",
    "\n",
    "np.random.seed(289456)"
   ]
  },
  {
   "cell_type": "markdown",
   "metadata": {},
   "source": [
    "## 2. Exercise 1 (Loading and Preparing the Data)"
   ]
  },
  {
   "cell_type": "code",
   "execution_count": 65,
   "metadata": {
    "ExecuteTime": {
     "end_time": "2023-07-26T16:15:06.582891Z",
     "start_time": "2023-07-26T16:15:06.137083900Z"
    }
   },
   "outputs": [
    {
     "name": "stdout",
     "output_type": "stream",
     "text": [
      "Shape of the original dataset: (38472, 27)\n",
      "Columns to be removed: ['Rear tire', 'Rear brakes']\n",
      "Shape of the workdf dataset: (12266, 25)\n",
      "20\n"
     ]
    }
   ],
   "source": [
    "# (a) Load the CSV file into a DataFrame\n",
    "df_tot = pd.read_csv('cla4lsp_bikez_curated.csv')\n",
    "print(f\"Shape of the original dataset: {df_tot.shape}\")\n",
    "\n",
    "# (b) Select a random integer between 0, 1, and 2\n",
    "r = random.randint(0, 2)\n",
    "\n",
    "# (b) Create a sub-DataFrame (workdf) containing data corresponding to years with a remainder of r when divided by three\n",
    "workdf = df_tot[df_tot['Year'] % 3 == r]\n",
    "\n",
    "# (c) Define the labels and features columns\n",
    "labels = ['Brand', 'Model', 'Year', 'Category', 'Rating']\n",
    "features = [col for col in df_tot.columns if col not in labels]\n",
    "\n",
    "# Select and Remove two random columns from the features\n",
    "columns_to_remove = random.sample(['Front brakes','Rear brakes','Front tire','Rear tire','Front suspension','Rear suspension'], 2)\n",
    "print(f\"Columns to be removed: {columns_to_remove}\")\n",
    "features = list(filter(lambda i: i not in columns_to_remove, features))\n",
    "workdf = workdf.drop(columns=columns_to_remove)\n",
    "print(f\"Shape of the workdf dataset: {workdf.shape}\")\n",
    "print(len(features))"
   ]
  },
  {
   "cell_type": "code",
   "execution_count": 66,
   "metadata": {
    "ExecuteTime": {
     "end_time": "2023-07-26T16:15:06.696588Z",
     "start_time": "2023-07-26T16:15:06.587877200Z"
    }
   },
   "outputs": [],
   "source": [
    "# 'Unspecified category', 'Not Given/Unknown', 'not given/unknown'\n",
    "# make the null vals of categorical columns recognizable by pandas\n",
    "null_values=['Unspecified category', 'Not Given/Unknown', 'not given/unknown']\n",
    "workdf.replace(null_values,np.nan,inplace=True)\n"
   ]
  },
  {
   "cell_type": "code",
   "execution_count": 67,
   "metadata": {
    "ExecuteTime": {
     "end_time": "2023-07-26T16:15:06.866133300Z",
     "start_time": "2023-07-26T16:15:06.676640200Z"
    }
   },
   "outputs": [
    {
     "data": {
      "text/html": [
       "<div>\n",
       "<style scoped>\n",
       "    .dataframe tbody tr th:only-of-type {\n",
       "        vertical-align: middle;\n",
       "    }\n",
       "\n",
       "    .dataframe tbody tr th {\n",
       "        vertical-align: top;\n",
       "    }\n",
       "\n",
       "    .dataframe thead th {\n",
       "        text-align: right;\n",
       "    }\n",
       "</style>\n",
       "<table border=\"1\" class=\"dataframe\">\n",
       "  <thead>\n",
       "    <tr style=\"text-align: right;\">\n",
       "      <th></th>\n",
       "      <th>Null Count</th>\n",
       "      <th>Null Percentage</th>\n",
       "      <th>Non-Null Count</th>\n",
       "      <th>Distinct Count</th>\n",
       "      <th>DType</th>\n",
       "      <th>Categorical</th>\n",
       "    </tr>\n",
       "  </thead>\n",
       "  <tbody>\n",
       "    <tr>\n",
       "      <th>Torque (Nm)</th>\n",
       "      <td>7256</td>\n",
       "      <td>59.155389</td>\n",
       "      <td>5010</td>\n",
       "      <td>580</td>\n",
       "      <td>float64</td>\n",
       "      <td>False</td>\n",
       "    </tr>\n",
       "    <tr>\n",
       "      <th>Fuel control</th>\n",
       "      <td>5438</td>\n",
       "      <td>44.333931</td>\n",
       "      <td>6828</td>\n",
       "      <td>14</td>\n",
       "      <td>object</td>\n",
       "      <td>True</td>\n",
       "    </tr>\n",
       "    <tr>\n",
       "      <th>Dry weight (kg)</th>\n",
       "      <td>5079</td>\n",
       "      <td>41.407142</td>\n",
       "      <td>7187</td>\n",
       "      <td>946</td>\n",
       "      <td>float64</td>\n",
       "      <td>False</td>\n",
       "    </tr>\n",
       "    <tr>\n",
       "      <th>Rating</th>\n",
       "      <td>5039</td>\n",
       "      <td>41.081037</td>\n",
       "      <td>7227</td>\n",
       "      <td>31</td>\n",
       "      <td>float64</td>\n",
       "      <td>False</td>\n",
       "    </tr>\n",
       "    <tr>\n",
       "      <th>Seat height (mm)</th>\n",
       "      <td>4755</td>\n",
       "      <td>38.765694</td>\n",
       "      <td>7511</td>\n",
       "      <td>309</td>\n",
       "      <td>float64</td>\n",
       "      <td>False</td>\n",
       "    </tr>\n",
       "    <tr>\n",
       "      <th>Wheelbase (mm)</th>\n",
       "      <td>4286</td>\n",
       "      <td>34.942116</td>\n",
       "      <td>7980</td>\n",
       "      <td>561</td>\n",
       "      <td>float64</td>\n",
       "      <td>False</td>\n",
       "    </tr>\n",
       "    <tr>\n",
       "      <th>Rear suspension</th>\n",
       "      <td>4173</td>\n",
       "      <td>34.020871</td>\n",
       "      <td>8093</td>\n",
       "      <td>11</td>\n",
       "      <td>object</td>\n",
       "      <td>True</td>\n",
       "    </tr>\n",
       "    <tr>\n",
       "      <th>Front suspension</th>\n",
       "      <td>4016</td>\n",
       "      <td>32.740910</td>\n",
       "      <td>8250</td>\n",
       "      <td>6</td>\n",
       "      <td>object</td>\n",
       "      <td>True</td>\n",
       "    </tr>\n",
       "    <tr>\n",
       "      <th>Power (hp)</th>\n",
       "      <td>4000</td>\n",
       "      <td>32.610468</td>\n",
       "      <td>8266</td>\n",
       "      <td>607</td>\n",
       "      <td>float64</td>\n",
       "      <td>False</td>\n",
       "    </tr>\n",
       "    <tr>\n",
       "      <th>Fuel system</th>\n",
       "      <td>3555</td>\n",
       "      <td>28.982553</td>\n",
       "      <td>8711</td>\n",
       "      <td>7</td>\n",
       "      <td>object</td>\n",
       "      <td>True</td>\n",
       "    </tr>\n",
       "    <tr>\n",
       "      <th>Bore (mm)</th>\n",
       "      <td>3230</td>\n",
       "      <td>26.332953</td>\n",
       "      <td>9036</td>\n",
       "      <td>233</td>\n",
       "      <td>float64</td>\n",
       "      <td>False</td>\n",
       "    </tr>\n",
       "    <tr>\n",
       "      <th>Stroke (mm)</th>\n",
       "      <td>3230</td>\n",
       "      <td>26.332953</td>\n",
       "      <td>9036</td>\n",
       "      <td>332</td>\n",
       "      <td>float64</td>\n",
       "      <td>False</td>\n",
       "    </tr>\n",
       "    <tr>\n",
       "      <th>Fuel capacity (lts)</th>\n",
       "      <td>2135</td>\n",
       "      <td>17.405837</td>\n",
       "      <td>10131</td>\n",
       "      <td>368</td>\n",
       "      <td>float64</td>\n",
       "      <td>False</td>\n",
       "    </tr>\n",
       "    <tr>\n",
       "      <th>Gearbox</th>\n",
       "      <td>2039</td>\n",
       "      <td>16.623186</td>\n",
       "      <td>10227</td>\n",
       "      <td>15</td>\n",
       "      <td>object</td>\n",
       "      <td>True</td>\n",
       "    </tr>\n",
       "    <tr>\n",
       "      <th>Transmission type</th>\n",
       "      <td>2035</td>\n",
       "      <td>16.590576</td>\n",
       "      <td>10231</td>\n",
       "      <td>3</td>\n",
       "      <td>object</td>\n",
       "      <td>True</td>\n",
       "    </tr>\n",
       "    <tr>\n",
       "      <th>Cooling system</th>\n",
       "      <td>1342</td>\n",
       "      <td>10.940812</td>\n",
       "      <td>10924</td>\n",
       "      <td>3</td>\n",
       "      <td>object</td>\n",
       "      <td>True</td>\n",
       "    </tr>\n",
       "    <tr>\n",
       "      <th>Front brakes</th>\n",
       "      <td>479</td>\n",
       "      <td>3.905104</td>\n",
       "      <td>11787</td>\n",
       "      <td>78</td>\n",
       "      <td>object</td>\n",
       "      <td>True</td>\n",
       "    </tr>\n",
       "    <tr>\n",
       "      <th>Displacement (ccm)</th>\n",
       "      <td>363</td>\n",
       "      <td>2.959400</td>\n",
       "      <td>11903</td>\n",
       "      <td>1029</td>\n",
       "      <td>float64</td>\n",
       "      <td>False</td>\n",
       "    </tr>\n",
       "    <tr>\n",
       "      <th>Category</th>\n",
       "      <td>274</td>\n",
       "      <td>2.233817</td>\n",
       "      <td>11992</td>\n",
       "      <td>17</td>\n",
       "      <td>object</td>\n",
       "      <td>True</td>\n",
       "    </tr>\n",
       "    <tr>\n",
       "      <th>Model</th>\n",
       "      <td>8</td>\n",
       "      <td>0.065221</td>\n",
       "      <td>12258</td>\n",
       "      <td>9037</td>\n",
       "      <td>object</td>\n",
       "      <td>True</td>\n",
       "    </tr>\n",
       "    <tr>\n",
       "      <th>Engine stroke</th>\n",
       "      <td>0</td>\n",
       "      <td>0.000000</td>\n",
       "      <td>12266</td>\n",
       "      <td>9</td>\n",
       "      <td>object</td>\n",
       "      <td>True</td>\n",
       "    </tr>\n",
       "    <tr>\n",
       "      <th>Engine cylinder</th>\n",
       "      <td>0</td>\n",
       "      <td>0.000000</td>\n",
       "      <td>12266</td>\n",
       "      <td>20</td>\n",
       "      <td>object</td>\n",
       "      <td>True</td>\n",
       "    </tr>\n",
       "    <tr>\n",
       "      <th>Front tire</th>\n",
       "      <td>0</td>\n",
       "      <td>0.000000</td>\n",
       "      <td>12266</td>\n",
       "      <td>10</td>\n",
       "      <td>object</td>\n",
       "      <td>True</td>\n",
       "    </tr>\n",
       "    <tr>\n",
       "      <th>Year</th>\n",
       "      <td>0</td>\n",
       "      <td>0.000000</td>\n",
       "      <td>12266</td>\n",
       "      <td>43</td>\n",
       "      <td>int64</td>\n",
       "      <td>False</td>\n",
       "    </tr>\n",
       "    <tr>\n",
       "      <th>Brand</th>\n",
       "      <td>0</td>\n",
       "      <td>0.000000</td>\n",
       "      <td>12266</td>\n",
       "      <td>459</td>\n",
       "      <td>object</td>\n",
       "      <td>True</td>\n",
       "    </tr>\n",
       "  </tbody>\n",
       "</table>\n",
       "</div>"
      ],
      "text/plain": [
       "                     Null Count  Null Percentage  Non-Null Count  \\\n",
       "Torque (Nm)                7256        59.155389            5010   \n",
       "Fuel control               5438        44.333931            6828   \n",
       "Dry weight (kg)            5079        41.407142            7187   \n",
       "Rating                     5039        41.081037            7227   \n",
       "Seat height (mm)           4755        38.765694            7511   \n",
       "Wheelbase (mm)             4286        34.942116            7980   \n",
       "Rear suspension            4173        34.020871            8093   \n",
       "Front suspension           4016        32.740910            8250   \n",
       "Power (hp)                 4000        32.610468            8266   \n",
       "Fuel system                3555        28.982553            8711   \n",
       "Bore (mm)                  3230        26.332953            9036   \n",
       "Stroke (mm)                3230        26.332953            9036   \n",
       "Fuel capacity (lts)        2135        17.405837           10131   \n",
       "Gearbox                    2039        16.623186           10227   \n",
       "Transmission type          2035        16.590576           10231   \n",
       "Cooling system             1342        10.940812           10924   \n",
       "Front brakes                479         3.905104           11787   \n",
       "Displacement (ccm)          363         2.959400           11903   \n",
       "Category                    274         2.233817           11992   \n",
       "Model                         8         0.065221           12258   \n",
       "Engine stroke                 0         0.000000           12266   \n",
       "Engine cylinder               0         0.000000           12266   \n",
       "Front tire                    0         0.000000           12266   \n",
       "Year                          0         0.000000           12266   \n",
       "Brand                         0         0.000000           12266   \n",
       "\n",
       "                     Distinct Count    DType  Categorical  \n",
       "Torque (Nm)                     580  float64        False  \n",
       "Fuel control                     14   object         True  \n",
       "Dry weight (kg)                 946  float64        False  \n",
       "Rating                           31  float64        False  \n",
       "Seat height (mm)                309  float64        False  \n",
       "Wheelbase (mm)                  561  float64        False  \n",
       "Rear suspension                  11   object         True  \n",
       "Front suspension                  6   object         True  \n",
       "Power (hp)                      607  float64        False  \n",
       "Fuel system                       7   object         True  \n",
       "Bore (mm)                       233  float64        False  \n",
       "Stroke (mm)                     332  float64        False  \n",
       "Fuel capacity (lts)             368  float64        False  \n",
       "Gearbox                          15   object         True  \n",
       "Transmission type                 3   object         True  \n",
       "Cooling system                    3   object         True  \n",
       "Front brakes                     78   object         True  \n",
       "Displacement (ccm)             1029  float64        False  \n",
       "Category                         17   object         True  \n",
       "Model                          9037   object         True  \n",
       "Engine stroke                     9   object         True  \n",
       "Engine cylinder                  20   object         True  \n",
       "Front tire                       10   object         True  \n",
       "Year                             43    int64        False  \n",
       "Brand                           459   object         True  "
      ]
     },
     "execution_count": 67,
     "metadata": {},
     "output_type": "execute_result"
    }
   ],
   "source": [
    "# A dataframe to show info about the workdf dataset\n",
    "workdf_info=pd.DataFrame()\n",
    "workdf_info[\"Null Count\"]=workdf.isnull().sum()\n",
    "workdf_info[\"Null Percentage\"]=100*workdf.isnull().sum()/len(workdf)\n",
    "workdf_info[\"Non-Null Count\"]=workdf.count()\n",
    "workdf_info[\"Distinct Count\"]=workdf.nunique()\n",
    "workdf_info[\"DType\"]=workdf.dtypes\n",
    "workdf_info[\"Categorical\"] = [workdf[clmn].dtype == 'object' and len(workdf[clmn].unique()) < len(workdf) for clmn in workdf.columns]\n",
    "workdf_info.sort_values(by='Null Percentage', ascending=False, inplace=True)\n",
    "workdf_info"
   ]
  },
  {
   "cell_type": "markdown",
   "metadata": {},
   "source": [
    "Data Cleaning:\n",
    "1) dropping columns with high null\n",
    "2) correaltion\n",
    "3) removing rows with 50% null\n"
   ]
  },
  {
   "cell_type": "code",
   "execution_count": 68,
   "metadata": {
    "ExecuteTime": {
     "end_time": "2023-07-26T16:15:06.971849400Z",
     "start_time": "2023-07-26T16:15:06.879097800Z"
    }
   },
   "outputs": [
    {
     "data": {
      "text/plain": [
       "(12266, 24)"
      ]
     },
     "execution_count": 68,
     "metadata": {},
     "output_type": "execute_result"
    }
   ],
   "source": [
    "# 01\n",
    "workdf.drop(columns=['Torque (Nm)'],inplace=True)\n",
    "features.remove('Torque (Nm)')\n",
    "workdf.shape"
   ]
  },
  {
   "cell_type": "code",
   "execution_count": 69,
   "metadata": {
    "ExecuteTime": {
     "end_time": "2023-07-26T16:15:07.018496200Z",
     "start_time": "2023-07-26T16:15:06.893061Z"
    }
   },
   "outputs": [
    {
     "name": "stdout",
     "output_type": "stream",
     "text": [
      "Numerical columns: ['Displacement (ccm)', 'Power (hp)', 'Bore (mm)', 'Stroke (mm)', 'Fuel capacity (lts)', 'Dry weight (kg)', 'Wheelbase (mm)', 'Seat height (mm)']\n",
      "Categorical columns: ['Displacement (ccm)', 'Power (hp)', 'Bore (mm)', 'Stroke (mm)', 'Fuel capacity (lts)', 'Dry weight (kg)', 'Wheelbase (mm)', 'Seat height (mm)']\n"
     ]
    }
   ],
   "source": [
    "categorical_columns_list=[clmn for clmn in workdf.columns if workdf[clmn].dtype == 'object' and clmn not in labels]\n",
    "numerical_columns_list=[clmn for clmn in workdf.columns if clmn not in categorical_columns_list and clmn not in labels]\n",
    "\n",
    "print(f\"Numerical columns: {numerical_columns_list}\")\n",
    "print(f\"Categorical columns: {numerical_columns_list}\")"
   ]
  },
  {
   "cell_type": "code",
   "execution_count": 70,
   "metadata": {
    "ExecuteTime": {
     "end_time": "2023-07-26T16:15:08.439928200Z",
     "start_time": "2023-07-26T16:15:06.954896200Z"
    }
   },
   "outputs": [
    {
     "data": {
      "image/png": "[encoded data removed]",
      "text/plain": [
       "<Figure size 800x600 with 2 Axes>"
      ]
     },
     "metadata": {},
     "output_type": "display_data"
    }
   ],
   "source": [
    "correlation_matrix=workdf[numerical_columns_list].corr()\n",
    "# Create a heatmap\n",
    "plt.figure(figsize=(8, 6))\n",
    "sns.heatmap(correlation_matrix, annot=True, cmap='coolwarm')\n",
    "\n",
    "# Display the heatmap\n",
    "plt.show()\n",
    "# workdf[numerical_columns_list].head()"
   ]
  },
  {
   "cell_type": "code",
   "execution_count": 71,
   "metadata": {
    "ExecuteTime": {
     "end_time": "2023-07-26T16:15:09.075736300Z",
     "start_time": "2023-07-26T16:15:08.447901600Z"
    }
   },
   "outputs": [
    {
     "name": "stdout",
     "output_type": "stream",
     "text": [
      "Columns with higher than 0.7 correlation with Displacement (ccm) : ['Power (hp)', 'Bore (mm)', 'Stroke (mm)', 'Dry weight (kg)']\n"
     ]
    },
    {
     "data": {
      "text/plain": [
       "(12266, 20)"
      ]
     },
     "execution_count": 71,
     "metadata": {},
     "output_type": "execute_result"
    }
   ],
   "source": [
    "# Set a correlation threshold\n",
    "correlation_threshold = 0.7\n",
    "\n",
    "# Set the specific column of interest\n",
    "specific_column = \"Displacement (ccm)\"\n",
    "# correlated_columns=set()\n",
    "# for i in range(len(correlation_matrix.columns)):\n",
    "#     for j in range(i):\n",
    "#         if abs(correlation_matrix.iloc[i, j]) > correlation_threshold:\n",
    "#             colname_i = correlation_matrix.columns[i]\n",
    "#             colname_j = correlation_matrix.columns[j]\n",
    "            \n",
    "#             print(colname_i,\" - \",colname_j,\" : \",correlation_matrix.iloc[i, j])\n",
    "#             print(\"----------\")\n",
    "            \n",
    "#             correlated_columns.add(colname_i)\n",
    "#             correlated_columns.add(colname_j)   \n",
    "# Identify highly correlated columns to the specific column\n",
    "highly_correlated_columns = correlation_matrix[specific_column][(abs(correlation_matrix[specific_column]) > correlation_threshold) & (correlation_matrix[specific_column].index != specific_column)].index.tolist()\n",
    "print(f'Columns with higher than {correlation_threshold} correlation with {specific_column} : {highly_correlated_columns}')\n",
    "\n",
    "numerical_columns_list = list(filter(lambda i: i not in highly_correlated_columns, numerical_columns_list))\n",
    "\n",
    "features = list(filter(lambda i: i not in highly_correlated_columns, features))\n",
    "# Drop the highly correlated columns\n",
    "workdf_dropped = workdf.drop(highly_correlated_columns, axis=1)\n",
    "workdf_dropped.shape"
   ]
  },
  {
   "cell_type": "code",
   "execution_count": 74,
   "metadata": {
    "ExecuteTime": {
     "end_time": "2023-07-26T16:15:09.200402100Z",
     "start_time": "2023-07-26T16:15:08.776023700Z"
    }
   },
   "outputs": [
    {
     "data": {
      "text/plain": [
       "['Displacement (ccm)',\n",
       " 'Fuel capacity (lts)',\n",
       " 'Wheelbase (mm)',\n",
       " 'Seat height (mm)']"
      ]
     },
     "execution_count": 74,
     "metadata": {},
     "output_type": "execute_result"
    }
   ],
   "source": [
    "numerical_columns_list\n"
   ]
  },
  {
   "cell_type": "code",
   "execution_count": 75,
   "metadata": {
    "ExecuteTime": {
     "end_time": "2023-07-26T16:15:09.452727100Z",
     "start_time": "2023-07-26T16:15:09.021879800Z"
    }
   },
   "outputs": [],
   "source": [
    "# 3\n",
    "# remove rows that have 50% of columns as null\n",
    "workdf_dropped.dropna(thresh=workdf_dropped.shape[1]/2, inplace=True)"
   ]
  },
  {
   "cell_type": "code",
   "execution_count": 76,
   "metadata": {
    "ExecuteTime": {
     "end_time": "2023-07-26T16:15:09.455719800Z",
     "start_time": "2023-07-26T16:15:09.256872100Z"
    }
   },
   "outputs": [
    {
     "data": {
      "text/plain": [
       "(12221, 20)"
      ]
     },
     "execution_count": 76,
     "metadata": {},
     "output_type": "execute_result"
    }
   ],
   "source": [
    "workdf_dropped.shape"
   ]
  },
  {
   "cell_type": "code",
   "execution_count": 77,
   "metadata": {
    "ExecuteTime": {
     "end_time": "2023-07-26T16:15:09.456716600Z",
     "start_time": "2023-07-26T16:15:09.261239100Z"
    }
   },
   "outputs": [
    {
     "data": {
      "text/html": [
       "<div>\n",
       "<style scoped>\n",
       "    .dataframe tbody tr th:only-of-type {\n",
       "        vertical-align: middle;\n",
       "    }\n",
       "\n",
       "    .dataframe tbody tr th {\n",
       "        vertical-align: top;\n",
       "    }\n",
       "\n",
       "    .dataframe thead th {\n",
       "        text-align: right;\n",
       "    }\n",
       "</style>\n",
       "<table border=\"1\" class=\"dataframe\">\n",
       "  <thead>\n",
       "    <tr style=\"text-align: right;\">\n",
       "      <th></th>\n",
       "      <th>skew</th>\n",
       "      <th>kurtosis</th>\n",
       "      <th>Mean</th>\n",
       "      <th>STD</th>\n",
       "    </tr>\n",
       "  </thead>\n",
       "  <tbody>\n",
       "    <tr>\n",
       "      <th>Displacement (ccm)</th>\n",
       "      <td>3.300927</td>\n",
       "      <td>26.474350</td>\n",
       "      <td>540.948859</td>\n",
       "      <td>546.155850</td>\n",
       "    </tr>\n",
       "    <tr>\n",
       "      <th>Fuel capacity (lts)</th>\n",
       "      <td>0.434892</td>\n",
       "      <td>0.896950</td>\n",
       "      <td>13.272880</td>\n",
       "      <td>5.995702</td>\n",
       "    </tr>\n",
       "    <tr>\n",
       "      <th>Wheelbase (mm)</th>\n",
       "      <td>0.451964</td>\n",
       "      <td>4.719448</td>\n",
       "      <td>1423.984704</td>\n",
       "      <td>169.015976</td>\n",
       "    </tr>\n",
       "    <tr>\n",
       "      <th>Seat height (mm)</th>\n",
       "      <td>-0.270549</td>\n",
       "      <td>1.152713</td>\n",
       "      <td>788.905605</td>\n",
       "      <td>85.220574</td>\n",
       "    </tr>\n",
       "  </tbody>\n",
       "</table>\n",
       "</div>"
      ],
      "text/plain": [
       "                         skew   kurtosis         Mean         STD\n",
       "Displacement (ccm)   3.300927  26.474350   540.948859  546.155850\n",
       "Fuel capacity (lts)  0.434892   0.896950    13.272880    5.995702\n",
       "Wheelbase (mm)       0.451964   4.719448  1423.984704  169.015976\n",
       "Seat height (mm)    -0.270549   1.152713   788.905605   85.220574"
      ]
     },
     "execution_count": 77,
     "metadata": {},
     "output_type": "execute_result"
    }
   ],
   "source": [
    "workdf_stat=pd.DataFrame()\n",
    "workdf_stat['skew']=workdf_dropped[numerical_columns_list].skew()\n",
    "workdf_stat['kurtosis']=workdf_dropped[numerical_columns_list].kurtosis()\n",
    "workdf_stat['Mean']=workdf_dropped[numerical_columns_list].mean()\n",
    "workdf_stat['STD']=workdf_dropped[numerical_columns_list].std()\n",
    "\n",
    "workdf_stat\n",
    "\n"
   ]
  },
  {
   "cell_type": "markdown",
   "metadata": {},
   "source": [
    "Based on the provided data:\n",
    "\n",
    "*Displacement (ccm):*\n",
    "Skewness = 2.985938 (positive)  \n",
    "Kurtosis = 24.641551 (positive)  \n",
    "Interpretation: The distribution of Displacement (ccm) is likely right-skewed (positively skewed) and has heavier tails than a normal distribution (leptokurtic). **It is not normally distributed.**   \n",
    "\n",
    "*Fuel capacity (lts):*  \n",
    "Skewness = 0.398549 (close to 0)  \n",
    "Kurtosis = 0.703285 (close to 0)  \n",
    "Interpretation: The distribution of Fuel capacity (lts) is approximately symmetric and has tails similar to a normal distribution (mesokurtic). **It is approximately normally distributed.**  \n",
    "\n",
    "*Wheelbase (mm):*  \n",
    "Skewness = 0.729586 (positive)  \n",
    "Kurtosis = 4.747603 (positive)  \n",
    "Interpretation: The distribution of Wheelbase (mm) is slightly right-skewed (positively skewed) and has heavier tails than a normal distribution (leptokurtic). **It is not normally distributed.**  \n",
    "\n",
    "*Seat height (mm):*  \n",
    "Skewness = -0.153437 (negative)  \n",
    "Kurtosis = 1.013157 (close to 0)  \n",
    "Interpretation: The distribution of Seat height (mm) is approximately symmetric and has tails similar to a normal distribution (mesokurtic). **It is approximately normally distributed.**  \n",
    "\n",
    "### Methods for Predicting Nulls in Not Normally Distributed Data\n",
    "\n",
    "| Method | Advantages | Disadvantages |\n",
    "|:------:|:----------:|:-------------:|\n",
    "| Mean imputation | Simple and easy to implement | Can introduce bias into the data |\n",
    "| Median imputation | Less biased than mean imputation | Can introduce bias if the distribution of the data is skewed |\n",
    "| KNN imputation | More accurate than mean or median imputation | More complex to implement |\n",
    "| Bayesian imputation | Most accurate of the methods listed | Most complex to implement |\n",
    "\n",
    "### Methods for Predicting Nulls in Normally Distributed Data\n",
    "\n",
    "| Method | Advantages | Disadvantages |\n",
    "|:------:|:----------:|:-------------:|\n",
    "| Mean imputation | Simple and easy to implement | Can introduce bias into the data if the distribution of the data is not perfectly normally distributed |\n",
    "| Median imputation | Less biased than mean imputation | Can introduce bias if the distribution of the data is skewed |\n"
   ]
  },
  {
   "cell_type": "code",
   "execution_count": 79,
   "metadata": {
    "ExecuteTime": {
     "end_time": "2023-07-26T16:15:15.931397500Z",
     "start_time": "2023-07-26T16:15:09.262277200Z"
    }
   },
   "outputs": [
    {
     "data": {
      "text/plain": [
       "Displacement (ccm)        0\n",
       "Engine cylinder           0\n",
       "Engine stroke             0\n",
       "Gearbox                1999\n",
       "Fuel capacity (lts)       0\n",
       "Fuel control           5393\n",
       "Cooling system         1307\n",
       "Transmission type      1991\n",
       "Wheelbase (mm)            0\n",
       "Seat height (mm)          0\n",
       "Fuel system            3522\n",
       "Front brakes            443\n",
       "Front tire                0\n",
       "Front suspension       3971\n",
       "Rear suspension        4130\n",
       "dtype: int64"
      ]
     },
     "execution_count": 79,
     "metadata": {},
     "output_type": "execute_result"
    }
   ],
   "source": [
    "not_normally_distributed=[\"Displacement (ccm)\",\"Wheelbase (mm)\"] #\"Stroke (mm)\"\n",
    "normally_distributed=[\"Fuel capacity (lts)\",\"Seat height (mm)\"]\n",
    "\n",
    "\n",
    "# Impute null values using KNNImputer\n",
    "# knn_imputer = KNNImputer(n_neighbors=3)\n",
    "# workdf_imputed = pd.DataFrame(knn_imputer.fit_transform(workdf_dropped[not_normally_distributed]),columns=not_normally_distributed).reset_index(drop=True)\n",
    "# tmpDf=pd.DataFrame(workdf_dropped[normally_distributed].fillna(workdf_dropped[normally_distributed].median()),columns=normally_distributed).reset_index(drop=True)\n",
    "# workdf_imputed=pd.concat([workdf_imputed,tmpDf],axis=1)\n",
    "# workdf_imputed.isnull().sum()\n",
    "\n",
    "# Create KNNImputer instance\n",
    "knn_imputer = KNNImputer(n_neighbors=3)\n",
    "\n",
    "# Impute the columns specified in not_normally_distributed\n",
    "workdf_dropped[not_normally_distributed] = knn_imputer.fit_transform(workdf_dropped[not_normally_distributed])\n",
    "\n",
    "# Fill the columns specified in normally_distributed with median values\n",
    "workdf_dropped[normally_distributed] = workdf_dropped[normally_distributed].fillna(workdf_dropped[normally_distributed].median())\n",
    "\n",
    "# Check for any remaining missing values in the DataFrame\n",
    "workdf_dropped[features].isnull().sum()"
   ]
  },
  {
   "cell_type": "markdown",
   "metadata": {},
   "source": [
    " standard deviation and mean values remain relatively stable before and after imputation\n",
    "  Lower skewness and kurtosis values indicate a more balanced and symmetric distribution."
   ]
  },
  {
   "cell_type": "code",
   "execution_count": 16,
   "metadata": {
    "ExecuteTime": {
     "end_time": "2023-07-26T16:15:16.245593900Z",
     "start_time": "2023-07-26T16:15:16.076010800Z"
    }
   },
   "outputs": [
    {
     "data": {
      "text/plain": [
       "Displacement (ccm)      448.0\n",
       "Fuel capacity (lts)      13.6\n",
       "Wheelbase (mm)         1430.0\n",
       "Seat height (mm)        790.0\n",
       "dtype: float64"
      ]
     },
     "execution_count": 16,
     "metadata": {},
     "output_type": "execute_result"
    }
   ],
   "source": [
    "workdf_dropped[numerical_columns_list].median()"
   ]
  },
  {
   "cell_type": "code",
   "execution_count": 17,
   "metadata": {
    "ExecuteTime": {
     "end_time": "2023-07-26T16:15:16.440216Z",
     "start_time": "2023-07-26T16:15:16.200158800Z"
    }
   },
   "outputs": [],
   "source": [
    "# Fill missing values in categorical columns with a designated category (e.g., \"Unknown\")\n",
    "categorical_columns = workdf.select_dtypes(include=['object']).columns\n",
    "workdf[categorical_columns] = workdf[categorical_columns].fillna(\"Unknown\")\n",
    "\n",
    "# Drop rows with missing values in numeric columns\n",
    "numeric_columns = workdf.select_dtypes(include=['int64', 'float64']).columns\n",
    "workdf = workdf.dropna(subset=numeric_columns)\n"
   ]
  },
  {
   "cell_type": "code",
   "execution_count": 18,
   "metadata": {
    "ExecuteTime": {
     "end_time": "2023-07-26T16:15:16.442215800Z",
     "start_time": "2023-07-26T16:15:16.261521400Z"
    }
   },
   "outputs": [
    {
     "name": "stdout",
     "output_type": "stream",
     "text": [
      "Brand                  69\n",
      "Model                1088\n",
      "Category               16\n",
      "Engine cylinder        11\n",
      "Engine stroke           3\n",
      "Gearbox                 7\n",
      "Fuel control           11\n",
      "Cooling system          4\n",
      "Transmission type       4\n",
      "Fuel system             7\n",
      "Rear brakes            30\n",
      "Front tire             10\n",
      "Rear tire               6\n",
      "Front suspension        6\n",
      "dtype: int64\n"
     ]
    }
   ],
   "source": [
    "distinct_values_count = workdf[categorical_columns].nunique()\n",
    "print(distinct_values_count)"
   ]
  },
  {
   "cell_type": "markdown",
   "metadata": {},
   "source": [
    "# Exercise 2 (Encoding of Categorical Data)"
   ]
  },
  {
   "cell_type": "code",
   "execution_count": 19,
   "metadata": {
    "ExecuteTime": {
     "end_time": "2023-07-26T16:15:16.929906100Z",
     "start_time": "2023-07-26T16:15:16.333501100Z"
    }
   },
   "outputs": [
    {
     "data": {
      "text/html": [
       "<div>\n",
       "<style scoped>\n",
       "    .dataframe tbody tr th:only-of-type {\n",
       "        vertical-align: middle;\n",
       "    }\n",
       "\n",
       "    .dataframe tbody tr th {\n",
       "        vertical-align: top;\n",
       "    }\n",
       "\n",
       "    .dataframe thead th {\n",
       "        text-align: right;\n",
       "    }\n",
       "</style>\n",
       "<table border=\"1\" class=\"dataframe\">\n",
       "  <thead>\n",
       "    <tr style=\"text-align: right;\">\n",
       "      <th></th>\n",
       "      <th>Brand</th>\n",
       "      <th>Model</th>\n",
       "      <th>Year</th>\n",
       "      <th>Category</th>\n",
       "      <th>Rating</th>\n",
       "      <th>Displacement (ccm)</th>\n",
       "      <th>Power (hp)</th>\n",
       "      <th>Engine cylinder</th>\n",
       "      <th>Engine stroke</th>\n",
       "      <th>Gearbox</th>\n",
       "      <th>...</th>\n",
       "      <th>Cooling system</th>\n",
       "      <th>Transmission type</th>\n",
       "      <th>Dry weight (kg)</th>\n",
       "      <th>Wheelbase (mm)</th>\n",
       "      <th>Seat height (mm)</th>\n",
       "      <th>Fuel system</th>\n",
       "      <th>Rear brakes</th>\n",
       "      <th>Front tire</th>\n",
       "      <th>Rear tire</th>\n",
       "      <th>Front suspension</th>\n",
       "    </tr>\n",
       "  </thead>\n",
       "  <tbody>\n",
       "    <tr>\n",
       "      <th>47</th>\n",
       "      <td>adiva</td>\n",
       "      <td>ad3 400</td>\n",
       "      <td>2018</td>\n",
       "      <td>Scooter</td>\n",
       "      <td>3.3</td>\n",
       "      <td>399.0</td>\n",
       "      <td>36.7</td>\n",
       "      <td>Single cylinder</td>\n",
       "      <td>four-stroke</td>\n",
       "      <td>Automatic</td>\n",
       "      <td>...</td>\n",
       "      <td>Liquid</td>\n",
       "      <td>Unknown</td>\n",
       "      <td>257.0</td>\n",
       "      <td>1560.0</td>\n",
       "      <td>770.0</td>\n",
       "      <td>injection</td>\n",
       "      <td>single disc</td>\n",
       "      <td>other</td>\n",
       "      <td>other</td>\n",
       "      <td>other</td>\n",
       "    </tr>\n",
       "    <tr>\n",
       "      <th>184</th>\n",
       "      <td>aeon</td>\n",
       "      <td>cobra 220</td>\n",
       "      <td>2009</td>\n",
       "      <td>ATV</td>\n",
       "      <td>3.1</td>\n",
       "      <td>196.0</td>\n",
       "      <td>12.1</td>\n",
       "      <td>Single cylinder</td>\n",
       "      <td>four-stroke</td>\n",
       "      <td>Automatic</td>\n",
       "      <td>...</td>\n",
       "      <td>Air</td>\n",
       "      <td>Chain</td>\n",
       "      <td>193.0</td>\n",
       "      <td>1155.0</td>\n",
       "      <td>790.0</td>\n",
       "      <td>carburettor. other</td>\n",
       "      <td>expanding brake (drum brake)</td>\n",
       "      <td>other</td>\n",
       "      <td>other</td>\n",
       "      <td>other</td>\n",
       "    </tr>\n",
       "    <tr>\n",
       "      <th>187</th>\n",
       "      <td>aeon</td>\n",
       "      <td>cobra 320</td>\n",
       "      <td>2009</td>\n",
       "      <td>ATV</td>\n",
       "      <td>2.7</td>\n",
       "      <td>272.3</td>\n",
       "      <td>19.4</td>\n",
       "      <td>Single cylinder</td>\n",
       "      <td>four-stroke</td>\n",
       "      <td>Automatic</td>\n",
       "      <td>...</td>\n",
       "      <td>Liquid</td>\n",
       "      <td>Chain</td>\n",
       "      <td>211.0</td>\n",
       "      <td>1300.0</td>\n",
       "      <td>790.0</td>\n",
       "      <td>carburettor. other</td>\n",
       "      <td>expanding brake (drum brake)</td>\n",
       "      <td>other</td>\n",
       "      <td>other</td>\n",
       "      <td>other</td>\n",
       "    </tr>\n",
       "    <tr>\n",
       "      <th>189</th>\n",
       "      <td>aeon</td>\n",
       "      <td>cobra 400</td>\n",
       "      <td>2012</td>\n",
       "      <td>ATV</td>\n",
       "      <td>3.4</td>\n",
       "      <td>346.0</td>\n",
       "      <td>20.1</td>\n",
       "      <td>Single cylinder</td>\n",
       "      <td>four-stroke</td>\n",
       "      <td>Automatic</td>\n",
       "      <td>...</td>\n",
       "      <td>Liquid</td>\n",
       "      <td>Unknown</td>\n",
       "      <td>207.0</td>\n",
       "      <td>1300.0</td>\n",
       "      <td>790.0</td>\n",
       "      <td>carburettor. other</td>\n",
       "      <td>single disc</td>\n",
       "      <td>other</td>\n",
       "      <td>other</td>\n",
       "      <td>other</td>\n",
       "    </tr>\n",
       "    <tr>\n",
       "      <th>193</th>\n",
       "      <td>aeon</td>\n",
       "      <td>cobra 50</td>\n",
       "      <td>2009</td>\n",
       "      <td>ATV</td>\n",
       "      <td>3.5</td>\n",
       "      <td>49.0</td>\n",
       "      <td>3.6</td>\n",
       "      <td>Single cylinder</td>\n",
       "      <td>two-stroke</td>\n",
       "      <td>Unknown</td>\n",
       "      <td>...</td>\n",
       "      <td>Air</td>\n",
       "      <td>Shaft drive</td>\n",
       "      <td>130.0</td>\n",
       "      <td>1050.0</td>\n",
       "      <td>800.0</td>\n",
       "      <td>carburettor. other</td>\n",
       "      <td>single disc</td>\n",
       "      <td>other</td>\n",
       "      <td>other</td>\n",
       "      <td>other</td>\n",
       "    </tr>\n",
       "  </tbody>\n",
       "</table>\n",
       "<p>5 rows × 24 columns</p>\n",
       "</div>"
      ],
      "text/plain": [
       "     Brand      Model  Year Category  Rating  Displacement (ccm)  Power (hp)  \\\n",
       "47   adiva    ad3 400  2018  Scooter     3.3               399.0        36.7   \n",
       "184   aeon  cobra 220  2009      ATV     3.1               196.0        12.1   \n",
       "187   aeon  cobra 320  2009      ATV     2.7               272.3        19.4   \n",
       "189   aeon  cobra 400  2012      ATV     3.4               346.0        20.1   \n",
       "193   aeon   cobra 50  2009      ATV     3.5                49.0         3.6   \n",
       "\n",
       "     Engine cylinder Engine stroke    Gearbox  ...  Cooling system  \\\n",
       "47   Single cylinder   four-stroke  Automatic  ...          Liquid   \n",
       "184  Single cylinder   four-stroke  Automatic  ...             Air   \n",
       "187  Single cylinder   four-stroke  Automatic  ...          Liquid   \n",
       "189  Single cylinder   four-stroke  Automatic  ...          Liquid   \n",
       "193  Single cylinder    two-stroke    Unknown  ...             Air   \n",
       "\n",
       "     Transmission type  Dry weight (kg) Wheelbase (mm) Seat height (mm)  \\\n",
       "47             Unknown            257.0         1560.0            770.0   \n",
       "184              Chain            193.0         1155.0            790.0   \n",
       "187              Chain            211.0         1300.0            790.0   \n",
       "189            Unknown            207.0         1300.0            790.0   \n",
       "193        Shaft drive            130.0         1050.0            800.0   \n",
       "\n",
       "            Fuel system                   Rear brakes  Front tire  Rear tire  \\\n",
       "47            injection                   single disc       other      other   \n",
       "184  carburettor. other  expanding brake (drum brake)       other      other   \n",
       "187  carburettor. other  expanding brake (drum brake)       other      other   \n",
       "189  carburettor. other                   single disc       other      other   \n",
       "193  carburettor. other                   single disc       other      other   \n",
       "\n",
       "    Front suspension  \n",
       "47             other  \n",
       "184            other  \n",
       "187            other  \n",
       "189            other  \n",
       "193            other  \n",
       "\n",
       "[5 rows x 24 columns]"
      ]
     },
     "execution_count": 19,
     "metadata": {},
     "output_type": "execute_result"
    }
   ],
   "source": [
    "workdf.head()\n"
   ]
  },
  {
   "cell_type": "code",
   "execution_count": 20,
   "metadata": {
    "ExecuteTime": {
     "end_time": "2023-07-26T16:15:17.063547900Z",
     "start_time": "2023-07-26T16:15:16.984758800Z"
    }
   },
   "outputs": [],
   "source": [
    "# null_values=['Unspecified category', 'Not Given/Unknown', 'not given/unknown']\n",
    "\n",
    "# for clm in workdf.columns:\n",
    "#     if workdf[clm].dtype=='object':\n",
    "#         try:\n",
    "#             print(\"Column name:\",clm)\n",
    "#             print(null_values[0],workdf[clm].value_counts(dropna=False).get(null_values[0],0))\n",
    "#             print(null_values[1],workdf[clm].value_counts(dropna=False).get(null_values[1],0))\n",
    "#             print(null_values[2],workdf[clm].value_counts(dropna=False).get(null_values[2],0))\n",
    "#             print('==============================')\n",
    "#         except:\n",
    "#             pass\n",
    "        \n",
    "        "
   ]
  }
 ],
 "metadata": {
  "kernelspec": {
   "display_name": "Python 3 (ipykernel)",
   "language": "python",
   "name": "python3"
  },
  "language_info": {
   "codemirror_mode": {
    "name": "ipython",
    "version": 3
   },
   "file_extension": ".py",
   "mimetype": "text/x-python",
   "name": "python",
   "nbconvert_exporter": "python",
   "pygments_lexer": "ipython3",
   "version": "3.9.6"
  }
 },
 "nbformat": 4,
 "nbformat_minor": 1
}
