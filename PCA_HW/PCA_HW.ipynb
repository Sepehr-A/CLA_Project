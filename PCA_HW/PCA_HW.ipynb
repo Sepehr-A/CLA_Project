{
 "cells": [
  {
   "cell_type": "markdown",
   "metadata": {},
   "source": [
    "# PCA Homework"
   ]
  },
  {
   "cell_type": "markdown",
   "metadata": {},
   "source": [
    "## 1. Preparation and Libraries\n"
   ]
  },
  {
   "cell_type": "code",
   "execution_count": 1,
   "metadata": {
    "ExecuteTime": {
     "end_time": "2023-08-26T13:37:10.196097400Z",
     "start_time": "2023-08-26T13:37:08.620307900Z"
    }
   },
   "outputs": [],
   "source": [
    "import numpy as np\n",
    "import pandas as pd\n",
    "import random\n",
    "import matplotlib.pyplot as plt\n",
    "import seaborn as sns\n",
    "from sklearn.impute import KNNImputer\n",
    "\n",
    "rand_state=289456\n",
    "np.random.seed(rand_state)"
   ]
  },
  {
   "cell_type": "markdown",
   "metadata": {},
   "source": [
    "## 2. Exercise 1 (Loading and Preparing the Data)"
   ]
  },
  {
   "cell_type": "code",
   "execution_count": 2,
   "metadata": {
    "ExecuteTime": {
     "end_time": "2023-08-26T13:37:10.454411600Z",
     "start_time": "2023-08-26T13:37:10.189154400Z"
    }
   },
   "outputs": [
    {
     "name": "stdout",
     "output_type": "stream",
     "text": [
      "Shape of the original dataset: (38472, 27)\n",
      "Columns to be removed: ['Rear tire', 'Front brakes']\n",
      "Shape of the workdf dataset: (13673, 25)\n",
      "20\n"
     ]
    }
   ],
   "source": [
    "# (a) Load the CSV file into a DataFrame\n",
    "df_tot = pd.read_csv('cla4lsp_bikez_curated.csv')\n",
    "print(f\"Shape of the original dataset: {df_tot.shape}\")\n",
    "\n",
    "# (b) Select a random integer between 0, 1, and 2\n",
    "r = random.randint(0, 2)\n",
    "\n",
    "# (b) Create a sub-DataFrame (workdf) containing data corresponding to years with a remainder of r when divided by three\n",
    "workdf = df_tot[df_tot['Year'] % 3 == r]\n",
    "\n",
    "# (c) Define the labels and features columns\n",
    "labels = ['Brand', 'Model', 'Year', 'Category', 'Rating']\n",
    "features = [col for col in df_tot.columns if col not in labels]\n",
    "\n",
    "# Select and Remove two random columns from the features\n",
    "columns_to_remove = random.sample(['Front brakes','Rear brakes','Front tire','Rear tire','Front suspension','Rear suspension'], 2)\n",
    "print(f\"Columns to be removed: {columns_to_remove}\")\n",
    "# Columns to be removed: ['Front tire', 'Rear suspension']\n",
    "features = list(filter(lambda i: i not in columns_to_remove, features))\n",
    "workdf = workdf.drop(columns=columns_to_remove)\n",
    "print(f\"Shape of the workdf dataset: {workdf.shape}\")\n",
    "print(len(features))"
   ]
  },
  {
   "cell_type": "code",
   "execution_count": 3,
   "metadata": {
    "ExecuteTime": {
     "end_time": "2023-08-26T13:37:10.516242800Z",
     "start_time": "2023-08-26T13:37:10.454411600Z"
    }
   },
   "outputs": [],
   "source": [
    "# 'Unspecified category', 'Not Given/Unknown', 'not given/unknown'\n",
    "# make the null vals of categorical columns recognizable by pandas\n",
    "null_values=['Unspecified category', 'Not Given/Unknown', 'not given/unknown']\n",
    "workdf.replace(null_values,np.nan,inplace=True)\n"
   ]
  },
  {
   "cell_type": "code",
   "execution_count": 4,
   "metadata": {
    "ExecuteTime": {
     "end_time": "2023-08-26T13:37:10.537185900Z",
     "start_time": "2023-08-26T13:37:10.500285900Z"
    }
   },
   "outputs": [],
   "source": [
    "# A dataframe to show info about the workdf dataset\n",
    "def df_info(df:pd.DataFrame)->pd.DataFrame:\n",
    "    tmp=pd.DataFrame()\n",
    "    tmp[\"Null Percentage\"]=100*df.isnull().sum()/len(df)\n",
    "    tmp[\"Null Count\"]=df.isnull().sum()\n",
    "    tmp[\"Non-Null Count\"]=df.count()\n",
    "    tmp[\"Distinct Count\"]=df.nunique()\n",
    "    tmp[\"DType\"]=df.dtypes\n",
    "    tmp[\"Categorical\"] = [df[clmn].dtype == 'object' and len(df[clmn].unique()) < len(df) for clmn in df.columns]\n",
    "    tmp.sort_values(by='Null Percentage', ascending=False, inplace=True)\n",
    "    return tmp"
   ]
  },
  {
   "cell_type": "code",
   "execution_count": 5,
   "metadata": {
    "ExecuteTime": {
     "end_time": "2023-08-26T13:37:10.672828800Z",
     "start_time": "2023-08-26T13:37:10.515305500Z"
    }
   },
   "outputs": [
    {
     "data": {
      "text/plain": "                     Null Percentage  Null Count  Non-Null Count  \\\nTorque (Nm)                56.549404        7732            5941   \nRating                     46.522343        6361            7312   \nFuel control               43.377459        5931            7742   \nDry weight (kg)            41.914722        5731            7942   \nSeat height (mm)           36.992613        5058            8615   \nWheelbase (mm)             33.006655        4513            9160   \nRear suspension            32.582462        4455            9218   \nPower (hp)                 32.582462        4455            9218   \nFront suspension           31.368390        4289            9384   \nFuel system                26.351203        3603           10070   \nBore (mm)                  24.632487        3368           10305   \nStroke (mm)                24.632487        3368           10305   \nFuel capacity (lts)        18.891246        2583           11090   \nGearbox                    13.844804        1893           11780   \nTransmission type          13.215827        1807           11866   \nCooling system             10.890075        1489           12184   \nRear brakes                 3.978644         544           13129   \nDisplacement (ccm)          2.479339         339           13334   \nCategory                    1.470050         201           13472   \nModel                       0.073137          10           13663   \nEngine stroke               0.007314           1           13672   \nEngine cylinder             0.007314           1           13672   \nFront tire                  0.000000           0           13673   \nYear                        0.000000           0           13673   \nBrand                       0.000000           0           13673   \n\n                     Distinct Count    DType  Categorical  \nTorque (Nm)                     592  float64        False  \nRating                           29  float64        False  \nFuel control                     14   object         True  \nDry weight (kg)                 979  float64        False  \nSeat height (mm)                333  float64        False  \nWheelbase (mm)                  582  float64        False  \nRear suspension                  12   object         True  \nPower (hp)                      595  float64        False  \nFront suspension                  7   object         True  \nFuel system                       7   object         True  \nBore (mm)                       258  float64        False  \nStroke (mm)                     351  float64        False  \nFuel capacity (lts)             379  float64        False  \nGearbox                          14   object         True  \nTransmission type                 3   object         True  \nCooling system                    3   object         True  \nRear brakes                      52   object         True  \nDisplacement (ccm)             1094  float64        False  \nCategory                         17   object         True  \nModel                         10057   object         True  \nEngine stroke                     9   object         True  \nEngine cylinder                  20   object         True  \nFront tire                       10   object         True  \nYear                             43    int64        False  \nBrand                           483   object         True  ",
      "text/html": "<div>\n<style scoped>\n    .dataframe tbody tr th:only-of-type {\n        vertical-align: middle;\n    }\n\n    .dataframe tbody tr th {\n        vertical-align: top;\n    }\n\n    .dataframe thead th {\n        text-align: right;\n    }\n</style>\n<table border=\"1\" class=\"dataframe\">\n  <thead>\n    <tr style=\"text-align: right;\">\n      <th></th>\n      <th>Null Percentage</th>\n      <th>Null Count</th>\n      <th>Non-Null Count</th>\n      <th>Distinct Count</th>\n      <th>DType</th>\n      <th>Categorical</th>\n    </tr>\n  </thead>\n  <tbody>\n    <tr>\n      <th>Torque (Nm)</th>\n      <td>56.549404</td>\n      <td>7732</td>\n      <td>5941</td>\n      <td>592</td>\n      <td>float64</td>\n      <td>False</td>\n    </tr>\n    <tr>\n      <th>Rating</th>\n      <td>46.522343</td>\n      <td>6361</td>\n      <td>7312</td>\n      <td>29</td>\n      <td>float64</td>\n      <td>False</td>\n    </tr>\n    <tr>\n      <th>Fuel control</th>\n      <td>43.377459</td>\n      <td>5931</td>\n      <td>7742</td>\n      <td>14</td>\n      <td>object</td>\n      <td>True</td>\n    </tr>\n    <tr>\n      <th>Dry weight (kg)</th>\n      <td>41.914722</td>\n      <td>5731</td>\n      <td>7942</td>\n      <td>979</td>\n      <td>float64</td>\n      <td>False</td>\n    </tr>\n    <tr>\n      <th>Seat height (mm)</th>\n      <td>36.992613</td>\n      <td>5058</td>\n      <td>8615</td>\n      <td>333</td>\n      <td>float64</td>\n      <td>False</td>\n    </tr>\n    <tr>\n      <th>Wheelbase (mm)</th>\n      <td>33.006655</td>\n      <td>4513</td>\n      <td>9160</td>\n      <td>582</td>\n      <td>float64</td>\n      <td>False</td>\n    </tr>\n    <tr>\n      <th>Rear suspension</th>\n      <td>32.582462</td>\n      <td>4455</td>\n      <td>9218</td>\n      <td>12</td>\n      <td>object</td>\n      <td>True</td>\n    </tr>\n    <tr>\n      <th>Power (hp)</th>\n      <td>32.582462</td>\n      <td>4455</td>\n      <td>9218</td>\n      <td>595</td>\n      <td>float64</td>\n      <td>False</td>\n    </tr>\n    <tr>\n      <th>Front suspension</th>\n      <td>31.368390</td>\n      <td>4289</td>\n      <td>9384</td>\n      <td>7</td>\n      <td>object</td>\n      <td>True</td>\n    </tr>\n    <tr>\n      <th>Fuel system</th>\n      <td>26.351203</td>\n      <td>3603</td>\n      <td>10070</td>\n      <td>7</td>\n      <td>object</td>\n      <td>True</td>\n    </tr>\n    <tr>\n      <th>Bore (mm)</th>\n      <td>24.632487</td>\n      <td>3368</td>\n      <td>10305</td>\n      <td>258</td>\n      <td>float64</td>\n      <td>False</td>\n    </tr>\n    <tr>\n      <th>Stroke (mm)</th>\n      <td>24.632487</td>\n      <td>3368</td>\n      <td>10305</td>\n      <td>351</td>\n      <td>float64</td>\n      <td>False</td>\n    </tr>\n    <tr>\n      <th>Fuel capacity (lts)</th>\n      <td>18.891246</td>\n      <td>2583</td>\n      <td>11090</td>\n      <td>379</td>\n      <td>float64</td>\n      <td>False</td>\n    </tr>\n    <tr>\n      <th>Gearbox</th>\n      <td>13.844804</td>\n      <td>1893</td>\n      <td>11780</td>\n      <td>14</td>\n      <td>object</td>\n      <td>True</td>\n    </tr>\n    <tr>\n      <th>Transmission type</th>\n      <td>13.215827</td>\n      <td>1807</td>\n      <td>11866</td>\n      <td>3</td>\n      <td>object</td>\n      <td>True</td>\n    </tr>\n    <tr>\n      <th>Cooling system</th>\n      <td>10.890075</td>\n      <td>1489</td>\n      <td>12184</td>\n      <td>3</td>\n      <td>object</td>\n      <td>True</td>\n    </tr>\n    <tr>\n      <th>Rear brakes</th>\n      <td>3.978644</td>\n      <td>544</td>\n      <td>13129</td>\n      <td>52</td>\n      <td>object</td>\n      <td>True</td>\n    </tr>\n    <tr>\n      <th>Displacement (ccm)</th>\n      <td>2.479339</td>\n      <td>339</td>\n      <td>13334</td>\n      <td>1094</td>\n      <td>float64</td>\n      <td>False</td>\n    </tr>\n    <tr>\n      <th>Category</th>\n      <td>1.470050</td>\n      <td>201</td>\n      <td>13472</td>\n      <td>17</td>\n      <td>object</td>\n      <td>True</td>\n    </tr>\n    <tr>\n      <th>Model</th>\n      <td>0.073137</td>\n      <td>10</td>\n      <td>13663</td>\n      <td>10057</td>\n      <td>object</td>\n      <td>True</td>\n    </tr>\n    <tr>\n      <th>Engine stroke</th>\n      <td>0.007314</td>\n      <td>1</td>\n      <td>13672</td>\n      <td>9</td>\n      <td>object</td>\n      <td>True</td>\n    </tr>\n    <tr>\n      <th>Engine cylinder</th>\n      <td>0.007314</td>\n      <td>1</td>\n      <td>13672</td>\n      <td>20</td>\n      <td>object</td>\n      <td>True</td>\n    </tr>\n    <tr>\n      <th>Front tire</th>\n      <td>0.000000</td>\n      <td>0</td>\n      <td>13673</td>\n      <td>10</td>\n      <td>object</td>\n      <td>True</td>\n    </tr>\n    <tr>\n      <th>Year</th>\n      <td>0.000000</td>\n      <td>0</td>\n      <td>13673</td>\n      <td>43</td>\n      <td>int64</td>\n      <td>False</td>\n    </tr>\n    <tr>\n      <th>Brand</th>\n      <td>0.000000</td>\n      <td>0</td>\n      <td>13673</td>\n      <td>483</td>\n      <td>object</td>\n      <td>True</td>\n    </tr>\n  </tbody>\n</table>\n</div>"
     },
     "execution_count": 5,
     "metadata": {},
     "output_type": "execute_result"
    }
   ],
   "source": [
    "df_info(workdf)"
   ]
  },
  {
   "cell_type": "markdown",
   "metadata": {},
   "source": [
    "Data Cleaning:\n",
    "1) dropping columns with high null\n",
    "2) correaltion\n",
    "3) remove cols with low % of nulls\n",
    "3) removing rows with 50% null\n"
   ]
  },
  {
   "cell_type": "code",
   "execution_count": 6,
   "metadata": {
    "ExecuteTime": {
     "end_time": "2023-08-26T13:37:10.797489800Z",
     "start_time": "2023-08-26T13:37:10.662853700Z"
    }
   },
   "outputs": [
    {
     "data": {
      "text/plain": "(13673, 24)"
     },
     "execution_count": 6,
     "metadata": {},
     "output_type": "execute_result"
    }
   ],
   "source": [
    "# 01\n",
    "workdf.drop(columns=['Torque (Nm)'],inplace=True)\n",
    "features.remove('Torque (Nm)')\n",
    "workdf.shape"
   ]
  },
  {
   "cell_type": "code",
   "execution_count": 7,
   "metadata": {
    "ExecuteTime": {
     "end_time": "2023-08-26T13:37:10.811453Z",
     "start_time": "2023-08-26T13:37:10.687790400Z"
    }
   },
   "outputs": [
    {
     "name": "stdout",
     "output_type": "stream",
     "text": [
      "Numerical columns: ['Displacement (ccm)', 'Power (hp)', 'Bore (mm)', 'Stroke (mm)', 'Fuel capacity (lts)', 'Dry weight (kg)', 'Wheelbase (mm)', 'Seat height (mm)']\n",
      "Categorical columns: ['Engine cylinder', 'Engine stroke', 'Gearbox', 'Fuel control', 'Cooling system', 'Transmission type', 'Fuel system', 'Rear brakes', 'Front tire', 'Front suspension', 'Rear suspension']\n"
     ]
    }
   ],
   "source": [
    "categorical_columns_list=[clmn for clmn in workdf.columns if workdf[clmn].dtype == 'object' and clmn not in labels]\n",
    "numerical_columns_list=[clmn for clmn in workdf.columns if clmn not in categorical_columns_list and clmn not in labels]\n",
    "\n",
    "print(f\"Numerical columns: {numerical_columns_list}\")\n",
    "print(f\"Categorical columns: {categorical_columns_list}\")"
   ]
  },
  {
   "cell_type": "code",
   "execution_count": 8,
   "metadata": {
    "ExecuteTime": {
     "end_time": "2023-08-26T13:37:11.582393800Z",
     "start_time": "2023-08-26T13:37:10.702751800Z"
    }
   },
   "outputs": [
    {
     "data": {
      "text/plain": "<Figure size 800x600 with 2 Axes>",
      "image/png": "[encoded data removed]"
     },
     "metadata": {},
     "output_type": "display_data"
    }
   ],
   "source": [
    "correlation_matrix=workdf[numerical_columns_list].corr()\n",
    "# Create a heatmap\n",
    "plt.figure(figsize=(8, 6))\n",
    "sns.heatmap(correlation_matrix, annot=True, cmap='coolwarm')\n",
    "\n",
    "# Display the heatmap\n",
    "plt.show()\n",
    "# workdf[numerical_columns_list].head()"
   ]
  },
  {
   "cell_type": "code",
   "execution_count": 9,
   "metadata": {
    "ExecuteTime": {
     "end_time": "2023-08-26T13:37:11.623285800Z",
     "start_time": "2023-08-26T13:37:11.558457900Z"
    }
   },
   "outputs": [
    {
     "name": "stdout",
     "output_type": "stream",
     "text": [
      "Columns with higher than 0.7 correlation with Displacement (ccm) : ['Power (hp)', 'Bore (mm)', 'Dry weight (kg)']\n"
     ]
    },
    {
     "data": {
      "text/plain": "(13673, 21)"
     },
     "execution_count": 9,
     "metadata": {},
     "output_type": "execute_result"
    }
   ],
   "source": [
    "# Set a correlation threshold\n",
    "correlation_threshold = 0.7\n",
    "\n",
    "# Set the specific column of interest\n",
    "specific_column = \"Displacement (ccm)\"\n",
    "# correlated_columns=set()\n",
    "# for i in range(len(correlation_matrix.columns)):\n",
    "#     for j in range(i):\n",
    "#         if abs(correlation_matrix.iloc[i, j]) > correlation_threshold:\n",
    "#             colname_i = correlation_matrix.columns[i]\n",
    "#             colname_j = correlation_matrix.columns[j]\n",
    "            \n",
    "#             print(colname_i,\" - \",colname_j,\" : \",correlation_matrix.iloc[i, j])\n",
    "#             print(\"----------\")\n",
    "            \n",
    "#             correlated_columns.add(colname_i)\n",
    "#             correlated_columns.add(colname_j)   \n",
    "# Identify highly correlated columns to the specific column\n",
    "highly_correlated_columns = correlation_matrix[specific_column][(abs(correlation_matrix[specific_column]) > correlation_threshold) & (correlation_matrix[specific_column].index != specific_column)].index.tolist()\n",
    "print(f'Columns with higher than {correlation_threshold} correlation with {specific_column} : {highly_correlated_columns}')\n",
    "\n",
    "numerical_columns_list = list(filter(lambda i: i not in highly_correlated_columns, numerical_columns_list))\n",
    "\n",
    "features = list(filter(lambda i: i not in highly_correlated_columns, features))\n",
    "# Drop the highly correlated columns\n",
    "workdf_dropped = workdf.drop(highly_correlated_columns, axis=1)\n",
    "workdf_dropped.shape"
   ]
  },
  {
   "cell_type": "code",
   "execution_count": 10,
   "metadata": {
    "ExecuteTime": {
     "end_time": "2023-08-26T13:37:11.659188300Z",
     "start_time": "2023-08-26T13:37:11.586383300Z"
    }
   },
   "outputs": [
    {
     "data": {
      "text/plain": "['Displacement (ccm)',\n 'Stroke (mm)',\n 'Fuel capacity (lts)',\n 'Wheelbase (mm)',\n 'Seat height (mm)']"
     },
     "execution_count": 10,
     "metadata": {},
     "output_type": "execute_result"
    }
   ],
   "source": [
    "numerical_columns_list\n"
   ]
  },
  {
   "cell_type": "code",
   "execution_count": 11,
   "metadata": {
    "ExecuteTime": {
     "end_time": "2023-08-26T13:37:12.017232Z",
     "start_time": "2023-08-26T13:37:11.606330300Z"
    }
   },
   "outputs": [],
   "source": [
    "# 3. remove rows with cols which has low % of nulls\n",
    "# should i do it?"
   ]
  },
  {
   "cell_type": "code",
   "execution_count": 12,
   "metadata": {
    "ExecuteTime": {
     "end_time": "2023-08-26T13:37:12.057124600Z",
     "start_time": "2023-08-26T13:37:11.618298500Z"
    }
   },
   "outputs": [],
   "source": [
    "# 4. remove rows that have 50% of columns as null\n",
    "workdf_dropped.dropna(thresh=workdf_dropped.shape[1]/2, inplace=True)"
   ]
  },
  {
   "cell_type": "code",
   "execution_count": 13,
   "metadata": {
    "ExecuteTime": {
     "end_time": "2023-08-26T13:37:12.093029100Z",
     "start_time": "2023-08-26T13:37:11.649214700Z"
    }
   },
   "outputs": [
    {
     "data": {
      "text/plain": "(13496, 21)"
     },
     "execution_count": 13,
     "metadata": {},
     "output_type": "execute_result"
    }
   ],
   "source": [
    "workdf_dropped.shape"
   ]
  },
  {
   "cell_type": "code",
   "execution_count": 14,
   "metadata": {
    "ExecuteTime": {
     "end_time": "2023-08-26T13:37:12.113975600Z",
     "start_time": "2023-08-26T13:37:11.664174100Z"
    }
   },
   "outputs": [
    {
     "data": {
      "text/plain": "                          skew     kurtosis         Mean         STD\nDisplacement (ccm)    2.990437    23.375779   546.462181  539.568813\nStroke (mm)           1.753834    20.862145    64.592883   18.438268\nFuel capacity (lts)   0.423434     0.419390    13.077054    6.026599\nWheelbase (mm)        0.300940     3.190720  1417.837903  170.446251\nSeat height (mm)     28.803370  1442.618982   791.628694  134.441156",
      "text/html": "<div>\n<style scoped>\n    .dataframe tbody tr th:only-of-type {\n        vertical-align: middle;\n    }\n\n    .dataframe tbody tr th {\n        vertical-align: top;\n    }\n\n    .dataframe thead th {\n        text-align: right;\n    }\n</style>\n<table border=\"1\" class=\"dataframe\">\n  <thead>\n    <tr style=\"text-align: right;\">\n      <th></th>\n      <th>skew</th>\n      <th>kurtosis</th>\n      <th>Mean</th>\n      <th>STD</th>\n    </tr>\n  </thead>\n  <tbody>\n    <tr>\n      <th>Displacement (ccm)</th>\n      <td>2.990437</td>\n      <td>23.375779</td>\n      <td>546.462181</td>\n      <td>539.568813</td>\n    </tr>\n    <tr>\n      <th>Stroke (mm)</th>\n      <td>1.753834</td>\n      <td>20.862145</td>\n      <td>64.592883</td>\n      <td>18.438268</td>\n    </tr>\n    <tr>\n      <th>Fuel capacity (lts)</th>\n      <td>0.423434</td>\n      <td>0.419390</td>\n      <td>13.077054</td>\n      <td>6.026599</td>\n    </tr>\n    <tr>\n      <th>Wheelbase (mm)</th>\n      <td>0.300940</td>\n      <td>3.190720</td>\n      <td>1417.837903</td>\n      <td>170.446251</td>\n    </tr>\n    <tr>\n      <th>Seat height (mm)</th>\n      <td>28.803370</td>\n      <td>1442.618982</td>\n      <td>791.628694</td>\n      <td>134.441156</td>\n    </tr>\n  </tbody>\n</table>\n</div>"
     },
     "execution_count": 14,
     "metadata": {},
     "output_type": "execute_result"
    }
   ],
   "source": [
    "workdf_stat=pd.DataFrame()\n",
    "workdf_stat['skew']=workdf_dropped[numerical_columns_list].skew()\n",
    "workdf_stat['kurtosis']=workdf_dropped[numerical_columns_list].kurtosis()\n",
    "workdf_stat['Mean']=workdf_dropped[numerical_columns_list].mean()\n",
    "workdf_stat['STD']=workdf_dropped[numerical_columns_list].std()\n",
    "\n",
    "workdf_stat\n",
    "\n"
   ]
  },
  {
   "cell_type": "markdown",
   "metadata": {},
   "source": [
    "Based on the provided data:\n",
    "\n",
    "*Displacement (ccm):*\n",
    "Skewness = 2.985938 (positive)  \n",
    "Kurtosis = 24.641551 (positive)  \n",
    "Interpretation: The distribution of Displacement (ccm) is likely right-skewed (positively skewed) and has heavier tails than a normal distribution (leptokurtic). **It is not normally distributed.**   \n",
    "\n",
    "*Fuel capacity (lts):*  \n",
    "Skewness = 0.398549 (close to 0)  \n",
    "Kurtosis = 0.703285 (close to 0)  \n",
    "Interpretation: The distribution of Fuel capacity (lts) is approximately symmetric and has tails similar to a normal distribution (mesokurtic). **It is approximately normally distributed.**  \n",
    "\n",
    "*Wheelbase (mm):*  \n",
    "Skewness = 0.729586 (positive)  \n",
    "Kurtosis = 4.747603 (positive)  \n",
    "Interpretation: The distribution of Wheelbase (mm) is slightly right-skewed (positively skewed) and has heavier tails than a normal distribution (leptokurtic). **It is not normally distributed.**  \n",
    "\n",
    "*Seat height (mm):*  \n",
    "Skewness = -0.153437 (negative)  \n",
    "Kurtosis = 1.013157 (close to 0)  \n",
    "Interpretation: The distribution of Seat height (mm) is approximately symmetric and has tails similar to a normal distribution (mesokurtic). **It is approximately normally distributed.**  \n",
    "\n",
    "### Methods for Predicting Nulls in Not Normally Distributed Data\n",
    "\n",
    "| Method | Advantages | Disadvantages |\n",
    "|:------:|:----------:|:-------------:|\n",
    "| Mean imputation | Simple and easy to implement | Can introduce bias into the data |\n",
    "| Median imputation | Less biased than mean imputation | Can introduce bias if the distribution of the data is skewed |\n",
    "| KNN imputation | More accurate than mean or median imputation | More complex to implement |\n",
    "| Bayesian imputation | Most accurate of the methods listed | Most complex to implement |\n",
    "\n",
    "### Methods for Predicting Nulls in Normally Distributed Data\n",
    "\n",
    "| Method | Advantages | Disadvantages |\n",
    "|:------:|:----------:|:-------------:|\n",
    "| Mean imputation | Simple and easy to implement | Can introduce bias into the data if the distribution of the data is not perfectly normally distributed |\n",
    "| Median imputation | Less biased than mean imputation | Can introduce bias if the distribution of the data is skewed |\n"
   ]
  },
  {
   "cell_type": "code",
   "execution_count": 15,
   "metadata": {
    "ExecuteTime": {
     "end_time": "2023-08-26T13:37:18.306051600Z",
     "start_time": "2023-08-26T13:37:11.714041600Z"
    }
   },
   "outputs": [
    {
     "data": {
      "text/plain": "Displacement (ccm)        0\nEngine cylinder           1\nEngine stroke             1\nGearbox                1738\nStroke (mm)            3196\nFuel capacity (lts)       0\nFuel control           5765\nCooling system         1355\nTransmission type      1649\nWheelbase (mm)            0\nSeat height (mm)          0\nFuel system            3455\nRear brakes             442\nFront tire                0\nFront suspension       4117\nRear suspension        4281\ndtype: int64"
     },
     "execution_count": 15,
     "metadata": {},
     "output_type": "execute_result"
    }
   ],
   "source": [
    "not_normally_distributed=[\"Displacement (ccm)\",\"Wheelbase (mm)\"] #\"Stroke (mm)\"\n",
    "normally_distributed=[\"Fuel capacity (lts)\",\"Seat height (mm)\"]\n",
    "\n",
    "\n",
    "# Impute null values using KNNImputer\n",
    "# knn_imputer = KNNImputer(n_neighbors=3)\n",
    "# workdf_imputed = pd.DataFrame(knn_imputer.fit_transform(workdf_dropped[not_normally_distributed]),columns=not_normally_distributed).reset_index(drop=True)\n",
    "# tmpDf=pd.DataFrame(workdf_dropped[normally_distributed].fillna(workdf_dropped[normally_distributed].median()),columns=normally_distributed).reset_index(drop=True)\n",
    "# workdf_imputed=pd.concat([workdf_imputed,tmpDf],axis=1)\n",
    "# workdf_imputed.isnull().sum()\n",
    "\n",
    "# Create KNNImputer instance\n",
    "knn_imputer = KNNImputer(n_neighbors=3)\n",
    "\n",
    "# Impute the columns specified in not_normally_distributed\n",
    "workdf_dropped[not_normally_distributed] = knn_imputer.fit_transform(workdf_dropped[not_normally_distributed])\n",
    "\n",
    "# Fill the columns specified in normally_distributed with median values\n",
    "workdf_dropped[normally_distributed] = workdf_dropped[normally_distributed].fillna(workdf_dropped[normally_distributed].median())\n",
    "\n",
    "# Check for any remaining missing values in the DataFrame\n",
    "workdf_dropped[features].isnull().sum()"
   ]
  },
  {
   "cell_type": "code",
   "execution_count": 16,
   "metadata": {
    "ExecuteTime": {
     "end_time": "2023-08-26T13:37:18.417229600Z",
     "start_time": "2023-08-26T13:37:18.301539600Z"
    }
   },
   "outputs": [
    {
     "data": {
      "text/plain": "                   Null Percentage  Null Count  Non-Null Count  \\\nFuel control             42.716360        5765            7731   \nRear suspension          31.720510        4281            9215   \nFront suspension         30.505335        4117            9379   \nFuel system              25.600178        3455           10041   \nGearbox                  12.877890        1738           11758   \nTransmission type        12.218435        1649           11847   \nCooling system           10.040012        1355           12141   \nRear brakes               3.275044         442           13054   \nEngine cylinder           0.007410           1           13495   \nEngine stroke             0.007410           1           13495   \nFront tire                0.000000           0           13496   \n\n                   Distinct Count   DType  Categorical  \nFuel control                   14  object         True  \nRear suspension                12  object         True  \nFront suspension                7  object         True  \nFuel system                     7  object         True  \nGearbox                        14  object         True  \nTransmission type               3  object         True  \nCooling system                  3  object         True  \nRear brakes                    52  object         True  \nEngine cylinder                20  object         True  \nEngine stroke                   9  object         True  \nFront tire                     10  object         True  ",
      "text/html": "<div>\n<style scoped>\n    .dataframe tbody tr th:only-of-type {\n        vertical-align: middle;\n    }\n\n    .dataframe tbody tr th {\n        vertical-align: top;\n    }\n\n    .dataframe thead th {\n        text-align: right;\n    }\n</style>\n<table border=\"1\" class=\"dataframe\">\n  <thead>\n    <tr style=\"text-align: right;\">\n      <th></th>\n      <th>Null Percentage</th>\n      <th>Null Count</th>\n      <th>Non-Null Count</th>\n      <th>Distinct Count</th>\n      <th>DType</th>\n      <th>Categorical</th>\n    </tr>\n  </thead>\n  <tbody>\n    <tr>\n      <th>Fuel control</th>\n      <td>42.716360</td>\n      <td>5765</td>\n      <td>7731</td>\n      <td>14</td>\n      <td>object</td>\n      <td>True</td>\n    </tr>\n    <tr>\n      <th>Rear suspension</th>\n      <td>31.720510</td>\n      <td>4281</td>\n      <td>9215</td>\n      <td>12</td>\n      <td>object</td>\n      <td>True</td>\n    </tr>\n    <tr>\n      <th>Front suspension</th>\n      <td>30.505335</td>\n      <td>4117</td>\n      <td>9379</td>\n      <td>7</td>\n      <td>object</td>\n      <td>True</td>\n    </tr>\n    <tr>\n      <th>Fuel system</th>\n      <td>25.600178</td>\n      <td>3455</td>\n      <td>10041</td>\n      <td>7</td>\n      <td>object</td>\n      <td>True</td>\n    </tr>\n    <tr>\n      <th>Gearbox</th>\n      <td>12.877890</td>\n      <td>1738</td>\n      <td>11758</td>\n      <td>14</td>\n      <td>object</td>\n      <td>True</td>\n    </tr>\n    <tr>\n      <th>Transmission type</th>\n      <td>12.218435</td>\n      <td>1649</td>\n      <td>11847</td>\n      <td>3</td>\n      <td>object</td>\n      <td>True</td>\n    </tr>\n    <tr>\n      <th>Cooling system</th>\n      <td>10.040012</td>\n      <td>1355</td>\n      <td>12141</td>\n      <td>3</td>\n      <td>object</td>\n      <td>True</td>\n    </tr>\n    <tr>\n      <th>Rear brakes</th>\n      <td>3.275044</td>\n      <td>442</td>\n      <td>13054</td>\n      <td>52</td>\n      <td>object</td>\n      <td>True</td>\n    </tr>\n    <tr>\n      <th>Engine cylinder</th>\n      <td>0.007410</td>\n      <td>1</td>\n      <td>13495</td>\n      <td>20</td>\n      <td>object</td>\n      <td>True</td>\n    </tr>\n    <tr>\n      <th>Engine stroke</th>\n      <td>0.007410</td>\n      <td>1</td>\n      <td>13495</td>\n      <td>9</td>\n      <td>object</td>\n      <td>True</td>\n    </tr>\n    <tr>\n      <th>Front tire</th>\n      <td>0.000000</td>\n      <td>0</td>\n      <td>13496</td>\n      <td>10</td>\n      <td>object</td>\n      <td>True</td>\n    </tr>\n  </tbody>\n</table>\n</div>"
     },
     "execution_count": 16,
     "metadata": {},
     "output_type": "execute_result"
    }
   ],
   "source": [
    "df_info(workdf_dropped[categorical_columns_list])\n"
   ]
  },
  {
   "cell_type": "markdown",
   "metadata": {},
   "source": [
    "# Exercise 2 (Encoding of Categorical Data)"
   ]
  },
  {
   "cell_type": "markdown",
   "metadata": {},
   "source": [
    "In \"Front suspension\" column we have 'telescopic fork' and 'telescopic forks' \n",
    "which are pretty similar.\n",
    "so we find all telescopic forks and replace them with telescopic fork."
   ]
  },
  {
   "cell_type": "code",
   "execution_count": 17,
   "metadata": {
    "ExecuteTime": {
     "end_time": "2023-08-26T13:37:18.451910Z",
     "start_time": "2023-08-26T13:37:18.427204Z"
    }
   },
   "outputs": [],
   "source": [
    "if 'Front suspension' in workdf_dropped.columns:\n",
    "    workdf_dropped['Front suspension'] = workdf_dropped['Front suspension'].replace('telescopic forks', 'telescopic fork')\n",
    "else:\n",
    "    print('Front suspension was removed before')"
   ]
  },
  {
   "cell_type": "markdown",
   "metadata": {},
   "source": [
    "we change all nans to \"nans\" so it would be easier to do one hot manually on them"
   ]
  },
  {
   "cell_type": "code",
   "execution_count": 18,
   "metadata": {
    "ExecuteTime": {
     "end_time": "2023-08-26T13:37:18.617695Z",
     "start_time": "2023-08-26T13:37:18.451138300Z"
    }
   },
   "outputs": [],
   "source": [
    "workdf_dropped[categorical_columns_list]=workdf_dropped[categorical_columns_list].fillna(\"nan\")"
   ]
  },
  {
   "cell_type": "code",
   "execution_count": 19,
   "metadata": {
    "ExecuteTime": {
     "end_time": "2023-08-26T13:37:18.618692300Z",
     "start_time": "2023-08-26T13:37:18.544889200Z"
    }
   },
   "outputs": [],
   "source": [
    "def extract_parts(input_value) -> list:\n",
    "    extracted_parts=[]\n",
    "    \n",
    "    if isinstance(input_value, np.ndarray):\n",
    "        # Split the text based on either a comma or a period\n",
    "        parts = [re.split(r'[,.]', item) for item in input_value]\n",
    "        # Remove any leading/trailing whitespace from the extracted parts\n",
    "        extracted_parts = [part.strip() for sublist in parts for part in sublist if part.strip()]\n",
    "    elif isinstance(input_value, str):\n",
    "        # Split the text based on either a comma or a period\n",
    "        parts = re.split(r'[,.]', input_value)\n",
    "        # Remove any leading/trailing whitespace from the extracted parts\n",
    "        extracted_parts = [part.strip() for part in parts]\n",
    "    else:\n",
    "        pass\n",
    "    return list(set(extracted_parts))\n",
    "        "
   ]
  },
  {
   "cell_type": "markdown",
   "metadata": {},
   "source": [
    "finding which cols follow the rule of the hint"
   ]
  },
  {
   "cell_type": "code",
   "execution_count": 20,
   "metadata": {
    "ExecuteTime": {
     "end_time": "2023-08-26T13:38:19.281088500Z",
     "start_time": "2023-08-26T13:37:18.544889200Z"
    }
   },
   "outputs": [],
   "source": [
    "import re\n",
    "# regex: bool, default True If True, assumes the pat is a regular expression.\n",
    "#              If False, treats the pat as a literal string.\n",
    "\n",
    "# case: bool, default True If True, case sensitive.\n",
    "workdf_dropped_copy=workdf_dropped.copy()\n",
    "for col in categorical_columns_list:\n",
    "    if workdf_dropped[col].str.contains('[,\\.]', case=False,regex=True).any():\n",
    "        col_content=extract_parts(workdf_dropped[col].unique())\n",
    "        temp_df=pd.DataFrame(0, index=workdf_dropped.index, columns=col_content)\n",
    "        \n",
    "        # Performing the one-hot encoding manually for the columns that are list of characteristics\n",
    "        for idx, row in workdf_dropped.iterrows():\n",
    "            row_content=extract_parts(row[col])\n",
    "            temp_df.loc[idx, row_content] = 1\n",
    "        temp_df=temp_df.add_prefix(col+\"_\")\n",
    "        workdf_dropped = pd.concat([workdf_dropped.drop(col, axis=1), temp_df], axis=1)\n",
    "        \n",
    "    else:\n",
    "        col_content = workdf_dropped[col].unique()\n",
    "        # Perform one-hot encoding\n",
    "        one_hot_encoded=pd.get_dummies(workdf_dropped[col],prefix=col, dummy_na=False)\n",
    "        # Add one-hot encoded columns to the original DataFrame and drop the original \"Category\" column\n",
    "        workdf_dropped = pd.concat([workdf_dropped.drop(col, axis=1), one_hot_encoded], axis=1)\n",
    "\n",
    "# workdf_dropped=workdf_dropped_copy.copy()\n"
   ]
  },
  {
   "cell_type": "markdown",
   "metadata": {},
   "source": [
    "Creating the sub-DF named Xworkdf"
   ]
  },
  {
   "cell_type": "code",
   "execution_count": 21,
   "metadata": {
    "ExecuteTime": {
     "end_time": "2023-08-26T13:38:19.334477600Z",
     "start_time": "2023-08-26T13:38:19.282616100Z"
    }
   },
   "outputs": [
    {
     "data": {
      "text/plain": "(13496, 121)"
     },
     "execution_count": 21,
     "metadata": {},
     "output_type": "execute_result"
    }
   ],
   "source": [
    "workdf_dropped.shape"
   ]
  },
  {
   "cell_type": "code",
   "execution_count": 22,
   "metadata": {
    "ExecuteTime": {
     "end_time": "2023-08-26T13:38:19.453160100Z",
     "start_time": "2023-08-26T13:38:19.314530800Z"
    }
   },
   "outputs": [],
   "source": [
    "Xworkdf=workdf_dropped.drop(columns=labels, axis=1).copy()\n",
    "     "
   ]
  },
  {
   "cell_type": "markdown",
   "metadata": {},
   "source": [
    "# Exercise 3 (Preprocessing and PCA)\n",
    "create 2 DFs Xworkdf_std and Xworkdf_mm, created using a StandardScaler and a\n",
    "MinMaxScaler (min = 0, max = 1), respectively, applied to Xworkdf."
   ]
  },
  {
   "cell_type": "code",
   "execution_count": 23,
   "metadata": {
    "ExecuteTime": {
     "end_time": "2023-08-26T13:38:19.455155800Z",
     "start_time": "2023-08-26T13:38:19.392323100Z"
    }
   },
   "outputs": [],
   "source": [
    "from sklearn.preprocessing import StandardScaler, MinMaxScaler\n",
    "\n",
    "# Initialize scalers\n",
    "std_scaler = StandardScaler()\n",
    "minmax_scaler = MinMaxScaler()\n",
    "\n",
    "# creating DFs\n",
    "Xworkdf_std = Xworkdf.copy()\n",
    "Xworkdf_mm = Xworkdf.copy()\n",
    "\n",
    "Xworkdf_std[numerical_columns_list] = std_scaler.fit_transform(Xworkdf[numerical_columns_list])\n",
    "Xworkdf_mm[numerical_columns_list] = minmax_scaler.fit_transform(Xworkdf[numerical_columns_list])"
   ]
  },
  {
   "cell_type": "markdown",
   "metadata": {},
   "source": [
    "analyze and comment a comparison of the variances of Xworkdf with the variances\n",
    "of Xworkdf std and Xworkdf mm, with a special focus on the non-categorical features."
   ]
  },
  {
   "cell_type": "code",
   "execution_count": 24,
   "metadata": {
    "ExecuteTime": {
     "end_time": "2023-08-26T13:38:19.574834700Z",
     "start_time": "2023-08-26T13:38:19.450168Z"
    }
   },
   "outputs": [],
   "source": [
    "original_df_var=Xworkdf[numerical_columns_list].var()\n",
    "std_df_var=Xworkdf_std[numerical_columns_list].var()\n",
    "mm_df_var=Xworkdf_mm[numerical_columns_list].var()"
   ]
  },
  {
   "cell_type": "code",
   "execution_count": 25,
   "metadata": {
    "ExecuteTime": {
     "end_time": "2023-08-26T13:38:19.621710400Z",
     "start_time": "2023-08-26T13:38:19.545912500Z"
    }
   },
   "outputs": [
    {
     "name": "stdout",
     "output_type": "stream",
     "text": [
      "Original data variance:\n",
      "Displacement (ccm)     287474.488104\n",
      "Stroke (mm)               339.969740\n",
      "Fuel capacity (lts)        29.829212\n",
      "Wheelbase (mm)          25322.669995\n",
      "Seat height (mm)        11509.582097\n",
      "dtype: float64\n",
      "----------\n",
      "Standard Scalered data variance:\n",
      "Displacement (ccm)     1.000074\n",
      "Stroke (mm)            1.000097\n",
      "Fuel capacity (lts)    1.000074\n",
      "Wheelbase (mm)         1.000074\n",
      "Seat height (mm)       1.000074\n",
      "dtype: float64\n",
      "----------\n",
      "MinMax Scalered data variance:\n",
      "Displacement (ccm)     0.004302\n",
      "Stroke (mm)            0.001616\n",
      "Fuel capacity (lts)    0.012174\n",
      "Wheelbase (mm)         0.008138\n",
      "Seat height (mm)       0.000207\n",
      "dtype: float64\n"
     ]
    }
   ],
   "source": [
    "print(\"Original data variance:\")\n",
    "print(original_df_var)\n",
    "print('----------')\n",
    "print(\"Standard Scalered data variance:\")\n",
    "print(std_df_var)\n",
    "print('----------')\n",
    "print(\"MinMax Scalered data variance:\")\n",
    "print(mm_df_var)"
   ]
  },
  {
   "cell_type": "code",
   "execution_count": 26,
   "metadata": {
    "ExecuteTime": {
     "end_time": "2023-08-26T13:38:21.356075900Z",
     "start_time": "2023-08-26T13:38:19.610741Z"
    }
   },
   "outputs": [
    {
     "data": {
      "text/plain": "<Figure size 1200x400 with 3 Axes>",
      "image/png": "[encoded data removed]"
     },
     "metadata": {},
     "output_type": "display_data"
    }
   ],
   "source": [
    "data={\n",
    "    \"Original data variance\":original_df_var,\n",
    "    \"Standard Scalered data variance\":std_df_var,\n",
    "    \"MinMax Scalered data variance\":mm_df_var\n",
    "}\n",
    "df = pd.DataFrame(data)\n",
    "fig, axes = plt.subplots(nrows=1, ncols=len(df.columns), figsize=(12, 4))\n",
    "\n",
    "# Plot each variable\n",
    "for i, col in enumerate(df.columns):\n",
    "    df[col].plot(kind='bar', ax=axes[i])\n",
    "    axes[i].set_title(col)\n",
    "\n",
    "plt.tight_layout()\n",
    "plt.show()"
   ]
  },
  {
   "cell_type": "markdown",
   "metadata": {},
   "source": [
    "## Observation & Inference\n",
    " - _Original Variance_:\n",
    "<br>\n",
    "The variance of the original data is the highest, as indicated by the largest values among the three.\n",
    "<br>\n",
    "This is expected because the original data contains values at their original scales.\n",
    "<br>\n",
    "<br>\n",
    " - _Standard Scaler Variance_:\n",
    "<br>\n",
    "The variance after applying the StandardScaler is very close to 1 for all variables.\n",
    "<br>\n",
    "This indicates that the data has been standardized to have zero mean and unit variance.\n",
    "<br>\n",
    "StandardScaler scales the data such that each feature has a mean of 0 and a standard deviation of 1.\n",
    "<br>\n",
    "The fact that the variances are close to 1 suggests that the features have been standardized and now have a similar scale.\n",
    "<br>\n",
    "<br>\n",
    " - _MinMax Scaler Variance_:\n",
    "<br>\n",
    "The variance after applying the MinMaxScaler is smaller than 1 for all variables.\n",
    "<br>\n",
    "MinMaxScaler scales the data to a specific range, usually [0, 1], based on the minimum and maximum values in the original data.<br>\n",
    "The fact that the variances are smaller than 1 indicates that the features have been scaled to a smaller range."
   ]
  },
  {
   "cell_type": "markdown",
   "metadata": {},
   "source": [
    "## Full PCA (no dimensionality reduction)"
   ]
  },
  {
   "cell_type": "code",
   "execution_count": 27,
   "metadata": {
    "ExecuteTime": {
     "end_time": "2023-08-26T13:38:22.549457100Z",
     "start_time": "2023-08-26T13:38:21.341841900Z"
    }
   },
   "outputs": [
    {
     "ename": "ValueError",
     "evalue": "Input X contains NaN.\nPCA does not accept missing values encoded as NaN natively. For supervised learning, you might want to consider sklearn.ensemble.HistGradientBoostingClassifier and Regressor which accept missing values encoded as NaNs natively. Alternatively, it is possible to preprocess the data, for instance by using an imputer transformer in a pipeline or drop samples with missing values. See https://scikit-learn.org/stable/modules/impute.html You can find a list of all estimators that handle NaN values at the following page: https://scikit-learn.org/stable/modules/impute.html#estimators-that-handle-nan-values",
     "output_type": "error",
     "traceback": [
      "\u001B[1;31m---------------------------------------------------------------------------\u001B[0m",
      "\u001B[1;31mValueError\u001B[0m                                Traceback (most recent call last)",
      "Cell \u001B[1;32mIn[27], line 7\u001B[0m\n\u001B[0;32m      4\u001B[0m \u001B[38;5;66;03m# Apply PCA with no dimensionality reduction\u001B[39;00m\n\u001B[0;32m      5\u001B[0m pca \u001B[38;5;241m=\u001B[39m PCA(n_components\u001B[38;5;241m=\u001B[39mXworkdf\u001B[38;5;241m.\u001B[39mshape[\u001B[38;5;241m1\u001B[39m])\n\u001B[1;32m----> 7\u001B[0m Xworkdf_pca \u001B[38;5;241m=\u001B[39m \u001B[43mpca\u001B[49m\u001B[38;5;241;43m.\u001B[39;49m\u001B[43mfit_transform\u001B[49m\u001B[43m(\u001B[49m\u001B[43mXworkdf\u001B[49m\u001B[43m)\u001B[49m\n\u001B[0;32m      8\u001B[0m cum_exp_var \u001B[38;5;241m=\u001B[39m np\u001B[38;5;241m.\u001B[39minsert(np\u001B[38;5;241m.\u001B[39mcumsum(pca\u001B[38;5;241m.\u001B[39mexplained_variance_ratio_),\u001B[38;5;241m0\u001B[39m,\u001B[38;5;241m0\u001B[39m)\n\u001B[0;32m      9\u001B[0m pca_components \u001B[38;5;241m=\u001B[39m pca\u001B[38;5;241m.\u001B[39mcomponents_\n",
      "File \u001B[1;32m~\\AppData\\Local\\Programs\\Python\\Python39\\lib\\site-packages\\sklearn\\utils\\_set_output.py:140\u001B[0m, in \u001B[0;36m_wrap_method_output.<locals>.wrapped\u001B[1;34m(self, X, *args, **kwargs)\u001B[0m\n\u001B[0;32m    138\u001B[0m \u001B[38;5;129m@wraps\u001B[39m(f)\n\u001B[0;32m    139\u001B[0m \u001B[38;5;28;01mdef\u001B[39;00m \u001B[38;5;21mwrapped\u001B[39m(\u001B[38;5;28mself\u001B[39m, X, \u001B[38;5;241m*\u001B[39margs, \u001B[38;5;241m*\u001B[39m\u001B[38;5;241m*\u001B[39mkwargs):\n\u001B[1;32m--> 140\u001B[0m     data_to_wrap \u001B[38;5;241m=\u001B[39m f(\u001B[38;5;28mself\u001B[39m, X, \u001B[38;5;241m*\u001B[39margs, \u001B[38;5;241m*\u001B[39m\u001B[38;5;241m*\u001B[39mkwargs)\n\u001B[0;32m    141\u001B[0m     \u001B[38;5;28;01mif\u001B[39;00m \u001B[38;5;28misinstance\u001B[39m(data_to_wrap, \u001B[38;5;28mtuple\u001B[39m):\n\u001B[0;32m    142\u001B[0m         \u001B[38;5;66;03m# only wrap the first output for cross decomposition\u001B[39;00m\n\u001B[0;32m    143\u001B[0m         return_tuple \u001B[38;5;241m=\u001B[39m (\n\u001B[0;32m    144\u001B[0m             _wrap_data_with_container(method, data_to_wrap[\u001B[38;5;241m0\u001B[39m], X, \u001B[38;5;28mself\u001B[39m),\n\u001B[0;32m    145\u001B[0m             \u001B[38;5;241m*\u001B[39mdata_to_wrap[\u001B[38;5;241m1\u001B[39m:],\n\u001B[0;32m    146\u001B[0m         )\n",
      "File \u001B[1;32m~\\AppData\\Local\\Programs\\Python\\Python39\\lib\\site-packages\\sklearn\\base.py:1151\u001B[0m, in \u001B[0;36m_fit_context.<locals>.decorator.<locals>.wrapper\u001B[1;34m(estimator, *args, **kwargs)\u001B[0m\n\u001B[0;32m   1144\u001B[0m     estimator\u001B[38;5;241m.\u001B[39m_validate_params()\n\u001B[0;32m   1146\u001B[0m \u001B[38;5;28;01mwith\u001B[39;00m config_context(\n\u001B[0;32m   1147\u001B[0m     skip_parameter_validation\u001B[38;5;241m=\u001B[39m(\n\u001B[0;32m   1148\u001B[0m         prefer_skip_nested_validation \u001B[38;5;129;01mor\u001B[39;00m global_skip_validation\n\u001B[0;32m   1149\u001B[0m     )\n\u001B[0;32m   1150\u001B[0m ):\n\u001B[1;32m-> 1151\u001B[0m     \u001B[38;5;28;01mreturn\u001B[39;00m fit_method(estimator, \u001B[38;5;241m*\u001B[39margs, \u001B[38;5;241m*\u001B[39m\u001B[38;5;241m*\u001B[39mkwargs)\n",
      "File \u001B[1;32m~\\AppData\\Local\\Programs\\Python\\Python39\\lib\\site-packages\\sklearn\\decomposition\\_pca.py:460\u001B[0m, in \u001B[0;36mPCA.fit_transform\u001B[1;34m(self, X, y)\u001B[0m\n\u001B[0;32m    437\u001B[0m \u001B[38;5;129m@_fit_context\u001B[39m(prefer_skip_nested_validation\u001B[38;5;241m=\u001B[39m\u001B[38;5;28;01mTrue\u001B[39;00m)\n\u001B[0;32m    438\u001B[0m \u001B[38;5;28;01mdef\u001B[39;00m \u001B[38;5;21mfit_transform\u001B[39m(\u001B[38;5;28mself\u001B[39m, X, y\u001B[38;5;241m=\u001B[39m\u001B[38;5;28;01mNone\u001B[39;00m):\n\u001B[0;32m    439\u001B[0m \u001B[38;5;250m    \u001B[39m\u001B[38;5;124;03m\"\"\"Fit the model with X and apply the dimensionality reduction on X.\u001B[39;00m\n\u001B[0;32m    440\u001B[0m \n\u001B[0;32m    441\u001B[0m \u001B[38;5;124;03m    Parameters\u001B[39;00m\n\u001B[1;32m   (...)\u001B[0m\n\u001B[0;32m    458\u001B[0m \u001B[38;5;124;03m    C-ordered array, use 'np.ascontiguousarray'.\u001B[39;00m\n\u001B[0;32m    459\u001B[0m \u001B[38;5;124;03m    \"\"\"\u001B[39;00m\n\u001B[1;32m--> 460\u001B[0m     U, S, Vt \u001B[38;5;241m=\u001B[39m \u001B[38;5;28;43mself\u001B[39;49m\u001B[38;5;241;43m.\u001B[39;49m\u001B[43m_fit\u001B[49m\u001B[43m(\u001B[49m\u001B[43mX\u001B[49m\u001B[43m)\u001B[49m\n\u001B[0;32m    461\u001B[0m     U \u001B[38;5;241m=\u001B[39m U[:, : \u001B[38;5;28mself\u001B[39m\u001B[38;5;241m.\u001B[39mn_components_]\n\u001B[0;32m    463\u001B[0m     \u001B[38;5;28;01mif\u001B[39;00m \u001B[38;5;28mself\u001B[39m\u001B[38;5;241m.\u001B[39mwhiten:\n\u001B[0;32m    464\u001B[0m         \u001B[38;5;66;03m# X_new = X * V / S * sqrt(n_samples) = U * sqrt(n_samples)\u001B[39;00m\n",
      "File \u001B[1;32m~\\AppData\\Local\\Programs\\Python\\Python39\\lib\\site-packages\\sklearn\\decomposition\\_pca.py:483\u001B[0m, in \u001B[0;36mPCA._fit\u001B[1;34m(self, X)\u001B[0m\n\u001B[0;32m    477\u001B[0m \u001B[38;5;28;01mif\u001B[39;00m issparse(X):\n\u001B[0;32m    478\u001B[0m     \u001B[38;5;28;01mraise\u001B[39;00m \u001B[38;5;167;01mTypeError\u001B[39;00m(\n\u001B[0;32m    479\u001B[0m         \u001B[38;5;124m\"\u001B[39m\u001B[38;5;124mPCA does not support sparse input. See \u001B[39m\u001B[38;5;124m\"\u001B[39m\n\u001B[0;32m    480\u001B[0m         \u001B[38;5;124m\"\u001B[39m\u001B[38;5;124mTruncatedSVD for a possible alternative.\u001B[39m\u001B[38;5;124m\"\u001B[39m\n\u001B[0;32m    481\u001B[0m     )\n\u001B[1;32m--> 483\u001B[0m X \u001B[38;5;241m=\u001B[39m \u001B[38;5;28;43mself\u001B[39;49m\u001B[38;5;241;43m.\u001B[39;49m\u001B[43m_validate_data\u001B[49m\u001B[43m(\u001B[49m\n\u001B[0;32m    484\u001B[0m \u001B[43m    \u001B[49m\u001B[43mX\u001B[49m\u001B[43m,\u001B[49m\u001B[43m \u001B[49m\u001B[43mdtype\u001B[49m\u001B[38;5;241;43m=\u001B[39;49m\u001B[43m[\u001B[49m\u001B[43mnp\u001B[49m\u001B[38;5;241;43m.\u001B[39;49m\u001B[43mfloat64\u001B[49m\u001B[43m,\u001B[49m\u001B[43m \u001B[49m\u001B[43mnp\u001B[49m\u001B[38;5;241;43m.\u001B[39;49m\u001B[43mfloat32\u001B[49m\u001B[43m]\u001B[49m\u001B[43m,\u001B[49m\u001B[43m \u001B[49m\u001B[43mensure_2d\u001B[49m\u001B[38;5;241;43m=\u001B[39;49m\u001B[38;5;28;43;01mTrue\u001B[39;49;00m\u001B[43m,\u001B[49m\u001B[43m \u001B[49m\u001B[43mcopy\u001B[49m\u001B[38;5;241;43m=\u001B[39;49m\u001B[38;5;28;43mself\u001B[39;49m\u001B[38;5;241;43m.\u001B[39;49m\u001B[43mcopy\u001B[49m\n\u001B[0;32m    485\u001B[0m \u001B[43m\u001B[49m\u001B[43m)\u001B[49m\n\u001B[0;32m    487\u001B[0m \u001B[38;5;66;03m# Handle n_components==None\u001B[39;00m\n\u001B[0;32m    488\u001B[0m \u001B[38;5;28;01mif\u001B[39;00m \u001B[38;5;28mself\u001B[39m\u001B[38;5;241m.\u001B[39mn_components \u001B[38;5;129;01mis\u001B[39;00m \u001B[38;5;28;01mNone\u001B[39;00m:\n",
      "File \u001B[1;32m~\\AppData\\Local\\Programs\\Python\\Python39\\lib\\site-packages\\sklearn\\base.py:604\u001B[0m, in \u001B[0;36mBaseEstimator._validate_data\u001B[1;34m(self, X, y, reset, validate_separately, cast_to_ndarray, **check_params)\u001B[0m\n\u001B[0;32m    602\u001B[0m         out \u001B[38;5;241m=\u001B[39m X, y\n\u001B[0;32m    603\u001B[0m \u001B[38;5;28;01melif\u001B[39;00m \u001B[38;5;129;01mnot\u001B[39;00m no_val_X \u001B[38;5;129;01mand\u001B[39;00m no_val_y:\n\u001B[1;32m--> 604\u001B[0m     out \u001B[38;5;241m=\u001B[39m check_array(X, input_name\u001B[38;5;241m=\u001B[39m\u001B[38;5;124m\"\u001B[39m\u001B[38;5;124mX\u001B[39m\u001B[38;5;124m\"\u001B[39m, \u001B[38;5;241m*\u001B[39m\u001B[38;5;241m*\u001B[39mcheck_params)\n\u001B[0;32m    605\u001B[0m \u001B[38;5;28;01melif\u001B[39;00m no_val_X \u001B[38;5;129;01mand\u001B[39;00m \u001B[38;5;129;01mnot\u001B[39;00m no_val_y:\n\u001B[0;32m    606\u001B[0m     out \u001B[38;5;241m=\u001B[39m _check_y(y, \u001B[38;5;241m*\u001B[39m\u001B[38;5;241m*\u001B[39mcheck_params)\n",
      "File \u001B[1;32m~\\AppData\\Local\\Programs\\Python\\Python39\\lib\\site-packages\\sklearn\\utils\\validation.py:959\u001B[0m, in \u001B[0;36mcheck_array\u001B[1;34m(array, accept_sparse, accept_large_sparse, dtype, order, copy, force_all_finite, ensure_2d, allow_nd, ensure_min_samples, ensure_min_features, estimator, input_name)\u001B[0m\n\u001B[0;32m    953\u001B[0m         \u001B[38;5;28;01mraise\u001B[39;00m \u001B[38;5;167;01mValueError\u001B[39;00m(\n\u001B[0;32m    954\u001B[0m             \u001B[38;5;124m\"\u001B[39m\u001B[38;5;124mFound array with dim \u001B[39m\u001B[38;5;132;01m%d\u001B[39;00m\u001B[38;5;124m. \u001B[39m\u001B[38;5;132;01m%s\u001B[39;00m\u001B[38;5;124m expected <= 2.\u001B[39m\u001B[38;5;124m\"\u001B[39m\n\u001B[0;32m    955\u001B[0m             \u001B[38;5;241m%\u001B[39m (array\u001B[38;5;241m.\u001B[39mndim, estimator_name)\n\u001B[0;32m    956\u001B[0m         )\n\u001B[0;32m    958\u001B[0m     \u001B[38;5;28;01mif\u001B[39;00m force_all_finite:\n\u001B[1;32m--> 959\u001B[0m         \u001B[43m_assert_all_finite\u001B[49m\u001B[43m(\u001B[49m\n\u001B[0;32m    960\u001B[0m \u001B[43m            \u001B[49m\u001B[43marray\u001B[49m\u001B[43m,\u001B[49m\n\u001B[0;32m    961\u001B[0m \u001B[43m            \u001B[49m\u001B[43minput_name\u001B[49m\u001B[38;5;241;43m=\u001B[39;49m\u001B[43minput_name\u001B[49m\u001B[43m,\u001B[49m\n\u001B[0;32m    962\u001B[0m \u001B[43m            \u001B[49m\u001B[43mestimator_name\u001B[49m\u001B[38;5;241;43m=\u001B[39;49m\u001B[43mestimator_name\u001B[49m\u001B[43m,\u001B[49m\n\u001B[0;32m    963\u001B[0m \u001B[43m            \u001B[49m\u001B[43mallow_nan\u001B[49m\u001B[38;5;241;43m=\u001B[39;49m\u001B[43mforce_all_finite\u001B[49m\u001B[43m \u001B[49m\u001B[38;5;241;43m==\u001B[39;49m\u001B[43m \u001B[49m\u001B[38;5;124;43m\"\u001B[39;49m\u001B[38;5;124;43mallow-nan\u001B[39;49m\u001B[38;5;124;43m\"\u001B[39;49m\u001B[43m,\u001B[49m\n\u001B[0;32m    964\u001B[0m \u001B[43m        \u001B[49m\u001B[43m)\u001B[49m\n\u001B[0;32m    966\u001B[0m \u001B[38;5;28;01mif\u001B[39;00m ensure_min_samples \u001B[38;5;241m>\u001B[39m \u001B[38;5;241m0\u001B[39m:\n\u001B[0;32m    967\u001B[0m     n_samples \u001B[38;5;241m=\u001B[39m _num_samples(array)\n",
      "File \u001B[1;32m~\\AppData\\Local\\Programs\\Python\\Python39\\lib\\site-packages\\sklearn\\utils\\validation.py:124\u001B[0m, in \u001B[0;36m_assert_all_finite\u001B[1;34m(X, allow_nan, msg_dtype, estimator_name, input_name)\u001B[0m\n\u001B[0;32m    121\u001B[0m \u001B[38;5;28;01mif\u001B[39;00m first_pass_isfinite:\n\u001B[0;32m    122\u001B[0m     \u001B[38;5;28;01mreturn\u001B[39;00m\n\u001B[1;32m--> 124\u001B[0m \u001B[43m_assert_all_finite_element_wise\u001B[49m\u001B[43m(\u001B[49m\n\u001B[0;32m    125\u001B[0m \u001B[43m    \u001B[49m\u001B[43mX\u001B[49m\u001B[43m,\u001B[49m\n\u001B[0;32m    126\u001B[0m \u001B[43m    \u001B[49m\u001B[43mxp\u001B[49m\u001B[38;5;241;43m=\u001B[39;49m\u001B[43mxp\u001B[49m\u001B[43m,\u001B[49m\n\u001B[0;32m    127\u001B[0m \u001B[43m    \u001B[49m\u001B[43mallow_nan\u001B[49m\u001B[38;5;241;43m=\u001B[39;49m\u001B[43mallow_nan\u001B[49m\u001B[43m,\u001B[49m\n\u001B[0;32m    128\u001B[0m \u001B[43m    \u001B[49m\u001B[43mmsg_dtype\u001B[49m\u001B[38;5;241;43m=\u001B[39;49m\u001B[43mmsg_dtype\u001B[49m\u001B[43m,\u001B[49m\n\u001B[0;32m    129\u001B[0m \u001B[43m    \u001B[49m\u001B[43mestimator_name\u001B[49m\u001B[38;5;241;43m=\u001B[39;49m\u001B[43mestimator_name\u001B[49m\u001B[43m,\u001B[49m\n\u001B[0;32m    130\u001B[0m \u001B[43m    \u001B[49m\u001B[43minput_name\u001B[49m\u001B[38;5;241;43m=\u001B[39;49m\u001B[43minput_name\u001B[49m\u001B[43m,\u001B[49m\n\u001B[0;32m    131\u001B[0m \u001B[43m\u001B[49m\u001B[43m)\u001B[49m\n",
      "File \u001B[1;32m~\\AppData\\Local\\Programs\\Python\\Python39\\lib\\site-packages\\sklearn\\utils\\validation.py:173\u001B[0m, in \u001B[0;36m_assert_all_finite_element_wise\u001B[1;34m(X, xp, allow_nan, msg_dtype, estimator_name, input_name)\u001B[0m\n\u001B[0;32m    156\u001B[0m \u001B[38;5;28;01mif\u001B[39;00m estimator_name \u001B[38;5;129;01mand\u001B[39;00m input_name \u001B[38;5;241m==\u001B[39m \u001B[38;5;124m\"\u001B[39m\u001B[38;5;124mX\u001B[39m\u001B[38;5;124m\"\u001B[39m \u001B[38;5;129;01mand\u001B[39;00m has_nan_error:\n\u001B[0;32m    157\u001B[0m     \u001B[38;5;66;03m# Improve the error message on how to handle missing values in\u001B[39;00m\n\u001B[0;32m    158\u001B[0m     \u001B[38;5;66;03m# scikit-learn.\u001B[39;00m\n\u001B[0;32m    159\u001B[0m     msg_err \u001B[38;5;241m+\u001B[39m\u001B[38;5;241m=\u001B[39m (\n\u001B[0;32m    160\u001B[0m         \u001B[38;5;124mf\u001B[39m\u001B[38;5;124m\"\u001B[39m\u001B[38;5;130;01m\\n\u001B[39;00m\u001B[38;5;132;01m{\u001B[39;00mestimator_name\u001B[38;5;132;01m}\u001B[39;00m\u001B[38;5;124m does not accept missing values\u001B[39m\u001B[38;5;124m\"\u001B[39m\n\u001B[0;32m    161\u001B[0m         \u001B[38;5;124m\"\u001B[39m\u001B[38;5;124m encoded as NaN natively. For supervised learning, you might want\u001B[39m\u001B[38;5;124m\"\u001B[39m\n\u001B[1;32m   (...)\u001B[0m\n\u001B[0;32m    171\u001B[0m         \u001B[38;5;124m\"\u001B[39m\u001B[38;5;124m#estimators-that-handle-nan-values\u001B[39m\u001B[38;5;124m\"\u001B[39m\n\u001B[0;32m    172\u001B[0m     )\n\u001B[1;32m--> 173\u001B[0m \u001B[38;5;28;01mraise\u001B[39;00m \u001B[38;5;167;01mValueError\u001B[39;00m(msg_err)\n",
      "\u001B[1;31mValueError\u001B[0m: Input X contains NaN.\nPCA does not accept missing values encoded as NaN natively. For supervised learning, you might want to consider sklearn.ensemble.HistGradientBoostingClassifier and Regressor which accept missing values encoded as NaNs natively. Alternatively, it is possible to preprocess the data, for instance by using an imputer transformer in a pipeline or drop samples with missing values. See https://scikit-learn.org/stable/modules/impute.html You can find a list of all estimators that handle NaN values at the following page: https://scikit-learn.org/stable/modules/impute.html#estimators-that-handle-nan-values"
     ]
    }
   ],
   "source": [
    "from sklearn.decomposition import PCA\n",
    "\n",
    "\n",
    "# Apply PCA with no dimensionality reduction\n",
    "pca = PCA(n_components=Xworkdf.shape[1])\n",
    "\n",
    "Xworkdf_pca = pca.fit_transform(Xworkdf)\n",
    "cum_exp_var = np.insert(np.cumsum(pca.explained_variance_ratio_),0,0)\n",
    "pca_components = pca.components_\n",
    "\n",
    "Xworkdf_std_pca = pca.fit_transform(Xworkdf_std)\n",
    "std_cum_exp_var = np.insert(np.cumsum(pca.explained_variance_ratio_),0,0)\n",
    "pca_components = pca.components_\n",
    "\n",
    "Xworkdf_mm_pca = pca.fit_transform(Xworkdf_mm)\n",
    "mm_cum_exp_var = np.insert(np.cumsum(pca.explained_variance_ratio_),0,0)\n",
    "pca_components = pca.components_\n",
    "\n",
    "\n",
    "plt.plot(cum_exp_var, label='Original')\n",
    "plt.plot(std_cum_exp_var, label='Standard Scaler')\n",
    "plt.plot(mm_cum_exp_var, label='MinMax Scaler')\n",
    "\n",
    "plt.xlabel('Number of Components')\n",
    "plt.ylabel('Cumulative Explained Variance')\n",
    "plt.title('Cumulative Explained Variance vs Number of Components')\n",
    "plt.grid(True)\n",
    "plt.legend()\n",
    "plt.show()"
   ]
  },
  {
   "cell_type": "markdown",
   "metadata": {},
   "source": [
    "__Original Data__: The cumulative explained variance for the original data starts at 0.94 and rapidly increases as you include more principal components.<br><br>\n",
    "__StandardScaler Data__: The cumulative explained variance for the data after applying StandardScaler starts at a lower value (around 0.24) compared to the original data. This is because StandardScaler centers the data around zero and scales it, resulting in a lower variance<br><br>\n",
    "__MinMaxScaler Data__: Similar to StandardScaler, the cumulative explained variance for the data after applying MinMaxScaler starts at a lower value (around 0.17) compared to the original data. MinMaxScaler scales the data to a specific range (usually 0 to 1), which reduces the variance. \n",
    "<br><br>\n",
    "The cumulative explained variance measures how much of the total variance in the data is captured by including a certain number of principal components. For all three versions of the data, as you include more principal components, the cumulative explained variance increases and eventually reaches 1.This means that by using all principal components, you can recover the original variance of the data. However, the pace of increase in the cumulative explained variance differs for the different scaling methods."
   ]
  },
  {
   "cell_type": "markdown",
   "metadata": {},
   "source": [
    "# Exercise 4 (Dimensionality Reduction and Interpretation of the PCs)"
   ]
  },
  {
   "cell_type": "code",
   "execution_count": null,
   "metadata": {
    "ExecuteTime": {
     "end_time": "2023-08-26T13:38:22.748439100Z",
     "start_time": "2023-08-26T13:38:22.559429100Z"
    }
   },
   "outputs": [],
   "source": [
    "std_min_num_pcs = min(np.where(std_cum_exp_var >= 0.35)[0][0],5)\n",
    "print(\"the minimum number of PCs that explains 35% of the total variance\")\n",
    "print(\"for Standard Scaler is: \",std_min_num_pcs)\n",
    "mm_min_num_pcs = min(np.where(mm_cum_exp_var >= 0.35)[0][0],5)\n",
    "print(\"for MinMax Scaler is: \",mm_min_num_pcs)\n"
   ]
  },
  {
   "cell_type": "code",
   "execution_count": null,
   "metadata": {
    "ExecuteTime": {
     "start_time": "2023-08-26T13:38:22.564416200Z"
    }
   },
   "outputs": [],
   "source": [
    "# Apply PCA for Standard Scaler\n",
    "pca_std = PCA(n_components=std_min_num_pcs)\n",
    "Xworkdf_std_pca_m = pca_std.fit_transform(Xworkdf_std)\n",
    "\n",
    "# Apply PCA for MinMax Scaler\n",
    "pca_mm = PCA(n_components=mm_min_num_pcs)\n",
    "Xworkdf_mm_pca_m = pca_mm.fit_transform(Xworkdf_mm)\n",
    "\n",
    "# Create bar plots for explained variance\n",
    "plt.figure(figsize=(12, 6))\n",
    "\n",
    "# Bar plot for Standard Scaler\n",
    "plt.subplot(1, 2, 1)\n",
    "plt.bar(range(1, std_min_num_pcs + 1), pca_std.explained_variance_ratio_ * 100)\n",
    "plt.xlabel('Principal Components')\n",
    "plt.ylabel('Explained Variance (%)')\n",
    "plt.title('Standard Scaler - Explained Variance')\n",
    "plt.xticks(range(1, std_min_num_pcs + 1))\n",
    "\n",
    "# Bar plot for MinMax Scaler\n",
    "plt.subplot(1, 2, 2)\n",
    "plt.bar(range(1, mm_min_num_pcs + 1), pca_mm.explained_variance_ratio_ * 100)\n",
    "plt.xlabel('Principal Components')\n",
    "plt.ylabel('Explained Variance (%)')\n",
    "plt.title('MinMax Scaler - Explained Variance')\n",
    "plt.xticks(range(1, mm_min_num_pcs + 1))\n",
    "\n",
    "plt.tight_layout()\n",
    "plt.show()"
   ]
  },
  {
   "cell_type": "markdown",
   "metadata": {},
   "source": [
    "### Interpretation"
   ]
  },
  {
   "cell_type": "code",
   "execution_count": null,
   "metadata": {
    "ExecuteTime": {
     "start_time": "2023-08-26T13:38:22.569403800Z"
    }
   },
   "outputs": [],
   "source": [
    "# For Standard Scaler\n",
    "interpretation_data = []\n",
    "\n",
    "for component_idx in range(std_min_num_pcs):\n",
    "    loading = pca_std.components_[component_idx]\n",
    "    plt.figure(figsize=(10, 6))\n",
    "    plt.bar(range(len(loading)), loading)\n",
    "    plt.xticks(range(len(loading)), Xworkdf_std.columns, rotation=90,fontsize=5, ha=\"right\")\n",
    "    plt.title(f\"PC {component_idx+1} - Standard Scaler\")\n",
    "    plt.xlabel(\"Original Features\")\n",
    "    plt.ylabel(\"Components\")\n",
    "    plt.tight_layout()\n",
    "    plt.show()\n",
    "    # Find indices of top 3 highest positive and negative loadings\n",
    "    top_positive_indices = np.argsort(loading)[-3:][::-1]\n",
    "    top_negative_indices = np.argsort(loading)[:3]\n",
    "    \n",
    "    top_positive_features = [Xworkdf_std.columns[idx] for idx in top_positive_indices]\n",
    "    top_negative_features = [Xworkdf_std.columns[idx] for idx in top_negative_indices]\n",
    "    \n",
    "    interpretation_data.append({\n",
    "        'Component': f'PC {component_idx+1}',\n",
    "        'Top Positive Loading Features': ', '.join(top_positive_features),\n",
    "        'Top Negative Loading Features': ', '.join(top_negative_features)\n",
    "    })\n",
    "\n",
    "interpretation_df = pd.DataFrame(interpretation_data)\n",
    "pd.set_option(\"display.max_colwidth\", None)\n",
    "display(interpretation_df)\n"
   ]
  },
  {
   "cell_type": "markdown",
   "metadata": {},
   "source": [
    "Based on the top 3 positive loading features for PC 1 with Standard Scaler, which are \"Displacement (ccm)\", \"Wheelbase (mm)\", and \"Fuel capacity (lts)\", it seems like this component captures characteristics related to the overall size and capacity of a vehicle. Therefore, you could name this component as \"_Vehicle Size and Capacity_\".<br>\n",
    "And for the second PC with Standard Scaler, the proper name seems to be \"_Performance-Enhancing Characteristics_\""
   ]
  },
  {
   "cell_type": "code",
   "execution_count": null,
   "metadata": {
    "ExecuteTime": {
     "start_time": "2023-08-26T13:38:22.577381100Z"
    }
   },
   "outputs": [],
   "source": [
    "# For MinMax Scaler\n",
    "interpretation_data = []\n",
    "\n",
    "for component_idx in range(mm_min_num_pcs):\n",
    "    loading = pca_mm.components_[component_idx]\n",
    "    plt.figure(figsize=(9, 5))\n",
    "    plt.bar(range(len(loading)), loading)\n",
    "    plt.xticks(range(len(loading)), Xworkdf_mm.columns, rotation=90,fontsize=5, ha=\"right\")\n",
    "    plt.title(f\"Principal Component {component_idx+1} - MinMax Scaler\")\n",
    "    plt.xlabel(\"Original Features\")\n",
    "    plt.ylabel(\"Components\")\n",
    "    plt.tight_layout()\n",
    "    plt.show()\n",
    "    # Find indices of top 3 highest positive and negative loadings\n",
    "    top_positive_indices = np.argsort(loading)[-3:][::-1]\n",
    "    top_negative_indices = np.argsort(loading)[:3]\n",
    "    \n",
    "    top_positive_features = [Xworkdf_mm.columns[idx] for idx in top_positive_indices]\n",
    "    top_negative_features = [Xworkdf_mm.columns[idx] for idx in top_negative_indices]\n",
    "    \n",
    "    print(f\"Principal Component {component_idx+1} - MinMax Scaler:\")\n",
    "    print(\"Top 3 Highest Positive Loading Features:\", top_positive_features)\n",
    "    print(\"Top 3 Highest Negative Loading Features:\", top_negative_features)\n",
    "    interpretation_data.append({\n",
    "        'Component': f'PC {component_idx+1}',\n",
    "        'Top Positive Loading Features': ', '.join(top_positive_features),\n",
    "        'Top Negative Loading Features': ', '.join(top_negative_features)\n",
    "    })\n",
    "\n",
    "interpretation_df = pd.DataFrame(interpretation_data)\n",
    "pd.set_option(\"display.max_colwidth\", None)\n",
    "display(interpretation_df)"
   ]
  },
  {
   "cell_type": "markdown",
   "metadata": {},
   "source": [
    "For MinMax Scaler PCs, By analyzing the top 3 positive loading features for each Principal Component and suggest names based on those features:\n",
    "\n",
    "PC1:<br>\n",
    "Top 3 Highest Positive Loading Features: ['Fuel system_injection', 'Rear brakes_single disc', 'Cooling system_Liquid']<br>\n",
    "Suggested Name: \"_Enhanced Performance System_\"<br><br>\n",
    "PC2:<br>\n",
    "Top 3 Highest Positive Loading Features: ['Rear suspension_nan', 'Fuel system_nan', 'Engine cylinder_V2']<br>\n",
    "Suggested Name: \"_Advanced Technology Integration_\"<br><br>\n",
    "PC3:<br>\n",
    "Top 3 Highest Positive Loading Features: ['Cooling system_Liquid', 'Transmission type_Chain', 'Fuel control_nan']<br>\n",
    "Suggested Name: \"_Efficient Power Management_\"<br><br>\n",
    "PC4:<br>\n",
    "Top 3 Highest Positive Loading Features: ['Front brakes_single disc', 'Transmission type_Belt', 'Gearbox_Automatic']<br>\n",
    "Suggested Name: \"_Optimized Control System_\""
   ]
  },
  {
   "cell_type": "markdown",
   "metadata": {},
   "source": [
    "### Score Graph"
   ]
  },
  {
   "cell_type": "code",
   "execution_count": null,
   "metadata": {
    "ExecuteTime": {
     "start_time": "2023-08-26T13:38:22.584362400Z"
    }
   },
   "outputs": [],
   "source": [
    "import matplotlib.pyplot as plt\n",
    "\n",
    "# Number of PCs to plot\n",
    "l = 2  # for m==2\n",
    "\n",
    "# Define the names of the PCs\n",
    "l_names = [\n",
    "    \"Vehicle Size and Capacity\",\n",
    "    \"Performance-Enhancing Characteristics\"\n",
    "]\n",
    "\n",
    "# Projecting original data onto the principal components\n",
    "Xworkdf_std_scores = pca_std.transform(Xworkdf_std)\n",
    "Xworkdf_mm_scores = pca_mm.transform(Xworkdf_mm)\n",
    "\n",
    "# Plotting for Xworkdf_std\n",
    "plt.figure(figsize=(10, 6))\n",
    "plt.scatter(Xworkdf_std_scores[:,0],Xworkdf_std_scores[:,1],alpha=0.3)\n",
    "plt.title(\"PCA with Standard Scaler\")\n",
    "plt.xlabel(l_names[0])\n",
    "plt.ylabel(l_names[1])\n",
    "plt.show()\n",
    "\n",
    "l=3 # for m>=3\n",
    "l_names = [\n",
    "    \"Enhanced Performance System\",\n",
    "    \"Advanced Technology Integration\",\n",
    "    \"Efficient Power Management\"\n",
    "]\n",
    "# Plotting for Xworkdf_mm\n",
    "fig = plt.figure(figsize=(10, 8))\n",
    "ax = fig.add_subplot(111, projection='3d')\n",
    "ax.scatter(Xworkdf_mm_scores[:,0],Xworkdf_mm_scores[:,1],Xworkdf_mm_scores[:,2],alpha=0.3)\n",
    "ax.set_title('PCA with MinMaxScaler')\n",
    "ax.set_xlabel(l_names[0])\n",
    "ax.set_ylabel(l_names[1])\n",
    "ax.set_zlabel(l_names[2])\n",
    "plt.show()\n"
   ]
  },
  {
   "cell_type": "markdown",
   "metadata": {},
   "source": [
    "## Exercise 5 (k-Means)"
   ]
  },
  {
   "cell_type": "code",
   "execution_count": null,
   "metadata": {
    "ExecuteTime": {
     "start_time": "2023-08-26T13:38:22.605307100Z"
    }
   },
   "outputs": [],
   "source": [
    "from sklearn.cluster import KMeans\n",
    "from sklearn.metrics import silhouette_score\n",
    "import warnings\n",
    "\n",
    "# Filter out FutureWarnings\n",
    "warnings.simplefilter(action='ignore', category=FutureWarning)\n",
    "\n",
    "# Range of k values to consider\n",
    "k_range = range(3, 11)\n",
    "\n",
    "# For Standard Scaler\n",
    "silhouette_scores_std = []\n",
    "for k in k_range:\n",
    "    kmeans = KMeans(n_clusters=k, random_state=289456)\n",
    "    labels = kmeans.fit_predict(Xworkdf_std_scores[:, :std_min_num_pcs])\n",
    "    silhouette_scores_std.append(silhouette_score(Xworkdf_std_scores[:, :std_min_num_pcs], labels))\n",
    "\n",
    "# For MinMax Scaler\n",
    "silhouette_scores_mm = []\n",
    "for k in k_range:\n",
    "    kmeans = KMeans(n_clusters=k, random_state=289456)\n",
    "    labels = kmeans.fit_predict(Xworkdf_mm_scores[:, :mm_min_num_pcs])\n",
    "    silhouette_scores_mm.append(silhouette_score(Xworkdf_mm_scores[:, :mm_min_num_pcs], labels))\n",
    "    \n",
    "# Find the index of the maximum silhouette score\n",
    "max_idx_std = silhouette_scores_std.index(max(silhouette_scores_std))\n",
    "max_idx_mm = silhouette_scores_mm.index(max(silhouette_scores_mm))\n",
    "\n",
    "# Fit k-means clustering models\n",
    "best_k_std = k_range[max_idx_std]  \n",
    "best_k_mm = k_range[max_idx_mm] \n",
    "\n",
    "print(\"Best k for Standard Scaler:\", best_k_std)\n",
    "print(\"Best k for MinMax Scaler:\", best_k_mm)"
   ]
  },
  {
   "cell_type": "code",
   "execution_count": null,
   "metadata": {
    "ExecuteTime": {
     "start_time": "2023-08-26T13:38:22.609426Z"
    }
   },
   "outputs": [],
   "source": [
    "plt.figure(figsize=(8, 6))\n",
    "plt.plot(k_range, silhouette_scores_std, marker='o', label='Standard Scaler')\n",
    "plt.plot(k_range, silhouette_scores_mm, marker='o', label='MinMax Scaler')\n",
    "\n",
    "plt.xlabel('Number of Clusters (k)')\n",
    "plt.ylabel('Silhouette Score')\n",
    "plt.title('Silhouette Score vs Number of Clusters')\n",
    "plt.xticks(k_range)\n",
    "plt.legend()\n",
    "\n",
    "\n",
    "\n",
    "# Annotate the highest silhouette scores with red star markers\n",
    "plt.annotate('Max Silhouette', (best_k_std, silhouette_scores_std[max_idx_std]),\n",
    "             xytext=(-40, -20), textcoords='offset points', color='red',\n",
    "             arrowprops=dict(arrowstyle='wedge,tail_width=0.7', facecolor='red'))\n",
    "\n",
    "plt.annotate('Max Silhouette', (best_k_mm, silhouette_scores_mm[max_idx_mm]),\n",
    "             xytext=(-40, -20), textcoords='offset points', color='red',\n",
    "             arrowprops=dict(arrowstyle='wedge,tail_width=0.7', facecolor='red'))\n",
    "\n",
    "plt.show()\n"
   ]
  },
  {
   "cell_type": "markdown",
   "metadata": {},
   "source": [
    "## Exercise 6 (Clusters and Centroid Interpretation and Visualization)"
   ]
  },
  {
   "cell_type": "code",
   "execution_count": null,
   "metadata": {
    "ExecuteTime": {
     "start_time": "2023-08-26T13:38:22.616277500Z"
    }
   },
   "outputs": [],
   "source": [
    "# Import necessary libraries\n",
    "from mpl_toolkits.mplot3d import Axes3D\n",
    "import matplotlib.pyplot as plt\n",
    "\n",
    "\n",
    "kmeans_std = KMeans(n_clusters=best_k_std, random_state=289456)\n",
    "kmeans_mm = KMeans(n_clusters=best_k_mm, random_state=289456)\n",
    "\n",
    "clusters_std = kmeans_std.fit_predict(Xworkdf_std_scores)\n",
    "clusters_mm = kmeans_mm.fit_predict(Xworkdf_mm_scores)\n",
    "\n",
    "# Get cluster centroids\n",
    "centroids_std = kmeans_std.cluster_centers_\n",
    "centroids_mm = kmeans_mm.cluster_centers_\n",
    "\n",
    "labels_std = kmeans_std.labels_\n",
    "labels_mm = kmeans_mm.labels_\n",
    "\n",
    "print(f'The best centroids for Xworkdf_std are:\\n{centroids_std}')\n",
    "print(f'The best centroids for Xworkdf_mm are:\\n{centroids_mm}')\n",
    "\n"
   ]
  },
  {
   "cell_type": "code",
   "execution_count": null,
   "metadata": {
    "ExecuteTime": {
     "start_time": "2023-08-26T13:38:22.623258800Z"
    }
   },
   "outputs": [],
   "source": [
    "l_names = [\n",
    "    \"Vehicle Size and Capacity\",\n",
    "    \"Performance-Enhancing Characteristics\"\n",
    "]\n",
    "\n",
    "# Plotting for Xworkdf_std\n",
    "plt.figure(figsize=(10, 6))\n",
    "\n",
    "# Assuming you have already created the scatter plot of the data points\n",
    "plt.scatter(Xworkdf_std_scores[:, 0], Xworkdf_std_scores[:, 1], alpha=0.3, label='Data Points')\n",
    "\n",
    "# Add centroids to the scatter plot\n",
    "plt.scatter(centroids_std[:, 0], centroids_std[:, 1], marker='X', s=100, c='red', label='Centroids')\n",
    "\n",
    "# Set labels and title\n",
    "plt.xlabel(l_names[0])\n",
    "plt.ylabel(l_names[1])\n",
    "plt.title(\"PCA with Standard Scaler\")\n",
    "plt.legend()\n",
    "\n",
    "plt.show()\n"
   ]
  },
  {
   "cell_type": "code",
   "execution_count": null,
   "metadata": {
    "ExecuteTime": {
     "start_time": "2023-08-26T13:38:22.647194800Z"
    }
   },
   "outputs": [],
   "source": [
    "l=3 # for m>=3\n",
    "l_names = [\n",
    "    \"Enhanced Performance System\",\n",
    "    \"Advanced Technology Integration\",\n",
    "    \"Efficient Power Management\"\n",
    "]\n",
    "fig = plt.figure(figsize=(10, 8))\n",
    "ax = fig.add_subplot(111, projection='3d')\n",
    "\n",
    "# Set the desired viewing angle\n",
    "ax.view_init(elev=20, azim=45)  # Adjust the 'elev' and 'azim' values as needed\n",
    "ax.scatter(Xworkdf_mm_scores[:,0],Xworkdf_mm_scores[:,1],Xworkdf_mm_scores[:,2],alpha=0.1,label='Data Points')\n",
    "\n",
    "\n",
    "# Add centroids to the scatter plot\n",
    "ax.scatter(centroids_mm[:, 0], centroids_mm[:, 1],centroids_mm[:, 2], marker='X', s=100, c='red', label='Centroids')\n",
    "\n",
    "# Set labels and title\n",
    "ax.set_title('PCA with MinMaxScaler')\n",
    "ax.set_xlabel(l_names[0])\n",
    "ax.set_ylabel(l_names[1])\n",
    "ax.set_zlabel(l_names[2])\n",
    "plt.legend()\n",
    "\n",
    "plt.show()"
   ]
  },
  {
   "cell_type": "markdown",
   "metadata": {},
   "source": [
    "# Exercise 7 - Optional (Clusters and Centroids Evaluation)"
   ]
  },
  {
   "cell_type": "markdown",
   "metadata": {},
   "source": [
    "## Internal Evaluation - Silhouette Score\n",
    "The silhouette score is a measure of how similar an object is to its own cluster (cohesion) compared to other clusters (separation). It ranges from -1 to 1, where a higher value indicates that the object is well matched to its own cluster and poorly matched to neighboring clusters."
   ]
  },
  {
   "cell_type": "code",
   "execution_count": null,
   "metadata": {
    "ExecuteTime": {
     "start_time": "2023-08-26T13:38:22.661157400Z"
    }
   },
   "outputs": [],
   "source": [
    "# For Xworkdf_std\n",
    "silhouette_std = silhouette_score(Xworkdf_std_scores, labels_std)\n",
    "print(\"Silhouette Score (Xworkdf_std):\", silhouette_std)\n",
    "\n",
    "# For Xworkdf_mm\n",
    "silhouette_mm = silhouette_score(Xworkdf_mm_scores, labels_mm)\n",
    "print(\"Silhouette Score (Xworkdf_mm):\", silhouette_mm)\n"
   ]
  },
  {
   "cell_type": "markdown",
   "metadata": {},
   "source": [
    "## External Evaluation - Label Distribution"
   ]
  },
  {
   "cell_type": "code",
   "execution_count": null,
   "metadata": {
    "ExecuteTime": {
     "start_time": "2023-08-26T13:38:22.669163400Z"
    }
   },
   "outputs": [],
   "source": [
    "labels_std"
   ]
  },
  {
   "cell_type": "code",
   "execution_count": null,
   "metadata": {
    "ExecuteTime": {
     "start_time": "2023-08-26T13:38:22.684096500Z"
    }
   },
   "outputs": [],
   "source": [
    "import numpy as np\n",
    "import matplotlib.pyplot as plt\n",
    "\n",
    "# Select the labels of interest (replace with your actual labels)\n",
    "selected_labels = labels_std\n",
    "\n",
    "# For Standard Scaler\n",
    "cluster_distribution_std = np.zeros((2, len(selected_labels)))\n",
    "\n",
    "for cluster_idx in range(2):\n",
    "    cluster_mask = labels_std == cluster_idx\n",
    "    cluster_labels = selected_labels[cluster_mask]\n",
    "    unique_labels, label_counts = np.unique(cluster_labels, return_counts=True)\n",
    "    cluster_distribution_std[cluster_idx, unique_labels] = label_counts / np.sum(label_counts)\n",
    "\n",
    "# For MinMax Scaler\n",
    "selected_labels = labels_mm\n",
    "cluster_distribution_mm = np.zeros((4, len(selected_labels)))\n",
    "\n",
    "for cluster_idx in range(4):\n",
    "    cluster_mask = labels_mm == cluster_idx\n",
    "    cluster_labels = selected_labels[cluster_mask]\n",
    "    unique_labels, label_counts = np.unique(cluster_labels, return_counts=True)\n",
    "    cluster_distribution_mm[cluster_idx, unique_labels] = label_counts / np.sum(label_counts)\n",
    "\n",
    "# Plot the distribution of labels in each cluster\n",
    "plt.figure(figsize=(12, 6))\n",
    "plt.subplot(1, 2, 1)\n",
    "plt.imshow(cluster_distribution_std, cmap='Blues', aspect='auto')\n",
    "plt.title('Cluster-Label Distribution (Standard Scaler)')\n",
    "plt.xlabel('Labels')\n",
    "plt.ylabel('Clusters')\n",
    "plt.colorbar()\n",
    "\n",
    "plt.subplot(1, 2, 2)\n",
    "plt.imshow(cluster_distribution_mm, cmap='Blues', aspect='auto')\n",
    "plt.title('Cluster-Label Distribution (MinMax Scaler)')\n",
    "plt.xlabel('Labels')\n",
    "plt.ylabel('Clusters')\n",
    "plt.colorbar()\n",
    "\n",
    "plt.tight_layout()\n",
    "plt.show()\n"
   ]
  },
  {
   "cell_type": "code",
   "execution_count": null,
   "metadata": {
    "ExecuteTime": {
     "start_time": "2023-08-26T13:38:22.705042500Z"
    }
   },
   "outputs": [],
   "source": [
    "import seaborn as sns\n",
    "import matplotlib.pyplot as plt\n",
    "\n",
    "# Function to plot label distribution within clusters\n",
    "def plot_label_distribution(df, clusters, label):\n",
    "    plt.figure(figsize=(12, 6))\n",
    "    sns.countplot(data=df, x=clusters, hue=label)\n",
    "    plt.title(f\"Label Distribution within Clusters ({label})\")\n",
    "    plt.xlabel(\"Cluster\")\n",
    "    plt.ylabel(\"Count\")\n",
    "    plt.legend(title=label)\n",
    "    plt.show()\n",
    "\n",
    "# For Xworkdf_std\n",
    "for label in ['Brand', 'Model', 'Year', 'Category', 'Rating']:\n",
    "    plot_label_distribution(Xworkdf_std, clusters_std, label)\n",
    "\n",
    "# For Xworkdf_mm\n",
    "for label in ['Brand', 'Model', 'Year', 'Category', 'Rating']:\n",
    "    plot_label_distribution(Xworkdf_mm, clusters_mm, label)\n"
   ]
  },
  {
   "cell_type": "code",
   "execution_count": null,
   "metadata": {
    "ExecuteTime": {
     "start_time": "2023-08-26T13:38:22.713020100Z"
    }
   },
   "outputs": [],
   "source": [
    "r=['Brand', 'Model', 'Year', 'Category', 'Rating']\n",
    "workdf_dropped[r].shape"
   ]
  },
  {
   "cell_type": "code",
   "execution_count": null,
   "metadata": {
    "ExecuteTime": {
     "start_time": "2023-08-26T13:38:22.719617800Z"
    }
   },
   "outputs": [],
   "source": [
    "Xworkdf_std.columns\n"
   ]
  },
  {
   "cell_type": "code",
   "execution_count": null,
   "metadata": {
    "ExecuteTime": {
     "start_time": "2023-08-26T13:38:22.726031100Z"
    }
   },
   "outputs": [],
   "source": [
    "\n",
    "\n",
    "# Concatenate the DataFrames horizontally\n",
    "Xworkdf_std = pd.concat([workdf_dropped[r], Xworkdf_std], axis=1)\n",
    "Xworkdf_mm = pd.concat([workdf_dropped[r], Xworkdf_mm], axis=1)\n",
    "\n"
   ]
  },
  {
   "cell_type": "code",
   "execution_count": null,
   "metadata": {
    "ExecuteTime": {
     "start_time": "2023-08-26T13:38:22.731969200Z"
    }
   },
   "outputs": [],
   "source": [
    "concatenated_df.shape"
   ]
  },
  {
   "cell_type": "code",
   "execution_count": null,
   "metadata": {
    "ExecuteTime": {
     "start_time": "2023-08-26T13:38:22.744933700Z"
    }
   },
   "outputs": [],
   "source": []
  }
 ],
 "metadata": {
  "kernelspec": {
   "display_name": "Python 3 (ipykernel)",
   "language": "python",
   "name": "python3"
  },
  "language_info": {
   "codemirror_mode": {
    "name": "ipython",
    "version": 3
   },
   "file_extension": ".py",
   "mimetype": "text/x-python",
   "name": "python",
   "nbconvert_exporter": "python",
   "pygments_lexer": "ipython3",
   "version": "3.9.6"
  }
 },
 "nbformat": 4,
 "nbformat_minor": 1
}
