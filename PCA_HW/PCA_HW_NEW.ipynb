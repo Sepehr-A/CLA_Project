{
 "cells": [
  {
   "cell_type": "markdown",
   "source": [
    "# Import Libs"
   ],
   "metadata": {
    "collapsed": false
   },
   "id": "b9792a0cf056c82d"
  },
  {
   "cell_type": "code",
   "outputs": [],
   "source": [
    "import random\n",
    "import pandas as pd\n",
    "import numpy as np\n"
   ],
   "metadata": {
    "collapsed": true,
    "ExecuteTime": {
     "end_time": "2024-01-16T20:27:19.148050600Z",
     "start_time": "2024-01-16T20:27:19.053051800Z"
    }
   },
   "id": "initial_id",
   "execution_count": 31
  },
  {
   "cell_type": "markdown",
   "source": [
    "# 0. Preparation (Setting the Random State)"
   ],
   "metadata": {
    "collapsed": false
   },
   "id": "16d2427905f5d223"
  },
  {
   "cell_type": "code",
   "outputs": [],
   "source": [
    "rs = min(289456, 274211)\n",
    "np.random.seed(rs)"
   ],
   "metadata": {
    "collapsed": false,
    "ExecuteTime": {
     "end_time": "2024-01-16T20:27:21.442761100Z",
     "start_time": "2024-01-16T20:27:21.369726Z"
    }
   },
   "id": "722f34f4fa3dd6a7",
   "execution_count": 32
  },
  {
   "cell_type": "markdown",
   "source": [
    "# Exercise 1 (Loading and Preparing the Data)"
   ],
   "metadata": {
    "collapsed": false
   },
   "id": "87c247187f587b20"
  },
  {
   "cell_type": "code",
   "outputs": [
    {
     "name": "stdout",
     "output_type": "stream",
     "text": [
      "Column to be dropped:  MntSweetProducts\n"
     ]
    }
   ],
   "source": [
    "# 1.1 Load the CSV file into a pandas DataFrame\n",
    "df_tot = pd.read_csv('cla4lsp_customers.csv', sep='\\t')\n",
    "\n",
    "# 1.2 Create a sub-DF workdf with 2/3 of the original dataframe's rows (randomly sampled)\n",
    "workdf = df_tot.sample(frac=2 / 3, random_state=rs)\n",
    "# 1.3 hard-code labels and feature\n",
    "labels = ['NumDealsPurchases', 'AcceptedCmp1', 'AcceptedCmp2', 'AcceptedCmp3', 'AcceptedCmp4',\n",
    "          'AcceptedCmp5', 'Recency', 'Complain', 'Recency']\n",
    "features = ['Education', 'Marital_Status', 'Year_Birth', 'Income', 'Kidhome', 'Teenhome', 'Dt_Customer', 'MntWines',\n",
    "            'MntFruits', 'MntMeatProducts', 'MntFishProducts', 'MntSweetProducts', 'MntGoldProds', 'NumWebPurchases',\n",
    "            'NumCatalogPurchases', 'NumStorePurchases', 'NumWebVisitsMonth']\n",
    "\n",
    "# 1.4 Remove one feature column randomly from spending or purchasing habits\n",
    "spending_columns = ['MntWines', 'MntFruits', 'MntMeatProducts', 'MntFishProducts',\n",
    "                    'MntSweetProducts', 'MntGoldProds', 'NumWebPurchases',\n",
    "                    'NumCatalogPurchases', 'NumStorePurchases']\n",
    "column_to_remove = np.random.choice(spending_columns)\n",
    "print(\"Column to be dropped: \", column_to_remove)\n",
    "features.remove(column_to_remove)\n",
    "workdf.drop([column_to_remove], axis=1, inplace=True)"
   ],
   "metadata": {
    "collapsed": false,
    "ExecuteTime": {
     "end_time": "2024-01-16T20:27:22.774448500Z",
     "start_time": "2024-01-16T20:27:22.720447100Z"
    }
   },
   "id": "7393a0b648502a90",
   "execution_count": 33
  },
  {
   "cell_type": "code",
   "outputs": [
    {
     "data": {
      "text/plain": "ID                      0\nYear_Birth              0\nEducation               0\nMarital_Status          0\nIncome                 17\nKidhome                 0\nTeenhome                0\nDt_Customer             0\nRecency                 0\nMntWines                0\nMntFruits               0\nMntMeatProducts         0\nMntFishProducts         0\nMntGoldProds            0\nNumDealsPurchases       0\nNumWebPurchases         0\nNumCatalogPurchases     0\nNumStorePurchases       0\nNumWebVisitsMonth       0\nAcceptedCmp3            0\nAcceptedCmp4            0\nAcceptedCmp5            0\nAcceptedCmp1            0\nAcceptedCmp2            0\nComplain                0\nZ_CostContact           0\nZ_Revenue               0\nResponse                0\ndtype: int64"
     },
     "execution_count": 34,
     "metadata": {},
     "output_type": "execute_result"
    }
   ],
   "source": [
    "workdf.isnull().sum()"
   ],
   "metadata": {
    "collapsed": false,
    "ExecuteTime": {
     "end_time": "2024-01-16T20:27:24.245090200Z",
     "start_time": "2024-01-16T20:27:24.182082Z"
    }
   },
   "id": "82e8e98b44ea7622",
   "execution_count": 34
  },
  {
   "cell_type": "markdown",
   "source": [
    "Since we have missing values in the income column we drop the missing values"
   ],
   "metadata": {
    "collapsed": false
   },
   "id": "defb8c949c7b3b6e"
  },
  {
   "cell_type": "code",
   "outputs": [
    {
     "data": {
      "text/plain": "ID                     0\nYear_Birth             0\nEducation              0\nMarital_Status         0\nIncome                 0\nKidhome                0\nTeenhome               0\nDt_Customer            0\nRecency                0\nMntWines               0\nMntFruits              0\nMntMeatProducts        0\nMntFishProducts        0\nMntGoldProds           0\nNumDealsPurchases      0\nNumWebPurchases        0\nNumCatalogPurchases    0\nNumStorePurchases      0\nNumWebVisitsMonth      0\nAcceptedCmp3           0\nAcceptedCmp4           0\nAcceptedCmp5           0\nAcceptedCmp1           0\nAcceptedCmp2           0\nComplain               0\nZ_CostContact          0\nZ_Revenue              0\nResponse               0\ndtype: int64"
     },
     "execution_count": 35,
     "metadata": {},
     "output_type": "execute_result"
    }
   ],
   "source": [
    "# 1.5 Clean the dataset from missing values in the feature columns\n",
    "workdf.dropna(inplace=True)\n",
    "workdf.isnull().sum()\n"
   ],
   "metadata": {
    "collapsed": false,
    "ExecuteTime": {
     "end_time": "2024-01-16T20:27:27.350761700Z",
     "start_time": "2024-01-16T20:27:27.147785700Z"
    }
   },
   "id": "c829e75c17af4d30",
   "execution_count": 35
  },
  {
   "cell_type": "markdown",
   "source": [
    "# Exercise 2 (Encoding of Categorical Data)"
   ],
   "metadata": {
    "collapsed": false
   },
   "id": "224056b794bda41"
  },
  {
   "cell_type": "code",
   "outputs": [
    {
     "data": {
      "text/plain": "['Education', 'Marital_Status', 'Dt_Customer']"
     },
     "execution_count": 36,
     "metadata": {},
     "output_type": "execute_result"
    }
   ],
   "source": [
    "categorical_columns = list(workdf.select_dtypes(include=['object']).columns)\n",
    "categorical_columns"
   ],
   "metadata": {
    "collapsed": false,
    "ExecuteTime": {
     "end_time": "2024-01-16T20:27:35.696111300Z",
     "start_time": "2024-01-16T20:27:35.662113100Z"
    }
   },
   "id": "c32c4b8790b968c4",
   "execution_count": 36
  },
  {
   "cell_type": "code",
   "outputs": [
    {
     "name": "stdout",
     "output_type": "stream",
     "text": [
      "Number of Unique values in 'Education':\n",
      "5\n",
      "\n",
      "Number of Unique values in 'Marital_Status':\n",
      "8\n",
      "\n",
      "Number of Unique values in 'Dt_Customer':\n",
      "609\n"
     ]
    }
   ],
   "source": [
    "for col in categorical_columns:\n",
    "    unique_values = workdf[col].unique()\n",
    "    print(f\"Number of Unique values in '{col}':\\n{len(unique_values)}\\n\")\n"
   ],
   "metadata": {
    "collapsed": false,
    "ExecuteTime": {
     "end_time": "2024-01-16T20:27:36.202627Z",
     "start_time": "2024-01-16T20:27:36.162631200Z"
    }
   },
   "id": "f228a551e058517b",
   "execution_count": 37
  },
  {
   "cell_type": "markdown",
   "source": [
    "1. Education:\n",
    "Suggested Encoding Method: Ordinal Encoding or One-Hot Encoding\n",
    "Reasoning:\n",
    "If there is an inherent order in the education levels (e.g., \"High School\" < \"Bachelor\" < \"Master\"), you might consider using Ordinal Encoding.\n",
    "If there is no specific order, and each education level is independent, One-Hot Encoding is often preferred.\n",
    "2. Marital_Status:\n",
    "Suggested Encoding Method: One-Hot Encoding\n",
    "Reasoning:\n",
    "Marital status typically doesn't have a natural order, making One-Hot Encoding a suitable choice.\n",
    "3. Dt_Customer:\n",
    "Suggested Encoding Method: Ordinal Encoding (if there's an order) or Feature Engineering\n",
    "Since this column represents dates, encoding methods are a bit different compared to traditional categorical variables. Instead of directly encoding the date, we'll extract useful features from it. Common features to extract include the year, month, day, and potentially others like day of the week.\n",
    "\n",
    "\n",
    "## Encoding for Dt_Customer:"
   ],
   "metadata": {
    "collapsed": false
   },
   "id": "f83d6f4db52f68f8"
  },
  {
   "cell_type": "code",
   "outputs": [
    {
     "data": {
      "text/plain": "         ID  Year_Birth   Education Marital_Status   Income  Kidhome  \\\n335   10151        1960  Graduation       Divorced  62204.0        0   \n798    3749        1973  Graduation       Together  73926.0        0   \n1707   1045        1965  Graduation       Together  52117.0        0   \n999    9097        1956  Graduation       Divorced  46086.0        0   \n1947   2495        1974      Master        Married  83891.0        0   \n...     ...         ...         ...            ...      ...      ...   \n1750   3571        1961         PhD       Together  63342.0        0   \n134    5290        1964         PhD        Married  41551.0        1   \n513    6036        1959      Master       Together  89120.0        0   \n2107    340        1970  Graduation       Divorced  72967.0        0   \n1224   2740        1958         PhD          Widow  33438.0        1   \n\n      Teenhome  Recency  MntWines  MntFruits  ...  AcceptedCmp1  AcceptedCmp2  \\\n335          2       38       317         46  ...             0             0   \n798          0       54       627         91  ...             0             0   \n1707         1       55       112         10  ...             0             0   \n999          1       34       244          8  ...             0             0   \n1947         1       24       217         38  ...             0             0   \n...        ...      ...       ...        ...  ...           ...           ...   \n1750         1       48       918         21  ...             0             0   \n134          1       51       220          0  ...             0             0   \n513          0       78      1168         92  ...             0             0   \n2107         1        1       158         35  ...             0             0   \n1224         1       81        62          1  ...             0             0   \n\n      Complain  Z_CostContact  Z_Revenue  Response  Dt_Customer_Year  \\\n335          0              3         11         0              2012   \n798          0              3         11         0              2013   \n1707         0              3         11         0              2012   \n999          0              3         11         0              2013   \n1947         0              3         11         0              2014   \n...        ...            ...        ...       ...               ...   \n1750         0              3         11         1              2012   \n134          0              3         11         0              2013   \n513          0              3         11         0              2014   \n2107         0              3         11         1              2012   \n1224         0              3         11         0              2013   \n\n      Dt_Customer_Month  Dt_Customer_Day  Dt_Customer_DayOfWeek  \n335                   9               12                      2  \n798                   3                2                      5  \n1707                  8               16                      3  \n999                  11                3                      6  \n1947                  6               20                      4  \n...                 ...              ...                    ...  \n1750                 10               16                      1  \n134                   8               14                      2  \n513                   3               17                      0  \n2107                 12               15                      5  \n1224                  9               22                      6  \n\n[1476 rows x 31 columns]",
      "text/html": "<div>\n<style scoped>\n    .dataframe tbody tr th:only-of-type {\n        vertical-align: middle;\n    }\n\n    .dataframe tbody tr th {\n        vertical-align: top;\n    }\n\n    .dataframe thead th {\n        text-align: right;\n    }\n</style>\n<table border=\"1\" class=\"dataframe\">\n  <thead>\n    <tr style=\"text-align: right;\">\n      <th></th>\n      <th>ID</th>\n      <th>Year_Birth</th>\n      <th>Education</th>\n      <th>Marital_Status</th>\n      <th>Income</th>\n      <th>Kidhome</th>\n      <th>Teenhome</th>\n      <th>Recency</th>\n      <th>MntWines</th>\n      <th>MntFruits</th>\n      <th>...</th>\n      <th>AcceptedCmp1</th>\n      <th>AcceptedCmp2</th>\n      <th>Complain</th>\n      <th>Z_CostContact</th>\n      <th>Z_Revenue</th>\n      <th>Response</th>\n      <th>Dt_Customer_Year</th>\n      <th>Dt_Customer_Month</th>\n      <th>Dt_Customer_Day</th>\n      <th>Dt_Customer_DayOfWeek</th>\n    </tr>\n  </thead>\n  <tbody>\n    <tr>\n      <th>335</th>\n      <td>10151</td>\n      <td>1960</td>\n      <td>Graduation</td>\n      <td>Divorced</td>\n      <td>62204.0</td>\n      <td>0</td>\n      <td>2</td>\n      <td>38</td>\n      <td>317</td>\n      <td>46</td>\n      <td>...</td>\n      <td>0</td>\n      <td>0</td>\n      <td>0</td>\n      <td>3</td>\n      <td>11</td>\n      <td>0</td>\n      <td>2012</td>\n      <td>9</td>\n      <td>12</td>\n      <td>2</td>\n    </tr>\n    <tr>\n      <th>798</th>\n      <td>3749</td>\n      <td>1973</td>\n      <td>Graduation</td>\n      <td>Together</td>\n      <td>73926.0</td>\n      <td>0</td>\n      <td>0</td>\n      <td>54</td>\n      <td>627</td>\n      <td>91</td>\n      <td>...</td>\n      <td>0</td>\n      <td>0</td>\n      <td>0</td>\n      <td>3</td>\n      <td>11</td>\n      <td>0</td>\n      <td>2013</td>\n      <td>3</td>\n      <td>2</td>\n      <td>5</td>\n    </tr>\n    <tr>\n      <th>1707</th>\n      <td>1045</td>\n      <td>1965</td>\n      <td>Graduation</td>\n      <td>Together</td>\n      <td>52117.0</td>\n      <td>0</td>\n      <td>1</td>\n      <td>55</td>\n      <td>112</td>\n      <td>10</td>\n      <td>...</td>\n      <td>0</td>\n      <td>0</td>\n      <td>0</td>\n      <td>3</td>\n      <td>11</td>\n      <td>0</td>\n      <td>2012</td>\n      <td>8</td>\n      <td>16</td>\n      <td>3</td>\n    </tr>\n    <tr>\n      <th>999</th>\n      <td>9097</td>\n      <td>1956</td>\n      <td>Graduation</td>\n      <td>Divorced</td>\n      <td>46086.0</td>\n      <td>0</td>\n      <td>1</td>\n      <td>34</td>\n      <td>244</td>\n      <td>8</td>\n      <td>...</td>\n      <td>0</td>\n      <td>0</td>\n      <td>0</td>\n      <td>3</td>\n      <td>11</td>\n      <td>0</td>\n      <td>2013</td>\n      <td>11</td>\n      <td>3</td>\n      <td>6</td>\n    </tr>\n    <tr>\n      <th>1947</th>\n      <td>2495</td>\n      <td>1974</td>\n      <td>Master</td>\n      <td>Married</td>\n      <td>83891.0</td>\n      <td>0</td>\n      <td>1</td>\n      <td>24</td>\n      <td>217</td>\n      <td>38</td>\n      <td>...</td>\n      <td>0</td>\n      <td>0</td>\n      <td>0</td>\n      <td>3</td>\n      <td>11</td>\n      <td>0</td>\n      <td>2014</td>\n      <td>6</td>\n      <td>20</td>\n      <td>4</td>\n    </tr>\n    <tr>\n      <th>...</th>\n      <td>...</td>\n      <td>...</td>\n      <td>...</td>\n      <td>...</td>\n      <td>...</td>\n      <td>...</td>\n      <td>...</td>\n      <td>...</td>\n      <td>...</td>\n      <td>...</td>\n      <td>...</td>\n      <td>...</td>\n      <td>...</td>\n      <td>...</td>\n      <td>...</td>\n      <td>...</td>\n      <td>...</td>\n      <td>...</td>\n      <td>...</td>\n      <td>...</td>\n      <td>...</td>\n    </tr>\n    <tr>\n      <th>1750</th>\n      <td>3571</td>\n      <td>1961</td>\n      <td>PhD</td>\n      <td>Together</td>\n      <td>63342.0</td>\n      <td>0</td>\n      <td>1</td>\n      <td>48</td>\n      <td>918</td>\n      <td>21</td>\n      <td>...</td>\n      <td>0</td>\n      <td>0</td>\n      <td>0</td>\n      <td>3</td>\n      <td>11</td>\n      <td>1</td>\n      <td>2012</td>\n      <td>10</td>\n      <td>16</td>\n      <td>1</td>\n    </tr>\n    <tr>\n      <th>134</th>\n      <td>5290</td>\n      <td>1964</td>\n      <td>PhD</td>\n      <td>Married</td>\n      <td>41551.0</td>\n      <td>1</td>\n      <td>1</td>\n      <td>51</td>\n      <td>220</td>\n      <td>0</td>\n      <td>...</td>\n      <td>0</td>\n      <td>0</td>\n      <td>0</td>\n      <td>3</td>\n      <td>11</td>\n      <td>0</td>\n      <td>2013</td>\n      <td>8</td>\n      <td>14</td>\n      <td>2</td>\n    </tr>\n    <tr>\n      <th>513</th>\n      <td>6036</td>\n      <td>1959</td>\n      <td>Master</td>\n      <td>Together</td>\n      <td>89120.0</td>\n      <td>0</td>\n      <td>0</td>\n      <td>78</td>\n      <td>1168</td>\n      <td>92</td>\n      <td>...</td>\n      <td>0</td>\n      <td>0</td>\n      <td>0</td>\n      <td>3</td>\n      <td>11</td>\n      <td>0</td>\n      <td>2014</td>\n      <td>3</td>\n      <td>17</td>\n      <td>0</td>\n    </tr>\n    <tr>\n      <th>2107</th>\n      <td>340</td>\n      <td>1970</td>\n      <td>Graduation</td>\n      <td>Divorced</td>\n      <td>72967.0</td>\n      <td>0</td>\n      <td>1</td>\n      <td>1</td>\n      <td>158</td>\n      <td>35</td>\n      <td>...</td>\n      <td>0</td>\n      <td>0</td>\n      <td>0</td>\n      <td>3</td>\n      <td>11</td>\n      <td>1</td>\n      <td>2012</td>\n      <td>12</td>\n      <td>15</td>\n      <td>5</td>\n    </tr>\n    <tr>\n      <th>1224</th>\n      <td>2740</td>\n      <td>1958</td>\n      <td>PhD</td>\n      <td>Widow</td>\n      <td>33438.0</td>\n      <td>1</td>\n      <td>1</td>\n      <td>81</td>\n      <td>62</td>\n      <td>1</td>\n      <td>...</td>\n      <td>0</td>\n      <td>0</td>\n      <td>0</td>\n      <td>3</td>\n      <td>11</td>\n      <td>0</td>\n      <td>2013</td>\n      <td>9</td>\n      <td>22</td>\n      <td>6</td>\n    </tr>\n  </tbody>\n</table>\n<p>1476 rows × 31 columns</p>\n</div>"
     },
     "execution_count": 38,
     "metadata": {},
     "output_type": "execute_result"
    }
   ],
   "source": [
    "workdf['Dt_Customer'] = pd.to_datetime(workdf['Dt_Customer'],format=\"%d-%m-%Y\")\n",
    "workdf['Dt_Customer_Year'] = workdf['Dt_Customer'].dt.year\n",
    "workdf['Dt_Customer_Month'] = workdf['Dt_Customer'].dt.month\n",
    "workdf['Dt_Customer_Day'] = workdf['Dt_Customer'].dt.day\n",
    "workdf['Dt_Customer_DayOfWeek'] = workdf['Dt_Customer'].dt.dayofweek\n",
    "\n",
    "# now that we're done we can drop Dt_Customer\n",
    "workdf.drop(\"Dt_Customer\",axis=1)\n",
    "workdf.columns"
   ],
   "metadata": {
    "collapsed": false,
    "ExecuteTime": {
     "end_time": "2024-01-16T20:27:37.284632300Z",
     "start_time": "2024-01-16T20:27:37.112629400Z"
    }
   },
   "id": "f11b2b417fcc6880",
   "execution_count": 38
  },
  {
   "cell_type": "code",
   "outputs": [],
   "source": [
    "categorical_cols = ['Education', 'Marital_Status']\n",
    "\n",
    "# Apply one-hot encoding\n",
    "workdf = pd.get_dummies(workdf, columns=categorical_cols, drop_first=True)"
   ],
   "metadata": {
    "collapsed": false,
    "ExecuteTime": {
     "end_time": "2024-01-16T20:29:59.128969100Z",
     "start_time": "2024-01-16T20:29:59.076965700Z"
    }
   },
   "id": "2b4acb10fcd44ddc",
   "execution_count": 39
  },
  {
   "cell_type": "code",
   "outputs": [
    {
     "data": {
      "text/plain": "         ID  Year_Birth   Income  Kidhome  Teenhome Dt_Customer  Recency  \\\n335   10151        1960  62204.0        0         2  2012-09-12       38   \n798    3749        1973  73926.0        0         0  2013-03-02       54   \n1707   1045        1965  52117.0        0         1  2012-08-16       55   \n999    9097        1956  46086.0        0         1  2013-11-03       34   \n1947   2495        1974  83891.0        0         1  2014-06-20       24   \n\n      MntWines  MntFruits  MntMeatProducts  ...  Education_Graduation  \\\n335        317         46              247  ...                  True   \n798        627         91              597  ...                  True   \n1707       112         10              107  ...                  True   \n999        244          8               32  ...                  True   \n1947       217         38              350  ...                 False   \n\n      Education_Master  Education_PhD  Marital_Status_Alone  \\\n335              False          False                 False   \n798              False          False                 False   \n1707             False          False                 False   \n999              False          False                 False   \n1947              True          False                 False   \n\n      Marital_Status_Divorced  Marital_Status_Married  Marital_Status_Single  \\\n335                      True                   False                  False   \n798                     False                   False                  False   \n1707                    False                   False                  False   \n999                      True                   False                  False   \n1947                    False                    True                  False   \n\n      Marital_Status_Together  Marital_Status_Widow  Marital_Status_YOLO  \n335                     False                 False                False  \n798                      True                 False                False  \n1707                     True                 False                False  \n999                     False                 False                False  \n1947                    False                 False                False  \n\n[5 rows x 41 columns]",
      "text/html": "<div>\n<style scoped>\n    .dataframe tbody tr th:only-of-type {\n        vertical-align: middle;\n    }\n\n    .dataframe tbody tr th {\n        vertical-align: top;\n    }\n\n    .dataframe thead th {\n        text-align: right;\n    }\n</style>\n<table border=\"1\" class=\"dataframe\">\n  <thead>\n    <tr style=\"text-align: right;\">\n      <th></th>\n      <th>ID</th>\n      <th>Year_Birth</th>\n      <th>Income</th>\n      <th>Kidhome</th>\n      <th>Teenhome</th>\n      <th>Dt_Customer</th>\n      <th>Recency</th>\n      <th>MntWines</th>\n      <th>MntFruits</th>\n      <th>MntMeatProducts</th>\n      <th>...</th>\n      <th>Education_Graduation</th>\n      <th>Education_Master</th>\n      <th>Education_PhD</th>\n      <th>Marital_Status_Alone</th>\n      <th>Marital_Status_Divorced</th>\n      <th>Marital_Status_Married</th>\n      <th>Marital_Status_Single</th>\n      <th>Marital_Status_Together</th>\n      <th>Marital_Status_Widow</th>\n      <th>Marital_Status_YOLO</th>\n    </tr>\n  </thead>\n  <tbody>\n    <tr>\n      <th>335</th>\n      <td>10151</td>\n      <td>1960</td>\n      <td>62204.0</td>\n      <td>0</td>\n      <td>2</td>\n      <td>2012-09-12</td>\n      <td>38</td>\n      <td>317</td>\n      <td>46</td>\n      <td>247</td>\n      <td>...</td>\n      <td>True</td>\n      <td>False</td>\n      <td>False</td>\n      <td>False</td>\n      <td>True</td>\n      <td>False</td>\n      <td>False</td>\n      <td>False</td>\n      <td>False</td>\n      <td>False</td>\n    </tr>\n    <tr>\n      <th>798</th>\n      <td>3749</td>\n      <td>1973</td>\n      <td>73926.0</td>\n      <td>0</td>\n      <td>0</td>\n      <td>2013-03-02</td>\n      <td>54</td>\n      <td>627</td>\n      <td>91</td>\n      <td>597</td>\n      <td>...</td>\n      <td>True</td>\n      <td>False</td>\n      <td>False</td>\n      <td>False</td>\n      <td>False</td>\n      <td>False</td>\n      <td>False</td>\n      <td>True</td>\n      <td>False</td>\n      <td>False</td>\n    </tr>\n    <tr>\n      <th>1707</th>\n      <td>1045</td>\n      <td>1965</td>\n      <td>52117.0</td>\n      <td>0</td>\n      <td>1</td>\n      <td>2012-08-16</td>\n      <td>55</td>\n      <td>112</td>\n      <td>10</td>\n      <td>107</td>\n      <td>...</td>\n      <td>True</td>\n      <td>False</td>\n      <td>False</td>\n      <td>False</td>\n      <td>False</td>\n      <td>False</td>\n      <td>False</td>\n      <td>True</td>\n      <td>False</td>\n      <td>False</td>\n    </tr>\n    <tr>\n      <th>999</th>\n      <td>9097</td>\n      <td>1956</td>\n      <td>46086.0</td>\n      <td>0</td>\n      <td>1</td>\n      <td>2013-11-03</td>\n      <td>34</td>\n      <td>244</td>\n      <td>8</td>\n      <td>32</td>\n      <td>...</td>\n      <td>True</td>\n      <td>False</td>\n      <td>False</td>\n      <td>False</td>\n      <td>True</td>\n      <td>False</td>\n      <td>False</td>\n      <td>False</td>\n      <td>False</td>\n      <td>False</td>\n    </tr>\n    <tr>\n      <th>1947</th>\n      <td>2495</td>\n      <td>1974</td>\n      <td>83891.0</td>\n      <td>0</td>\n      <td>1</td>\n      <td>2014-06-20</td>\n      <td>24</td>\n      <td>217</td>\n      <td>38</td>\n      <td>350</td>\n      <td>...</td>\n      <td>False</td>\n      <td>True</td>\n      <td>False</td>\n      <td>False</td>\n      <td>False</td>\n      <td>True</td>\n      <td>False</td>\n      <td>False</td>\n      <td>False</td>\n      <td>False</td>\n    </tr>\n  </tbody>\n</table>\n<p>5 rows × 41 columns</p>\n</div>"
     },
     "execution_count": 40,
     "metadata": {},
     "output_type": "execute_result"
    }
   ],
   "source": [
    "workdf.head()"
   ],
   "metadata": {
    "collapsed": false,
    "ExecuteTime": {
     "end_time": "2024-01-16T20:30:48.171597600Z",
     "start_time": "2024-01-16T20:30:45.923539900Z"
    }
   },
   "id": "2584822990cd2ccb",
   "execution_count": 40
  },
  {
   "cell_type": "code",
   "outputs": [],
   "source": [],
   "metadata": {
    "collapsed": false
   },
   "id": "46d873580f836048"
  }
 ],
 "metadata": {
  "kernelspec": {
   "display_name": "Python 3",
   "language": "python",
   "name": "python3"
  },
  "language_info": {
   "codemirror_mode": {
    "name": "ipython",
    "version": 2
   },
   "file_extension": ".py",
   "mimetype": "text/x-python",
   "name": "python",
   "nbconvert_exporter": "python",
   "pygments_lexer": "ipython2",
   "version": "2.7.6"
  }
 },
 "nbformat": 4,
 "nbformat_minor": 5
}
