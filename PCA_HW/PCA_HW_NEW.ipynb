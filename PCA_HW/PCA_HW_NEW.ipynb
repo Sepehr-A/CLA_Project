{
 "cells": [
  {
   "cell_type": "markdown",
   "source": [
    "# Import Libs"
   ],
   "metadata": {
    "collapsed": false
   },
   "id": "b9792a0cf056c82d"
  },
  {
   "cell_type": "code",
   "outputs": [],
   "source": [
    "import random\n",
    "import pandas as pd\n",
    "import numpy as np\n"
   ],
   "metadata": {
    "collapsed": true,
    "ExecuteTime": {
     "end_time": "2024-01-16T19:42:37.505377Z",
     "start_time": "2024-01-16T19:42:37.438361300Z"
    }
   },
   "id": "initial_id",
   "execution_count": 2
  },
  {
   "cell_type": "markdown",
   "source": [
    "# 0. Preparation (Setting the Random State)"
   ],
   "metadata": {
    "collapsed": false
   },
   "id": "16d2427905f5d223"
  },
  {
   "cell_type": "code",
   "outputs": [],
   "source": [
    "rs = min(289456, 274211)\n",
    "np.random.seed(rs)"
   ],
   "metadata": {
    "collapsed": false,
    "ExecuteTime": {
     "end_time": "2024-01-16T19:42:37.634668800Z",
     "start_time": "2024-01-16T19:42:37.488357800Z"
    }
   },
   "id": "722f34f4fa3dd6a7",
   "execution_count": 3
  },
  {
   "cell_type": "markdown",
   "source": [
    "# Exercise 1 (Loading and Preparing the Data)"
   ],
   "metadata": {
    "collapsed": false
   },
   "id": "87c247187f587b20"
  },
  {
   "cell_type": "code",
   "outputs": [
    {
     "name": "stdout",
     "output_type": "stream",
     "text": [
      "Column to be dropped:  MntSweetProducts\n"
     ]
    }
   ],
   "source": [
    "# 1.1 Load the CSV file into a pandas DataFrame\n",
    "df_tot = pd.read_csv('cla4lsp_customers.csv', sep='\\t')\n",
    "\n",
    "# 1.2 Create a sub-DF workdf with 2/3 of the original dataframe's rows (randomly sampled)\n",
    "workdf = df_tot.sample(frac=2 / 3, random_state=rs)\n",
    "# 1.3 hard-code labels and feature\n",
    "labels = ['NumDealsPurchases', 'AcceptedCmp1', 'AcceptedCmp2', 'AcceptedCmp3', 'AcceptedCmp4',\n",
    "          'AcceptedCmp5', 'Recency', 'Complain', 'Recency']\n",
    "features = ['Education', 'Marital_Status', 'Year_Birth', 'Income', 'Kidhome', 'Teenhome', 'Dt_Customer', 'MntWines',\n",
    "            'MntFruits', 'MntMeatProducts', 'MntFishProducts', 'MntSweetProducts', 'MntGoldProds', 'NumWebPurchases',\n",
    "            'NumCatalogPurchases', 'NumStorePurchases', 'NumWebVisitsMonth']\n",
    "\n",
    "# 1.4 Remove one feature column randomly from spending or purchasing habits\n",
    "spending_columns = ['MntWines', 'MntFruits', 'MntMeatProducts', 'MntFishProducts',\n",
    "                    'MntSweetProducts', 'MntGoldProds', 'NumWebPurchases',\n",
    "                    'NumCatalogPurchases', 'NumStorePurchases']\n",
    "column_to_remove = np.random.choice(spending_columns)\n",
    "print(\"Column to be dropped: \", column_to_remove)\n",
    "features.remove(column_to_remove)\n",
    "workdf.drop([column_to_remove], axis=1, inplace=True)"
   ],
   "metadata": {
    "collapsed": false,
    "ExecuteTime": {
     "end_time": "2024-01-16T19:42:38.422124Z",
     "start_time": "2024-01-16T19:42:37.594360100Z"
    }
   },
   "id": "7393a0b648502a90",
   "execution_count": 4
  },
  {
   "cell_type": "code",
   "outputs": [
    {
     "data": {
      "text/plain": "ID                      0\nYear_Birth              0\nEducation               0\nMarital_Status          0\nIncome                 17\nKidhome                 0\nTeenhome                0\nDt_Customer             0\nRecency                 0\nMntWines                0\nMntFruits               0\nMntMeatProducts         0\nMntFishProducts         0\nMntGoldProds            0\nNumDealsPurchases       0\nNumWebPurchases         0\nNumCatalogPurchases     0\nNumStorePurchases       0\nNumWebVisitsMonth       0\nAcceptedCmp3            0\nAcceptedCmp4            0\nAcceptedCmp5            0\nAcceptedCmp1            0\nAcceptedCmp2            0\nComplain                0\nZ_CostContact           0\nZ_Revenue               0\nResponse                0\ndtype: int64"
     },
     "execution_count": 5,
     "metadata": {},
     "output_type": "execute_result"
    }
   ],
   "source": [
    "workdf.isnull().sum()"
   ],
   "metadata": {
    "collapsed": false,
    "ExecuteTime": {
     "end_time": "2024-01-16T19:42:39.265639100Z",
     "start_time": "2024-01-16T19:42:38.392123400Z"
    }
   },
   "id": "82e8e98b44ea7622",
   "execution_count": 5
  },
  {
   "cell_type": "markdown",
   "source": [
    "Since we have missing values in the income column we drop the missing values"
   ],
   "metadata": {
    "collapsed": false
   },
   "id": "defb8c949c7b3b6e"
  },
  {
   "cell_type": "code",
   "outputs": [
    {
     "data": {
      "text/plain": "ID                     0\nYear_Birth             0\nEducation              0\nMarital_Status         0\nIncome                 0\nKidhome                0\nTeenhome               0\nDt_Customer            0\nRecency                0\nMntWines               0\nMntFruits              0\nMntMeatProducts        0\nMntFishProducts        0\nMntGoldProds           0\nNumDealsPurchases      0\nNumWebPurchases        0\nNumCatalogPurchases    0\nNumStorePurchases      0\nNumWebVisitsMonth      0\nAcceptedCmp3           0\nAcceptedCmp4           0\nAcceptedCmp5           0\nAcceptedCmp1           0\nAcceptedCmp2           0\nComplain               0\nZ_CostContact          0\nZ_Revenue              0\nResponse               0\ndtype: int64"
     },
     "execution_count": 6,
     "metadata": {},
     "output_type": "execute_result"
    }
   ],
   "source": [
    "# 1.5 Clean the dataset from missing values in the feature columns\n",
    "workdf.dropna(inplace=True)\n",
    "workdf.isnull().sum()\n"
   ],
   "metadata": {
    "collapsed": false,
    "ExecuteTime": {
     "end_time": "2024-01-16T19:42:39.755262500Z",
     "start_time": "2024-01-16T19:42:39.285639800Z"
    }
   },
   "id": "c829e75c17af4d30",
   "execution_count": 6
  },
  {
   "cell_type": "markdown",
   "source": [
    "# Exercise 2 (Encoding of Categorical Data)"
   ],
   "metadata": {
    "collapsed": false
   },
   "id": "224056b794bda41"
  },
  {
   "cell_type": "code",
   "outputs": [
    {
     "data": {
      "text/plain": "['Education', 'Marital_Status', 'Dt_Customer']"
     },
     "execution_count": 12,
     "metadata": {},
     "output_type": "execute_result"
    }
   ],
   "source": [
    "categorical_columns = list(workdf.select_dtypes(include=['object']).columns)\n",
    "categorical_columns"
   ],
   "metadata": {
    "collapsed": false,
    "ExecuteTime": {
     "end_time": "2024-01-16T19:46:44.696293Z",
     "start_time": "2024-01-16T19:46:44.503291800Z"
    }
   },
   "id": "c32c4b8790b968c4",
   "execution_count": 12
  },
  {
   "cell_type": "code",
   "outputs": [
    {
     "name": "stdout",
     "output_type": "stream",
     "text": [
      "Number of Unique values in 'Education':\n",
      "5\n",
      "\n",
      "Number of Unique values in 'Marital_Status':\n",
      "8\n",
      "\n",
      "Number of Unique values in 'Dt_Customer':\n",
      "609\n"
     ]
    }
   ],
   "source": [
    "for col in categorical_columns:\n",
    "    unique_values = workdf[col].unique()\n",
    "    print(f\"Number of Unique values in '{col}':\\n{len(unique_values)}\\n\")\n"
   ],
   "metadata": {
    "collapsed": false,
    "ExecuteTime": {
     "end_time": "2024-01-16T19:47:42.585016600Z",
     "start_time": "2024-01-16T19:47:42.544020300Z"
    }
   },
   "id": "f228a551e058517b",
   "execution_count": 15
  },
  {
   "cell_type": "markdown",
   "source": [
    "1. Education:\n",
    "Suggested Encoding Method: Ordinal Encoding or One-Hot Encoding\n",
    "Reasoning:\n",
    "If there is an inherent order in the education levels (e.g., \"High School\" < \"Bachelor\" < \"Master\"), you might consider using Ordinal Encoding.\n",
    "If there is no specific order, and each education level is independent, One-Hot Encoding is often preferred.\n",
    "2. Marital_Status:\n",
    "Suggested Encoding Method: One-Hot Encoding\n",
    "Reasoning:\n",
    "Marital status typically doesn't have a natural order, making One-Hot Encoding a suitable choice."
   ],
   "metadata": {
    "collapsed": false
   },
   "id": "f83d6f4db52f68f8"
  },
  {
   "cell_type": "code",
   "outputs": [],
   "source": [],
   "metadata": {
    "collapsed": false
   },
   "id": "f11b2b417fcc6880"
  }
 ],
 "metadata": {
  "kernelspec": {
   "display_name": "Python 3",
   "language": "python",
   "name": "python3"
  },
  "language_info": {
   "codemirror_mode": {
    "name": "ipython",
    "version": 2
   },
   "file_extension": ".py",
   "mimetype": "text/x-python",
   "name": "python",
   "nbconvert_exporter": "python",
   "pygments_lexer": "ipython2",
   "version": "2.7.6"
  }
 },
 "nbformat": 4,
 "nbformat_minor": 5
}
